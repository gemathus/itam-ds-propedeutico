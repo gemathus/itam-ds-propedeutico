{
 "cells": [
  {
   "cell_type": "markdown",
   "metadata": {},
   "source": [
    "# Práctica 1\n",
    "### Ejercicio 1: Core Python"
   ]
  },
  {
   "cell_type": "markdown",
   "metadata": {},
   "source": [
    "Temas:\n",
    "1. Variables, strings, tuples, listas.\n",
    "2. Operadores aritméticos y operadores de comparación.\n",
    "3. Condicionales.\n",
    "4. Loops.\n",
    "5. Conversión de tipo.\n",
    "6. Funciones matemáticas.\n",
    "7. Input/Output.\n",
    "8. Abrir/Cerrar un archivo.\n",
    "9. Control de errores.\n",
    "---\n",
    "---\n",
    "---\n",
    "## 1. Variables, strings, tuples, listas\n",
    "### 1.1. Variables y 1.2. Strings"
   ]
  },
  {
   "cell_type": "code",
   "execution_count": 79,
   "metadata": {},
   "outputs": [
    {
     "name": "stdout",
     "output_type": "stream",
     "text": [
      "5\n",
      "1.5\n",
      "l\n"
     ]
    }
   ],
   "source": [
    "#variables numéricas\n",
    "a = 5\n",
    "b = 1.5\n",
    "print(a) #int\n",
    "print(b) #float\n",
    "\n",
    "#varibales tipo string\n",
    "saludo_1 = \"Hola\"\n",
    "saludo_2 = \"mundo!\"\n",
    "\n",
    "#accediendo a un caracter mediante su indice\n",
    "print(saludo_1[2])"
   ]
  },
  {
   "cell_type": "markdown",
   "metadata": {},
   "source": [
    "**Los strings son inmutables, por lo tanto, no podemos reasignar un caracter de un string a otro**\n",
    "\n",
    "```\n",
    "saludo_1[0] = 'X' \n",
    "```\n",
    "> Esto es completamente **INCORRECTO**"
   ]
  },
  {
   "cell_type": "code",
   "execution_count": 80,
   "metadata": {},
   "outputs": [
    {
     "name": "stdout",
     "output_type": "stream",
     "text": [
      "Hola mundo!\n"
     ]
    }
   ],
   "source": [
    "#concatenación de strings\n",
    "saludo_completo = saludo_1 + \" \" + saludo_2\n",
    "print(saludo_completo)"
   ]
  },
  {
   "cell_type": "markdown",
   "metadata": {},
   "source": [
    "***\n",
    "\n",
    "### 1.3. Tuplas\n",
    "La tupla consiste en una secuencia de _objetos arbitrarios_ separados por coma y rodeados de paréntesis"
   ]
  },
  {
   "cell_type": "code",
   "execution_count": 81,
   "metadata": {},
   "outputs": [
    {
     "name": "stdout",
     "output_type": "stream",
     "text": [
      "('Gerardo', 'Mathus', (1994, 1, 24))\n"
     ]
    }
   ],
   "source": [
    "#ejemplo de una tupla que contiene dos strings y una tupla\n",
    "persona = ('Gerardo', 'Mathus', (1994,1,24))\n",
    "print(persona)"
   ]
  },
  {
   "cell_type": "code",
   "execution_count": 82,
   "metadata": {},
   "outputs": [
    {
     "name": "stdout",
     "output_type": "stream",
     "text": [
      "Nombre: Gerardo\n",
      "Apellido: Mathus\n",
      "Fecha de nacimiento: (1994, 1, 24)\n"
     ]
    }
   ],
   "source": [
    "#Desempaquetar la tupla\n",
    "nombre, apellido, fecha_nacimiento = persona\n",
    "\n",
    "#el objeto [0] de la tupla se asigna a nombre\n",
    "#el objeto [1] de la tupla se asigna a apellido\n",
    "#el objeto [2] de la tupla se asigna a fecha_nacimiento\n",
    "print(\"Nombre:\",nombre)\n",
    "print(\"Apellido:\", apellido)\n",
    "print(\"Fecha de nacimiento:\", fecha_nacimiento)"
   ]
  },
  {
   "cell_type": "code",
   "execution_count": 83,
   "metadata": {},
   "outputs": [
    {
     "name": "stdout",
     "output_type": "stream",
     "text": [
      "mes: 1\n"
     ]
    }
   ],
   "source": [
    "#Obtener el mes de la fecha de nacimiento (el segundo elemento de la tupla)\n",
    "mes = fecha_nacimiento[1]\n",
    "print(\"mes:\",mes)"
   ]
  },
  {
   "cell_type": "code",
   "execution_count": 84,
   "metadata": {},
   "outputs": [
    {
     "name": "stdout",
     "output_type": "stream",
     "text": [
      "mes: 1\n"
     ]
    }
   ],
   "source": [
    "#o bien\n",
    "mes = persona[2][1]\n",
    "print(\"mes:\",mes)"
   ]
  },
  {
   "cell_type": "markdown",
   "metadata": {},
   "source": [
    "***\n",
    "\n",
    "### 1.4. Listas\n",
    "Una lista es muy similar a una tupla, pero es mutable. Es decir, podemos agregar, eliminar, o editar elementos."
   ]
  },
  {
   "cell_type": "code",
   "execution_count": 85,
   "metadata": {},
   "outputs": [
    {
     "name": "stdout",
     "output_type": "stream",
     "text": [
      "[1.0, 2.0, 3.0, 4.0]\n"
     ]
    }
   ],
   "source": [
    "a = [1.0, 2.0, 3.0]    #crear una lista\n",
    "a.append(4.0)          #agregamos 4.0 a la lista\n",
    "print(a)"
   ]
  },
  {
   "cell_type": "code",
   "execution_count": 86,
   "metadata": {},
   "outputs": [
    {
     "name": "stdout",
     "output_type": "stream",
     "text": [
      "[0.0, 1.0, 2.0, 3.0, 4.0]\n"
     ]
    }
   ],
   "source": [
    "a.insert(0,0.0)        #insertamos 0.0 en la posición 0 (índice 0)\n",
    "print(a)"
   ]
  },
  {
   "cell_type": "code",
   "execution_count": 87,
   "metadata": {},
   "outputs": [
    {
     "name": "stdout",
     "output_type": "stream",
     "text": [
      "5\n"
     ]
    }
   ],
   "source": [
    "print(len(a))          #longitud de la lista"
   ]
  },
  {
   "cell_type": "code",
   "execution_count": 88,
   "metadata": {},
   "outputs": [
    {
     "name": "stdout",
     "output_type": "stream",
     "text": [
      "[2.0, 3.0]\n"
     ]
    }
   ],
   "source": [
    "print(a[2:4])         #imprime a partir del elmento 1 hasta (3-1)"
   ]
  },
  {
   "cell_type": "code",
   "execution_count": 89,
   "metadata": {},
   "outputs": [
    {
     "name": "stdout",
     "output_type": "stream",
     "text": [
      "[0.0, 1.0, 1.0, 1.0, 1.0, 4.0]\n"
     ]
    }
   ],
   "source": [
    "a[2:4] = [1.0, 1.0, 1.0] #modificar los elementos selecccionados\n",
    "print(a)"
   ]
  },
  {
   "cell_type": "markdown",
   "metadata": {},
   "source": [
    "\n",
    "Una matriz se puede representar como una lista de listas"
   ]
  },
  {
   "cell_type": "code",
   "execution_count": 90,
   "metadata": {},
   "outputs": [
    {
     "name": "stdout",
     "output_type": "stream",
     "text": [
      "[[1, 2, 3], [4, 5, 6], [7, 8, 9]]\n"
     ]
    }
   ],
   "source": [
    "a = [\n",
    " [1, 2, 3],\n",
    " [4, 5, 6],\n",
    " [7, 8, 9]\n",
    "]\n",
    "print(a)"
   ]
  },
  {
   "cell_type": "code",
   "execution_count": 91,
   "metadata": {},
   "outputs": [
    {
     "name": "stdout",
     "output_type": "stream",
     "text": [
      "[4, 5, 6]\n"
     ]
    }
   ],
   "source": [
    "print(a[1]) #imprime la segunda fila"
   ]
  },
  {
   "cell_type": "code",
   "execution_count": 92,
   "metadata": {},
   "outputs": [
    {
     "name": "stdout",
     "output_type": "stream",
     "text": [
      "6\n"
     ]
    }
   ],
   "source": [
    "print(a[1][2]) #imprime el terer elemento de la segunda fila"
   ]
  },
  {
   "cell_type": "markdown",
   "metadata": {},
   "source": [
    "\n",
    "\n",
    "---\n",
    "## 2. Operadores aritméticos y de comparación\n",
    "### 2.1. Operadores aritméticos"
   ]
  },
  {
   "cell_type": "code",
   "execution_count": 93,
   "metadata": {},
   "outputs": [
    {
     "name": "stdout",
     "output_type": "stream",
     "text": [
      "Hola Hola Hola \n"
     ]
    }
   ],
   "source": [
    "s = 'Hola '\n",
    "t = 'Amigo '\n",
    "a = [1,2,3]\n",
    "\n",
    "print (s * 3) #repetir un string 3 veces"
   ]
  },
  {
   "cell_type": "code",
   "execution_count": 94,
   "metadata": {},
   "outputs": [
    {
     "name": "stdout",
     "output_type": "stream",
     "text": [
      "[1, 2, 3, 1, 2, 3, 1, 2, 3]\n"
     ]
    }
   ],
   "source": [
    "print(a * 3) #repetir una lista 3 veces"
   ]
  },
  {
   "cell_type": "code",
   "execution_count": 95,
   "metadata": {},
   "outputs": [
    {
     "name": "stdout",
     "output_type": "stream",
     "text": [
      "[1, 2, 3, 4, 5]\n"
     ]
    }
   ],
   "source": [
    "print(a + [4, 5]) #agregar elementos a una lista"
   ]
  },
  {
   "cell_type": "code",
   "execution_count": 96,
   "metadata": {},
   "outputs": [
    {
     "name": "stdout",
     "output_type": "stream",
     "text": [
      "Hola Amigo \n"
     ]
    }
   ],
   "source": [
    "print(s + t) #concatenación de strings"
   ]
  },
  {
   "cell_type": "markdown",
   "metadata": {},
   "source": [
    "Podemos usar asignación especial como se hace en C"
   ]
  },
  {
   "cell_type": "markdown",
   "metadata": {},
   "source": [
    "```\n",
    "a += b    #a = a + b\n",
    "a -= b    #a = a - b\n",
    "a /= b    #a = a / b\n",
    "a *= b    #a = a * b\n",
    "a **= b   #a = a ** b\n",
    "a %= b    #a = a % b\n",
    "```\n",
    "\n",
    "### 2.1. Operadores de comparación"
   ]
  },
  {
   "cell_type": "code",
   "execution_count": 97,
   "metadata": {},
   "outputs": [
    {
     "name": "stdout",
     "output_type": "stream",
     "text": [
      "True\n"
     ]
    }
   ],
   "source": [
    "a = 2\n",
    "b = 1.99\n",
    "c = '2'\n",
    "print(a > b)"
   ]
  },
  {
   "cell_type": "code",
   "execution_count": 98,
   "metadata": {},
   "outputs": [
    {
     "name": "stdout",
     "output_type": "stream",
     "text": [
      "False\n"
     ]
    }
   ],
   "source": [
    "print(a == c)"
   ]
  },
  {
   "cell_type": "code",
   "execution_count": 99,
   "metadata": {},
   "outputs": [
    {
     "name": "stdout",
     "output_type": "stream",
     "text": [
      "True\n"
     ]
    }
   ],
   "source": [
    "print((a > b) and (a != c))"
   ]
  },
  {
   "cell_type": "code",
   "execution_count": 100,
   "metadata": {},
   "outputs": [
    {
     "name": "stdout",
     "output_type": "stream",
     "text": [
      "True\n"
     ]
    }
   ],
   "source": [
    "print((a > b) or (a == b))"
   ]
  },
  {
   "cell_type": "code",
   "execution_count": null,
   "metadata": {},
   "outputs": [],
   "source": []
  },
  {
   "cell_type": "code",
   "execution_count": null,
   "metadata": {},
   "outputs": [],
   "source": []
  }
 ],
 "metadata": {
  "kernelspec": {
   "display_name": "Python 3",
   "language": "python",
   "name": "python3"
  },
  "language_info": {
   "codemirror_mode": {
    "name": "ipython",
    "version": 3
   },
   "file_extension": ".py",
   "mimetype": "text/x-python",
   "name": "python",
   "nbconvert_exporter": "python",
   "pygments_lexer": "ipython3",
   "version": "3.6.8"
  }
 },
 "nbformat": 4,
 "nbformat_minor": 2
}
