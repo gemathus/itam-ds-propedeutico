{
 "cells": [
  {
   "cell_type": "markdown",
   "metadata": {},
   "source": [
    "# Práctica 1\n",
    "### Ejercicio 1: Core Python"
   ]
  },
  {
   "cell_type": "markdown",
   "metadata": {},
   "source": [
    "Temas:\n",
    "1. Variables, strings, tuples, listas.\n",
    "2. Operadores aritméticos y operadores de comparación.\n",
    "3. Condicionales.\n",
    "4. Loops.\n",
    "5. Conversión de tipo.\n",
    "6. Funciones matemáticas.\n",
    "7. Input/Output.\n",
    "8. Abrir/Cerrar un archivo.\n",
    "9. Control de errores.\n",
    "---\n",
    "---\n",
    "---\n",
    "## 1. Variables, strings, tuples, listas\n",
    "### 1.1. Variables y 1.2. Strings"
   ]
  },
  {
   "cell_type": "code",
   "execution_count": 79,
   "metadata": {},
   "outputs": [
    {
     "name": "stdout",
     "output_type": "stream",
     "text": [
      "5\n",
      "1.5\n",
      "l\n"
     ]
    }
   ],
   "source": [
    "#variables numéricas\n",
    "a = 5\n",
    "b = 1.5\n",
    "print(a) #int\n",
    "print(b) #float\n",
    "\n",
    "#varibales tipo string\n",
    "saludo_1 = \"Hola\"\n",
    "saludo_2 = \"mundo!\"\n",
    "\n",
    "#accediendo a un caracter mediante su indice\n",
    "print(saludo_1[2])"
   ]
  },
  {
   "cell_type": "markdown",
   "metadata": {},
   "source": [
    "**Los strings son inmutables, por lo tanto, no podemos reasignar un caracter de un string a otro**\n",
    "\n",
    "```\n",
    "saludo_1[0] = 'X' \n",
    "```\n",
    "> Esto es completamente **INCORRECTO**"
   ]
  },
  {
   "cell_type": "code",
   "execution_count": 80,
   "metadata": {},
   "outputs": [
    {
     "name": "stdout",
     "output_type": "stream",
     "text": [
      "Hola mundo!\n"
     ]
    }
   ],
   "source": [
    "#concatenación de strings\n",
    "saludo_completo = saludo_1 + \" \" + saludo_2\n",
    "print(saludo_completo)"
   ]
  },
  {
   "cell_type": "markdown",
   "metadata": {},
   "source": [
    "***\n",
    "\n",
    "### 1.3. Tuplas\n",
    "La tupla consiste en una secuencia de _objetos arbitrarios_ separados por coma y rodeados de paréntesis"
   ]
  },
  {
   "cell_type": "code",
   "execution_count": 81,
   "metadata": {},
   "outputs": [
    {
     "name": "stdout",
     "output_type": "stream",
     "text": [
      "('Gerardo', 'Mathus', (1994, 1, 24))\n"
     ]
    }
   ],
   "source": [
    "#ejemplo de una tupla que contiene dos strings y una tupla\n",
    "persona = ('Gerardo', 'Mathus', (1994,1,24))\n",
    "print(persona)"
   ]
  },
  {
   "cell_type": "code",
   "execution_count": 82,
   "metadata": {},
   "outputs": [
    {
     "name": "stdout",
     "output_type": "stream",
     "text": [
      "Nombre: Gerardo\n",
      "Apellido: Mathus\n",
      "Fecha de nacimiento: (1994, 1, 24)\n"
     ]
    }
   ],
   "source": [
    "#Desempaquetar la tupla\n",
    "nombre, apellido, fecha_nacimiento = persona\n",
    "\n",
    "#el objeto [0] de la tupla se asigna a nombre\n",
    "#el objeto [1] de la tupla se asigna a apellido\n",
    "#el objeto [2] de la tupla se asigna a fecha_nacimiento\n",
    "print(\"Nombre:\",nombre)\n",
    "print(\"Apellido:\", apellido)\n",
    "print(\"Fecha de nacimiento:\", fecha_nacimiento)"
   ]
  },
  {
   "cell_type": "code",
   "execution_count": 83,
   "metadata": {},
   "outputs": [
    {
     "name": "stdout",
     "output_type": "stream",
     "text": [
      "mes: 1\n"
     ]
    }
   ],
   "source": [
    "#Obtener el mes de la fecha de nacimiento (el segundo elemento de la tupla)\n",
    "mes = fecha_nacimiento[1]\n",
    "print(\"mes:\",mes)"
   ]
  },
  {
   "cell_type": "code",
   "execution_count": 84,
   "metadata": {},
   "outputs": [
    {
     "name": "stdout",
     "output_type": "stream",
     "text": [
      "mes: 1\n"
     ]
    }
   ],
   "source": [
    "#o bien\n",
    "mes = persona[2][1]\n",
    "print(\"mes:\",mes)"
   ]
  },
  {
   "cell_type": "markdown",
   "metadata": {},
   "source": [
    "***\n",
    "\n",
    "### 1.4. Listas\n",
    "Una lista es muy similar a una tupla, pero es mutable. Es decir, podemos agregar, eliminar, o editar elementos."
   ]
  },
  {
   "cell_type": "code",
   "execution_count": 85,
   "metadata": {},
   "outputs": [
    {
     "name": "stdout",
     "output_type": "stream",
     "text": [
      "[1.0, 2.0, 3.0, 4.0]\n"
     ]
    }
   ],
   "source": [
    "a = [1.0, 2.0, 3.0]    #crear una lista\n",
    "a.append(4.0)          #agregamos 4.0 a la lista\n",
    "print(a)"
   ]
  },
  {
   "cell_type": "code",
   "execution_count": 86,
   "metadata": {},
   "outputs": [
    {
     "name": "stdout",
     "output_type": "stream",
     "text": [
      "[0.0, 1.0, 2.0, 3.0, 4.0]\n"
     ]
    }
   ],
   "source": [
    "a.insert(0,0.0)        #insertamos 0.0 en la posición 0 (índice 0)\n",
    "print(a)"
   ]
  },
  {
   "cell_type": "code",
   "execution_count": 87,
   "metadata": {},
   "outputs": [
    {
     "name": "stdout",
     "output_type": "stream",
     "text": [
      "5\n"
     ]
    }
   ],
   "source": [
    "print(len(a))          #longitud de la lista"
   ]
  },
  {
   "cell_type": "code",
   "execution_count": 88,
   "metadata": {},
   "outputs": [
    {
     "name": "stdout",
     "output_type": "stream",
     "text": [
      "[2.0, 3.0]\n"
     ]
    }
   ],
   "source": [
    "print(a[2:4])         #imprime a partir del elmento 1 hasta (3-1)"
   ]
  },
  {
   "cell_type": "code",
   "execution_count": 89,
   "metadata": {},
   "outputs": [
    {
     "name": "stdout",
     "output_type": "stream",
     "text": [
      "[0.0, 1.0, 1.0, 1.0, 1.0, 4.0]\n"
     ]
    }
   ],
   "source": [
    "a[2:4] = [1.0, 1.0, 1.0] #modificar los elementos selecccionados\n",
    "print(a)"
   ]
  },
  {
   "cell_type": "markdown",
   "metadata": {},
   "source": [
    "\n",
    "Una matriz se puede representar como una lista de listas"
   ]
  },
  {
   "cell_type": "code",
   "execution_count": 90,
   "metadata": {},
   "outputs": [
    {
     "name": "stdout",
     "output_type": "stream",
     "text": [
      "[[1, 2, 3], [4, 5, 6], [7, 8, 9]]\n"
     ]
    }
   ],
   "source": [
    "a = [\n",
    " [1, 2, 3],\n",
    " [4, 5, 6],\n",
    " [7, 8, 9]\n",
    "]\n",
    "print(a)"
   ]
  },
  {
   "cell_type": "code",
   "execution_count": 91,
   "metadata": {},
   "outputs": [
    {
     "name": "stdout",
     "output_type": "stream",
     "text": [
      "[4, 5, 6]\n"
     ]
    }
   ],
   "source": [
    "print(a[1]) #imprime la segunda fila"
   ]
  },
  {
   "cell_type": "code",
   "execution_count": 92,
   "metadata": {},
   "outputs": [
    {
     "name": "stdout",
     "output_type": "stream",
     "text": [
      "6\n"
     ]
    }
   ],
   "source": [
    "print(a[1][2]) #imprime el terer elemento de la segunda fila"
   ]
  },
  {
   "cell_type": "markdown",
   "metadata": {},
   "source": [
    "\n",
    "\n",
    "---\n",
    "## 2. Operadores aritméticos y de comparación\n",
    "### 2.1. Operadores aritméticos"
   ]
  },
  {
   "cell_type": "code",
   "execution_count": 93,
   "metadata": {},
   "outputs": [
    {
     "name": "stdout",
     "output_type": "stream",
     "text": [
      "Hola Hola Hola \n"
     ]
    }
   ],
   "source": [
    "s = 'Hola '\n",
    "t = 'Amigo '\n",
    "a = [1,2,3]\n",
    "\n",
    "print (s * 3) #repetir un string 3 veces"
   ]
  },
  {
   "cell_type": "code",
   "execution_count": 94,
   "metadata": {},
   "outputs": [
    {
     "name": "stdout",
     "output_type": "stream",
     "text": [
      "[1, 2, 3, 1, 2, 3, 1, 2, 3]\n"
     ]
    }
   ],
   "source": [
    "print(a * 3) #repetir una lista 3 veces"
   ]
  },
  {
   "cell_type": "code",
   "execution_count": 95,
   "metadata": {},
   "outputs": [
    {
     "name": "stdout",
     "output_type": "stream",
     "text": [
      "[1, 2, 3, 4, 5]\n"
     ]
    }
   ],
   "source": [
    "print(a + [4, 5]) #agregar elementos a una lista"
   ]
  },
  {
   "cell_type": "code",
   "execution_count": 96,
   "metadata": {},
   "outputs": [
    {
     "name": "stdout",
     "output_type": "stream",
     "text": [
      "Hola Amigo \n"
     ]
    }
   ],
   "source": [
    "print(s + t) #concatenación de strings"
   ]
  },
  {
   "cell_type": "markdown",
   "metadata": {},
   "source": [
    "Podemos usar asignación especial como se hace en C"
   ]
  },
  {
   "cell_type": "markdown",
   "metadata": {},
   "source": [
    "```\n",
    "a += b    #a = a + b\n",
    "a -= b    #a = a - b\n",
    "a /= b    #a = a / b\n",
    "a *= b    #a = a * b\n",
    "a **= b   #a = a ** b\n",
    "a %= b    #a = a % b\n",
    "```\n",
    "\n",
    "### 2.1. Operadores de comparación"
   ]
  },
  {
   "cell_type": "code",
   "execution_count": 97,
   "metadata": {},
   "outputs": [
    {
     "name": "stdout",
     "output_type": "stream",
     "text": [
      "True\n"
     ]
    }
   ],
   "source": [
    "a = 2\n",
    "b = 1.99\n",
    "c = '2'\n",
    "print(a > b)"
   ]
  },
  {
   "cell_type": "code",
   "execution_count": 98,
   "metadata": {},
   "outputs": [
    {
     "name": "stdout",
     "output_type": "stream",
     "text": [
      "False\n"
     ]
    }
   ],
   "source": [
    "print(a == c)"
   ]
  },
  {
   "cell_type": "code",
   "execution_count": 99,
   "metadata": {},
   "outputs": [
    {
     "name": "stdout",
     "output_type": "stream",
     "text": [
      "True\n"
     ]
    }
   ],
   "source": [
    "print((a > b) and (a != c))"
   ]
  },
  {
   "cell_type": "code",
   "execution_count": 100,
   "metadata": {},
   "outputs": [
    {
     "name": "stdout",
     "output_type": "stream",
     "text": [
      "True\n"
     ]
    }
   ],
   "source": [
    "print((a > b) or (a == b))"
   ]
  },
  {
   "cell_type": "markdown",
   "metadata": {},
   "source": [
    "\n",
    "\n",
    "---\n",
    "## 3. Condicionales\n",
    "\n",
    "Sintaxis:\n",
    "```\n",
    "if condicion:\n",
    "    #código en caso de verdadero\n",
    "elif condicion:\n",
    "    #si la primera condicion fue falsa, podemos probar una segunda\n",
    "else:\n",
    "    #si no se cumplió ninguna\n",
    "```"
   ]
  },
  {
   "cell_type": "code",
   "execution_count": 102,
   "metadata": {},
   "outputs": [
    {
     "name": "stdout",
     "output_type": "stream",
     "text": [
      "La persona 1 tiene 45 entonces sí puede votar\n",
      "La persona 2 tiene 15 entonces todavía no puede votar\n"
     ]
    }
   ],
   "source": [
    "def checar_si_puede_votar(edad):\n",
    "    if edad >= 18:\n",
    "        return \"sí puede votar\"\n",
    "    else:\n",
    "        return \"todavía no puede votar\"\n",
    "    \n",
    "edad_persona_1 = 45\n",
    "edad_persona_2 = 15\n",
    "\n",
    "print(\"La persona 1 tiene\",edad_persona_1,\"entonces\", checar_si_puede_votar(edad_persona_1))\n",
    "print(\"La persona 2 tiene\",edad_persona_2,\"entonces\", checar_si_puede_votar(edad_persona_2))"
   ]
  },
  {
   "cell_type": "markdown",
   "metadata": {},
   "source": [
    "\n",
    "\n",
    "---\n",
    "## 3. Loops\n",
    "### 3.1. For\n",
    "El ciclo For se utiliza para iterar sobre una lista (o cualquier objeto iterable).\n",
    "Sintaxis:\n",
    "```\n",
    "for variable_de_control in objeto_iterable:\n",
    "    #hacer algo con variable_de_control\n",
    "```"
   ]
  },
  {
   "cell_type": "code",
   "execution_count": 103,
   "metadata": {},
   "outputs": [
    {
     "name": "stdout",
     "output_type": "stream",
     "text": [
      "Gerardo\n",
      "Regina\n",
      "Mariana\n",
      "Martín\n",
      "Sebastián\n",
      "María\n"
     ]
    }
   ],
   "source": [
    "estudiantes = ['Gerardo', 'Regina', 'Mariana', 'Martín', 'Sebastián', 'María']\n",
    "for est in estudiantes:\n",
    "    print(est)"
   ]
  },
  {
   "cell_type": "markdown",
   "metadata": {},
   "source": [
    "\n",
    "Dado que un string es una secuencia de caracteres, entonces podemos iterar sobre cada uno"
   ]
  },
  {
   "cell_type": "code",
   "execution_count": 105,
   "metadata": {},
   "outputs": [
    {
     "name": "stdout",
     "output_type": "stream",
     "text": [
      "S\n",
      "t\n",
      "a\n",
      "r\n",
      " \n",
      "W\n",
      "a\n",
      "r\n",
      "s\n"
     ]
    }
   ],
   "source": [
    "nombre_pelicula = \"Star Wars\"\n",
    "for caracter in nombre_pelicula:\n",
    "    print(caracter)"
   ]
  },
  {
   "cell_type": "markdown",
   "metadata": {},
   "source": [
    "Todo ciclo puede ser detenido con la oalabra reservarda `break`"
   ]
  },
  {
   "cell_type": "code",
   "execution_count": 106,
   "metadata": {},
   "outputs": [
    {
     "name": "stdout",
     "output_type": "stream",
     "text": [
      "Gerardo\n",
      "Regina\n",
      "Mariana\n"
     ]
    }
   ],
   "source": [
    "for est in estudiantes:\n",
    "    if est == \"Martín\":\n",
    "        break\n",
    "    else:\n",
    "        print(est)"
   ]
  },
  {
   "cell_type": "markdown",
   "metadata": {},
   "source": [
    "\n",
    "\n",
    "### 4.2. Ciclo While\n",
    "Ejecuta un bloque de código simepre y cuando su condición de control sea verdadera\n",
    "Sintaxis:\n",
    "```\n",
    "while condicion == True:\n",
    "   #ejecutar código \n",
    "```"
   ]
  },
  {
   "cell_type": "code",
   "execution_count": 5,
   "metadata": {},
   "outputs": [
    {
     "name": "stdout",
     "output_type": "stream",
     "text": [
      "1\n",
      "2\n",
      "3\n",
      "4\n",
      "5\n",
      "6\n",
      "7\n",
      "8\n",
      "9\n"
     ]
    }
   ],
   "source": [
    "x = 1\n",
    "while x < 10:\n",
    "    print(x)\n",
    "    x += 1"
   ]
  },
  {
   "cell_type": "markdown",
   "metadata": {},
   "source": [
    "Podemos saltarnos una iteración del ciclo con el uso de la palabra resercada `continue`"
   ]
  },
  {
   "cell_type": "code",
   "execution_count": 2,
   "metadata": {},
   "outputs": [
    {
     "name": "stdout",
     "output_type": "stream",
     "text": [
      "2\n",
      "4\n",
      "6\n",
      "14\n",
      "16\n",
      "18\n",
      "20\n"
     ]
    }
   ],
   "source": [
    "#imprimir todos los números pares del 1 al 20 menos el 8,10 y 12\n",
    "y = 1\n",
    "while y <= 20:\n",
    "    if y % 2 == 0:\n",
    "        if y in [8,10,12]:\n",
    "            y += 1\n",
    "            continue\n",
    "        else:\n",
    "            print(y)\n",
    "    y += 1"
   ]
  },
  {
   "cell_type": "markdown",
   "metadata": {},
   "source": [
    "\n",
    "\n",
    "---\n",
    "## 5. Conversiones de tipo\n",
    "Conversiones entre tipos de datos:\n",
    "```\n",
    "int(a)         #convierte a a entero\n",
    "float(b)       #convierte b a flotante\n",
    "complex(a)     #convierte a complejo a + 0j\n",
    "complex(a,b)   #convierte a complejo a + bj\n",
    "```"
   ]
  },
  {
   "cell_type": "code",
   "execution_count": 4,
   "metadata": {},
   "outputs": [
    {
     "name": "stdout",
     "output_type": "stream",
     "text": [
      "1.4\n"
     ]
    }
   ],
   "source": [
    "a = 5\n",
    "b = -3.6\n",
    "d = '4.0'\n",
    "print(a + b)"
   ]
  },
  {
   "cell_type": "code",
   "execution_count": 5,
   "metadata": {},
   "outputs": [
    {
     "name": "stdout",
     "output_type": "stream",
     "text": [
      "-3\n"
     ]
    }
   ],
   "source": [
    "print(int(b))"
   ]
  },
  {
   "cell_type": "code",
   "execution_count": 6,
   "metadata": {},
   "outputs": [
    {
     "name": "stdout",
     "output_type": "stream",
     "text": [
      "(5-3.6j)\n"
     ]
    }
   ],
   "source": [
    "print(complex(a,b))"
   ]
  },
  {
   "cell_type": "code",
   "execution_count": 7,
   "metadata": {},
   "outputs": [
    {
     "name": "stdout",
     "output_type": "stream",
     "text": [
      "4.0\n"
     ]
    }
   ],
   "source": [
    "print(float(d))"
   ]
  },
  {
   "cell_type": "code",
   "execution_count": 8,
   "metadata": {},
   "outputs": [
    {
     "ename": "ValueError",
     "evalue": "invalid literal for int() with base 10: '4.0'",
     "output_type": "error",
     "traceback": [
      "\u001b[0;31m------------------------------------------------------------------------\u001b[0m",
      "\u001b[0;31mValueError\u001b[0m                             Traceback (most recent call last)",
      "\u001b[0;32m<ipython-input-8-dc3362a89a42>\u001b[0m in \u001b[0;36m<module>\u001b[0;34m\u001b[0m\n\u001b[0;32m----> 1\u001b[0;31m \u001b[0mprint\u001b[0m\u001b[0;34m(\u001b[0m\u001b[0mint\u001b[0m\u001b[0;34m(\u001b[0m\u001b[0md\u001b[0m\u001b[0;34m)\u001b[0m\u001b[0;34m)\u001b[0m \u001b[0;31m#esto va a fallar porque d es un string\u001b[0m\u001b[0;34m\u001b[0m\u001b[0;34m\u001b[0m\u001b[0m\n\u001b[0m",
      "\u001b[0;31mValueError\u001b[0m: invalid literal for int() with base 10: '4.0'"
     ]
    }
   ],
   "source": [
    "print(int(d)) #esto va a fallar porque d es un string"
   ]
  },
  {
   "cell_type": "markdown",
   "metadata": {},
   "source": [
    "## ---\n",
    "## 6. Funciones matemáticas\n",
    "Core Python incluye sólo las siguientes\n",
    "\n",
    "* `abs(a)` regresa el valor absoluto de a\n",
    "* `max(secuencia)` regresa el valor más grande de una secuencia\n",
    "* `min(secuenia)` regresa el valor más pequeño de una secuencia\n",
    "* `round(a,n)` redondea a a n decimales"
   ]
  },
  {
   "cell_type": "code",
   "execution_count": 22,
   "metadata": {},
   "outputs": [],
   "source": [
    "a = 5.6341232\n",
    "b = 2\n",
    "c = -2"
   ]
  },
  {
   "cell_type": "code",
   "execution_count": 23,
   "metadata": {},
   "outputs": [
    {
     "data": {
      "text/plain": [
       "2"
      ]
     },
     "execution_count": 23,
     "metadata": {},
     "output_type": "execute_result"
    }
   ],
   "source": [
    "abs(c)"
   ]
  },
  {
   "cell_type": "code",
   "execution_count": 13,
   "metadata": {},
   "outputs": [
    {
     "data": {
      "text/plain": [
       "9"
      ]
     },
     "execution_count": 13,
     "metadata": {},
     "output_type": "execute_result"
    }
   ],
   "source": [
    "max([1,5,7,8,9])"
   ]
  },
  {
   "cell_type": "code",
   "execution_count": 16,
   "metadata": {},
   "outputs": [
    {
     "data": {
      "text/plain": [
       "-9"
      ]
     },
     "execution_count": 16,
     "metadata": {},
     "output_type": "execute_result"
    }
   ],
   "source": [
    "min([-9,1,5,7,8])"
   ]
  },
  {
   "cell_type": "code",
   "execution_count": 24,
   "metadata": {},
   "outputs": [
    {
     "data": {
      "text/plain": [
       "5.63"
      ]
     },
     "execution_count": 24,
     "metadata": {},
     "output_type": "execute_result"
    }
   ],
   "source": [
    "round(a,b)"
   ]
  },
  {
   "cell_type": "markdown",
   "metadata": {},
   "source": [
    "---\n",
    "## 7. Input/output\n",
    "### 7.1. Input"
   ]
  },
  {
   "cell_type": "markdown",
   "metadata": {},
   "source": [
    "`input(prompt )`"
   ]
  },
  {
   "cell_type": "code",
   "execution_count": 27,
   "metadata": {},
   "outputs": [
    {
     "name": "stdin",
     "output_type": "stream",
     "text": [
      "Cómo te llamas?:  Gerardo\n"
     ]
    },
    {
     "name": "stdout",
     "output_type": "stream",
     "text": [
      "Hola Gerardo\n"
     ]
    }
   ],
   "source": [
    "nombre = input(\"Cómo te llamas?: \")\n",
    "print(\"Hola\", nombre)"
   ]
  },
  {
   "cell_type": "code",
   "execution_count": 29,
   "metadata": {},
   "outputs": [
    {
     "name": "stdin",
     "output_type": "stream",
     "text": [
      "Cuántos años tienes?: 25\n"
     ]
    },
    {
     "name": "stdout",
     "output_type": "stream",
     "text": [
      "naciste en el 1994\n"
     ]
    }
   ],
   "source": [
    "#leer y convertir a entero\n",
    "edad = int(input(\"Cuántos años tienes?:\"))\n",
    "print(\"naciste en el\", 2019 - edad)"
   ]
  },
  {
   "cell_type": "markdown",
   "metadata": {},
   "source": [
    "### 7.2. Output\n",
    "`print(object1, object2, . . .)`"
   ]
  },
  {
   "cell_type": "code",
   "execution_count": 31,
   "metadata": {},
   "outputs": [
    {
     "name": "stdout",
     "output_type": "stream",
     "text": [
      "642.423 [10, 20, 30, 40]\n"
     ]
    }
   ],
   "source": [
    "a = 642.423\n",
    "b = [10,20,30,40]\n",
    "print(a,b)"
   ]
  },
  {
   "cell_type": "code",
   "execution_count": 34,
   "metadata": {},
   "outputs": [
    {
     "name": "stdout",
     "output_type": "stream",
     "text": [
      "a = 642.423 \n",
      "b = [10, 20, 30, 40]\n"
     ]
    }
   ],
   "source": [
    "print(\"a =\",a, \"\\nb =\",b)\n",
    "#\\n es un caracter de escape que significa nueva línea"
   ]
  },
  {
   "cell_type": "markdown",
   "metadata": {},
   "source": [
    "Podemos formatear un string que se va a imprimir con el método `.format()` propio de todo string"
   ]
  },
  {
   "cell_type": "code",
   "execution_count": 35,
   "metadata": {},
   "outputs": [
    {
     "name": "stdout",
     "output_type": "stream",
     "text": [
      "Hola mundo, tengo 25 años y me llamo Pedro\n"
     ]
    }
   ],
   "source": [
    "print(\"Hola {}, tengo {} años y me llamo {}\".format(\"mundo\", 25, \"Pedro\"))"
   ]
  },
  {
   "cell_type": "code",
   "execution_count": null,
   "metadata": {},
   "outputs": [],
   "source": []
  }
 ],
 "metadata": {
  "kernelspec": {
   "display_name": "Python 3",
   "language": "python",
   "name": "python3"
  },
  "language_info": {
   "codemirror_mode": {
    "name": "ipython",
    "version": 3
   },
   "file_extension": ".py",
   "mimetype": "text/x-python",
   "name": "python",
   "nbconvert_exporter": "python",
   "pygments_lexer": "ipython3",
   "version": "3.6.8"
  }
 },
 "nbformat": 4,
 "nbformat_minor": 2
}
