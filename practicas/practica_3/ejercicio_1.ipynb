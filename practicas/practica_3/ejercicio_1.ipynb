{
 "cells": [
  {
   "cell_type": "markdown",
   "metadata": {},
   "source": [
    "# Práctica 3\n",
    "## Álgebra lineal\n",
    "\n",
    "## Ejercicio 1\n",
    "### Resolver el siguiente ejercicio con la factorización QR del paquete numpy de la matriz A y verificar resultado\n",
    "\n",
    "$$A = \\begin{bmatrix} 1& 4& 1 \\\\ 1& 6& -1 \\\\2& -1&2 \\end{bmatrix}$$\n",
    "\n",
    "$$B=\\begin{bmatrix}7 & -1\\\\13 & 6\\\\5 & 7\\end{bmatrix}$$\n",
    "\n",
    "**Nota: Revisar constantemente [Este documento](https://github.com/ITAM-DS/Propedeutico/blob/master/Python/clases/3_algebra_lineal/1_ecuaciones_lineales.ipynb) porque va a haber cambios en la redacción del problema (ejercicio 3 en el documento fuente)**\n",
    "\n",
    "\n",
    "\n",
    "\n"
   ]
  },
  {
   "cell_type": "code",
   "execution_count": 4,
   "metadata": {},
   "outputs": [
    {
     "name": "stdout",
     "output_type": "stream",
     "text": [
      "Ejercicio 1\n"
     ]
    }
   ],
   "source": [
    "print(\"Ejercicio 1\")"
   ]
  },
  {
   "cell_type": "markdown",
   "metadata": {},
   "source": [
    "---\n",
    "## Ejercicio 2.1.  \n",
    "### Resolver los sistemas de ecuaciones lineales $Ax = b$ con la factorización P, LU y verificar resultado\n",
    "\n",
    "$$1)A = \\left[\\begin{array}{ccc}\n",
    "0 & 1 & -1\\\\\n",
    "-2 &4& -1\\\\\n",
    "-2 &5& -4\n",
    "\\end{array}\n",
    "\\right],\n",
    "b=\n",
    "\\left[\\begin{array}{c}\n",
    "3\\\\\n",
    "1\\\\\n",
    "-2\n",
    "\\end{array}\n",
    "\\right] \n",
    "$$\n",
    "\n",
    "\n",
    "$$2)A = \\left[\\begin{array}{ccc}\n",
    "0 & 1 & -1\\\\\n",
    "-2 &4& -1\\\\\n",
    "-2 &5& -4\n",
    "\\end{array}\n",
    "\\right],\n",
    "b=\n",
    "\\left[\\begin{array}{c}\n",
    "-5\\\\\n",
    "7\\\\\n",
    "0\n",
    "\\end{array}\n",
    "\\right] \n",
    "$$\n",
    "\n",
    "\n",
    "$$3)A = \\left[\\begin{array}{cccc}\n",
    "1 &2& 2\\\\\n",
    "2 &5& 7\\\\\n",
    "3 &6& 6\n",
    "\\end{array}\n",
    "\\right],\n",
    "b=\n",
    "\\left[\\begin{array}{c}\n",
    "0\\\\\n",
    "0\\\\\n",
    "0\n",
    "\\end{array}\n",
    "\\right] \n",
    "$$"
   ]
  },
  {
   "cell_type": "markdown",
   "metadata": {},
   "source": [
    "print(\"Ejercicio 2\")"
   ]
  },
  {
   "cell_type": "markdown",
   "metadata": {},
   "source": [
    "---\n",
    "##  Ejercicio 1.3\n",
    "### Interpolar con 10 puntos generados de la función de Runge $f(x) = \\frac{1}{1+25x^2}$ en el intervalo $[-1,1]$ equidistantes. Hacer la gráfica con $10,000$ puntos en el mismo intervalo. Utilizar polyfit para el polinomio interpolador y splines cúbicos."
   ]
  },
  {
   "cell_type": "code",
   "execution_count": null,
   "metadata": {},
   "outputs": [],
   "source": []
  }
 ],
 "metadata": {
  "kernelspec": {
   "display_name": "Python 3",
   "language": "python",
   "name": "python3"
  },
  "language_info": {
   "codemirror_mode": {
    "name": "ipython",
    "version": 3
   },
   "file_extension": ".py",
   "mimetype": "text/x-python",
   "name": "python",
   "nbconvert_exporter": "python",
   "pygments_lexer": "ipython3",
   "version": "3.7.3"
  }
 },
 "nbformat": 4,
 "nbformat_minor": 2
}
