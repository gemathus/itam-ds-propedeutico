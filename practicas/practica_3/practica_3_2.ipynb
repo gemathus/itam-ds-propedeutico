{
 "cells": [
  {
   "cell_type": "markdown",
   "metadata": {},
   "source": [
    "# Práctica 3\n",
    "## Ejercicio 2\n",
    "\n",
    "### Modelo sin intercepto\n",
    "Se ajusta un modelo de la forma: $f(x|\\beta) = \\beta_1 x$ a los datos $(x_i,y_i)$'s $\\forall i=0,1,\\dots,m$.\n",
    "\n",
    "Obs: En este caso se elige $\\phi_1(x) =x$ y no hay $\\phi_0$ por lo que sólo se tiene que estimar $\\beta_1$.\n",
    "\n",
    "**Ejercicio**: realizar el ajuste correspondiente para este caso con polyfit de numpy y con QR.\n",
    "\n",
    "---"
   ]
  },
  {
   "cell_type": "code",
   "execution_count": 16,
   "metadata": {},
   "outputs": [
    {
     "data": {
      "image/png": "[encoded data removed]",
      "text/plain": [
       "<Figure size 432x288 with 1 Axes>"
      ]
     },
     "metadata": {
      "needs_background": "light"
     },
     "output_type": "display_data"
    }
   ],
   "source": [
    "import numpy as np\n",
    "import matplotlib.pyplot as plt \n",
    "from pprint import pprint\n",
    "np.set_printoptions(precision = 2) #sólo dos decimales que se muestren\n",
    "np.random.seed(1989) #para reproducibilidad\n",
    "mpoints = 20\n",
    "x = np.random.randn(mpoints) \n",
    "y = -3*x + np.random.normal(2,1,mpoints)\n",
    "plt.plot(x,y, 'r*')\n",
    "plt.xlabel('x')\n",
    "plt.ylabel('y')\n",
    "plt.title('Puntos ejemplo')\n",
    "plt.show()"
   ]
  },
  {
   "cell_type": "markdown",
   "metadata": {},
   "source": [
    "---\n",
    "## Factorización QR"
   ]
  },
  {
   "cell_type": "code",
   "execution_count": 121,
   "metadata": {},
   "outputs": [
    {
     "name": "stdout",
     "output_type": "stream",
     "text": [
      "array([ 2.73,  1.8 ,  0.89, -0.35,  0.55,  0.86,  1.03,  2.43, -0.03,\n",
      "        2.09, -2.23,  3.  ,  1.09,  1.58, -4.65,  1.66, -1.05,  0.47,\n",
      "        5.22,  3.02])\n",
      "array([ 0.42, -0.14, -0.69, -1.43, -0.89, -0.7 , -0.6 ,  0.24, -1.24,\n",
      "        0.04, -2.57,  0.59, -0.57, -0.27, -4.02, -0.22, -1.85, -0.94,\n",
      "        1.92,  0.59])\n"
     ]
    }
   ],
   "source": [
    "#Con intercepto\n",
    "A_con = np.ones((mpoints, 2))\n",
    "A_con[:,1] = x \n",
    "Q_con, R_con = np.linalg.qr(A_con) \n",
    "beta_con = np.linalg.solve(R_con,Q_con.T@y)\n",
    "y_ajustadas_con_intercepto = A_con@beta_con\n",
    "# Modelo sin intercepto\n",
    "A_sin = np.empty([mpoints, 1]) \n",
    "A_sin[:,0] = x \n",
    "Q_sin, R_sin = np.linalg.qr(A_sin)\n",
    "beta_sin = np.linalg.solve(R_sin,Q_sin.T@y)\n",
    "y_ajustadas_sin_intercepto = A_sin@beta_sin \n",
    "pprint(y_ajustadas_con_intercepto)\n",
    "pprint(y_ajustadas_sin_intercepto)"
   ]
  },
  {
   "cell_type": "code",
   "execution_count": 122,
   "metadata": {},
   "outputs": [
    {
     "data": {
      "image/png": "[encoded data removed]",
      "text/plain": [
       "<Figure size 432x288 with 1 Axes>"
      ]
     },
     "metadata": {
      "needs_background": "light"
     },
     "output_type": "display_data"
    }
   ],
   "source": [
    "plt.plot(x,y, 'gX')\n",
    "plt.plot(x, y_ajustadas_con_intercepto, 'r-', x, y_ajustadas_sin_intercepto, 'b-')\n",
    "plt.axhline(y=0, linestyle='-', color='grey'), plt.axvline(x=0, linestyle='-', color='grey')\n",
    "\n",
    "plt.legend(('Datos', 'Modelo con intercepto', 'Modelo sin intercepto'), loc='best')\n",
    "plt.show()"
   ]
  },
  {
   "cell_type": "markdown",
   "metadata": {},
   "source": [
    "---\n",
    "## Ejercicio: calcular el ECM de los ajustes anteriores.\n",
    "\n",
    "Si $\\hat{y}_i$ es el valor ajustado para el dato $x_i$, esto es: $\\hat{y}_i = f(x_i|\\hat{\\beta}) = \\displaystyle \\sum_{i=0}^m \\left (y_i -\\displaystyle \\sum_{j=0}^n\\hat{\\beta}_j\\phi_j(x_i)\\right )^2$ el residual $i$ es: $r_i = y_i - \\hat{y}_i$ y representa la discrepancia entre los datos y el modelo.\n",
    "\n",
    "El error cuadrático medio se calcula como: $$ECM(\\hat{y}) = \\displaystyle \\sum_{i=0}^m(y_i-\\hat{y}_i)^2$$"
   ]
  },
  {
   "cell_type": "code",
   "execution_count": 123,
   "metadata": {},
   "outputs": [],
   "source": [
    "ecm = lambda y, _y: sum( (y - _y)**2 )"
   ]
  },
  {
   "cell_type": "code",
   "execution_count": 125,
   "metadata": {},
   "outputs": [
    {
     "name": "stdout",
     "output_type": "stream",
     "text": [
      "con intercepto: [ 2.73  1.8   0.89 -0.35  0.55  0.86  1.03  2.43 -0.03  2.09 -2.23  3.\n",
      "  1.09  1.58 -4.65  1.66 -1.05  0.47  5.22  3.02]\n",
      "sin intercepto: [ 0.42 -0.14 -0.69 -1.43 -0.89 -0.7  -0.6   0.24 -1.24  0.04 -2.57  0.59\n",
      " -0.57 -0.27 -4.02 -0.22 -1.85 -0.94  1.92  0.59]\n"
     ]
    }
   ],
   "source": [
    "print(\"con intercepto:\",y_ajustadas_con_intercepto)\n",
    "print(\"sin intercepto:\",y_ajustadas_sin_intercepto)\n",
    "ecm_con_intercepto = ecm(y, y_ajustadas_con_intercepto)\n",
    "ecm_sin_intercepto = ecm(y, y_ajustadas_sin_intercepto)"
   ]
  },
  {
   "cell_type": "code",
   "execution_count": 126,
   "metadata": {},
   "outputs": [
    {
     "name": "stdout",
     "output_type": "stream",
     "text": [
      "ECM con intercepto: 20.435476838775887\n",
      "ECM sin intercepto: 86.26514118733563\n"
     ]
    }
   ],
   "source": [
    "print(\"ECM con intercepto:\", ecm_con_intercepto)\n",
    "print(\"ECM sin intercepto:\", ecm_sin_intercepto)"
   ]
  },
  {
   "cell_type": "markdown",
   "metadata": {},
   "source": [
    "---\n",
    "$$f_1(x|\\beta) = \\beta_0 + \\beta_1 \\frac{x}{x+1}$$\n",
    "$$f_2(x|\\beta) = \\beta_0 + \\beta_1x + \\beta_2x^2$$\n",
    "$$f_3(x|\\beta) = \\beta_0 + \\beta_1\\text{log}(x+1)$$\n",
    "\n",
    "### Ejercicio: ajustar el modelo 3. Calcular ECM de cada modelo y realizar en una sola gráfica los tres modelos. ¿Cuál es el modelo con menor ECM?"
   ]
  },
  {
   "cell_type": "code",
   "execution_count": 151,
   "metadata": {},
   "outputs": [],
   "source": [
    "#Datos\n",
    "datos = np.loadtxt('datos_minimos_cuadrados.txt', skiprows=1)\n",
    "x = datos[:, 0]\n",
    "y = datos[:, 1]"
   ]
  },
  {
   "cell_type": "markdown",
   "metadata": {},
   "source": [
    "### Modelo 1\n",
    "$$f_1(x|\\beta) = \\beta_0 + \\beta_1 \\frac{x}{x+1}$$"
   ]
  },
  {
   "cell_type": "code",
   "execution_count": 152,
   "metadata": {},
   "outputs": [],
   "source": [
    "phi_1 = lambda var: var/(var+1)\n",
    "mpoints, = x.shape\n",
    "A = np.ones((mpoints,2))\n",
    "A[:,1] = phi_1(x) \n",
    "Q,R = np.linalg.qr(A)\n",
    "beta = np.linalg.solve(R,Q.T@y)\n",
    "y_estimadas_modelo_1 = A@beta \n",
    "# ECM:\n",
    "ecm_modelo_1 = ecm(y, y_estimadas_modelo_1)"
   ]
  },
  {
   "cell_type": "markdown",
   "metadata": {},
   "source": [
    "### Modelo 2\n",
    "$$f_2(x|\\beta) = \\beta_0 + \\beta_1x + \\beta_2x^2$$"
   ]
  },
  {
   "cell_type": "code",
   "execution_count": 153,
   "metadata": {},
   "outputs": [],
   "source": [
    "coeficientes = np.polyfit(x,y,2)\n",
    "y_estimadas_modelo_2 = coeficientes[2] + coeficientes[1] * x + coeficientes[0] * x**2\n",
    "\n",
    "ecm_modelo_2 = ecm(y, y_estimadas_modelo_2)"
   ]
  },
  {
   "cell_type": "markdown",
   "metadata": {},
   "source": [
    "### Modelo 3\n",
    "$$f_3(x|\\beta) = \\beta_0 + \\beta_1\\text{log}(x+1)$$"
   ]
  },
  {
   "cell_type": "code",
   "execution_count": 154,
   "metadata": {},
   "outputs": [],
   "source": [
    "phi1_m3 = lambda var: np.log(var+1)\n",
    "mpoints, = x.shape\n",
    "A = np.ones((mpoints, 2))\n",
    "A[:, 1] = phi1_m3(x) # evaluamos phi1 en x para la segunda columna\n",
    "Q,R = np.linalg.qr(A)\n",
    "beta = np.linalg.solve(R, Q.T@y)\n",
    "y_estimadas_modelo_3 = A@beta\n",
    "# ECM:\n",
    "ecm_modelo_3 = ecm(y, y_estimadas_modelo_3)"
   ]
  },
  {
   "cell_type": "markdown",
   "metadata": {},
   "source": [
    "### Gráfica y conclusiones\n"
   ]
  },
  {
   "cell_type": "code",
   "execution_count": 180,
   "metadata": {},
   "outputs": [
    {
     "data": {
      "image/png": "[encoded data removed]",
      "text/plain": [
       "<Figure size 432x288 with 1 Axes>"
      ]
     },
     "metadata": {
      "needs_background": "light"
     },
     "output_type": "display_data"
    }
   ],
   "source": [
    "plt.plot(x, y, 'kh',\n",
    "         x, y_estimadas_modelo_1,'g-',\n",
    "         x, y_estimadas_modelo_2,'r-',\n",
    "         x, y_estimadas_modelo_3,'y-',\n",
    "         linewidth=3.0\n",
    ")\n",
    "plt.legend(['datos', 'Modelo 1', 'Modelo 2', 'Modelo 3'], loc='best')\n",
    "plt.title('Mínimos cuadrados')\n",
    "plt.show()"
   ]
  },
  {
   "cell_type": "code",
   "execution_count": 177,
   "metadata": {},
   "outputs": [
    {
     "name": "stdout",
     "output_type": "stream",
     "text": [
      "ECM Modelo 1: 14.656071440340158\n",
      "ECM Modelo 2: 11.974386376666112\n",
      "ECM Modelo 3: 12.041297818937315\n"
     ]
    }
   ],
   "source": [
    "print(\"ECM Modelo 1:\", ecm_modelo_1)\n",
    "print(\"ECM Modelo 2:\", ecm_modelo_2)\n",
    "print(\"ECM Modelo 3:\", ecm_modelo_3)\n"
   ]
  },
  {
   "cell_type": "markdown",
   "metadata": {},
   "source": [
    "## El modelo con menor ecm es el modelo 2"
   ]
  }
 ],
 "metadata": {
  "kernelspec": {
   "display_name": "Python 3",
   "language": "python",
   "name": "python3"
  },
  "language_info": {
   "codemirror_mode": {
    "name": "ipython",
    "version": 3
   },
   "file_extension": ".py",
   "mimetype": "text/x-python",
   "name": "python",
   "nbconvert_exporter": "python",
   "pygments_lexer": "ipython3",
   "version": "3.7.3"
  }
 },
 "nbformat": 4,
 "nbformat_minor": 2
}
