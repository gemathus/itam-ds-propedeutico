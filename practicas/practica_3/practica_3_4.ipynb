{
 "cells": [
  {
   "cell_type": "markdown",
   "metadata": {},
   "source": [
    "# Práctica 3\n",
    "**Ajusta por mínimos cuadrados dos modelos de la forma**\n",
    "$$\n",
    "1)    log(y) = log(b) + alog(x)\n",
    "$$\n",
    "\n",
    "$$\n",
    "2)    log(y) = log(b) + alog(x) + c(log(x))^2\n",
    "$$\n",
    "\n",
    "---\n",
    "\n",
    "### Ejercicio 1\n",
    "### Importar librerías y leer datos"
   ]
  },
  {
   "cell_type": "code",
   "execution_count": 248,
   "metadata": {},
   "outputs": [],
   "source": [
    "import numpy as np\n",
    "import matplotlib.pyplot as plt \n",
    "from pprint import pprint\n",
    "\n",
    "datos = np.loadtxt('datos_ejercicio_4.txt', skiprows=1)\n",
    "y = datos[:, 1]\n",
    "x = datos[:, 0]\n",
    "mpoints, = x.shape"
   ]
  },
  {
   "cell_type": "markdown",
   "metadata": {},
   "source": [
    "### Función para calcular ecm"
   ]
  },
  {
   "cell_type": "code",
   "execution_count": 249,
   "metadata": {},
   "outputs": [],
   "source": [
    "ECM = lambda y, _y: sum( (y - _y)**2)/len(y)"
   ]
  },
  {
   "cell_type": "markdown",
   "metadata": {},
   "source": [
    "### Ocupo `_y` para referirme a $\\hat{y}$"
   ]
  },
  {
   "cell_type": "markdown",
   "metadata": {},
   "source": [
    "### Modelo 1\n",
    "$$\n",
    "log(y) = log(b) + alog(x)\n",
    "$$"
   ]
  },
  {
   "cell_type": "markdown",
   "metadata": {},
   "source": [
    "$$\n",
    "\\textrm{ sea } z = log(y), w = log(b)\n",
    "$$\n",
    "\n",
    "$$\n",
    "\\textrm{ ajustar: } z = w + a log(x)\n",
    "$$\n"
   ]
  },
  {
   "cell_type": "code",
   "execution_count": 250,
   "metadata": {},
   "outputs": [],
   "source": [
    "phi_modelo_1 = lambda var: np.log(var) \n",
    "z = np.log(y)"
   ]
  },
  {
   "cell_type": "code",
   "execution_count": 251,
   "metadata": {},
   "outputs": [
    {
     "name": "stdout",
     "output_type": "stream",
     "text": [
      "[0.26464764 0.5756426 ]\n"
     ]
    }
   ],
   "source": [
    "mpoints_modelo_1, = x.shape\n",
    "A_modelo_1 = np.ones((mpoints_modelo_1,2))\n",
    "A_modelo_1[:,1] = phi_modelo_1(x)\n",
    "Q,R = np.linalg.qr(A_modelo_1)\n",
    "beta = np.linalg.solve(R,Q.T@z)\n",
    "print(beta)"
   ]
  },
  {
   "cell_type": "code",
   "execution_count": 252,
   "metadata": {},
   "outputs": [
    {
     "data": {
      "text/plain": [
       "[<matplotlib.lines.Line2D at 0x112dbbcc0>,\n",
       " <matplotlib.lines.Line2D at 0x112dbbe10>]"
      ]
     },
     "execution_count": 252,
     "metadata": {},
     "output_type": "execute_result"
    },
    {
     "data": {
      "image/png": "[encoded data removed]",
      "text/plain": [
       "<Figure size 432x288 with 1 Axes>"
      ]
     },
     "metadata": {
      "needs_background": "light"
     },
     "output_type": "display_data"
    }
   ],
   "source": [
    "z_ajustadas = beta[0] + beta[1]*phi_1(x)\n",
    "plt.plot(np.log(x), z_ajustadas, 'b-', np.log(x),np.log(y),'ro')"
   ]
  },
  {
   "cell_type": "code",
   "execution_count": 253,
   "metadata": {},
   "outputs": [
    {
     "name": "stdout",
     "output_type": "stream",
     "text": [
      "ECM =  0.116756077528369\n"
     ]
    }
   ],
   "source": [
    "ec = ECM(np.log(y), z_ajustadas)\n",
    "print(\"ECM = \",ec)"
   ]
  },
  {
   "cell_type": "markdown",
   "metadata": {},
   "source": [
    "---\n",
    "\n",
    "\n",
    "\n",
    "### Ejercicio 2\n",
    "$$\n",
    "log(y) = log(b) + alog(x) + c(log(x))^2\n",
    "$$"
   ]
  },
  {
   "cell_type": "code",
   "execution_count": 254,
   "metadata": {},
   "outputs": [
    {
     "data": {
      "text/plain": [
       "array([0.04962021, 0.70062919, 0.06695492])"
      ]
     },
     "execution_count": 254,
     "metadata": {},
     "output_type": "execute_result"
    }
   ],
   "source": [
    "z = np.log(y)\n",
    "phi_1 = lambda var: np.log(var) \n",
    "phi_2 = lambda var: np.power(phi_1(var),2)\n",
    "\n",
    "A_modelo_2 = np.ones((mpoints, 3))\n",
    "A_modelo_2[:, 1] = phi_1(x)\n",
    "A_modelo_2[:, 2] = phi_2(x)\n",
    "\n",
    "Q_modelo_2,R_modelo_2 = np.linalg.qr(A_modelo_2) \n",
    "beta_modelo_2 = np.linalg.solve(R_modelo_2, Q_modelo_2.T@z)\n",
    "\n",
    "z_ajustadas_modelo_2 = beta_modelo_2[0] + beta_modelo_2[1]*phi_1(x) + beta_modelo_2[2]*phi_2(x)\n",
    "\n",
    "beta_modelo_2"
   ]
  },
  {
   "cell_type": "code",
   "execution_count": 255,
   "metadata": {},
   "outputs": [],
   "source": [
    "'''\n",
    "x_eval_log_m2 = np.linspace(np.min(np.log(x)), np.max(np.log(x)), 1000)\n",
    "x_eval_log2_m2 = np.power(x_eval_log_m2,2)\n",
    "y_eval_log_m2 = beta_modelo_2[0] + beta_modelo_2[1]*x_eval_log_m2 + beta_modelo_2[2]*x_eval_log2_m2 \n",
    "'''\n",
    "\n",
    "x_values = np.linspace(np.min(np.log(x)), np.max(np.log(x)), 1000)\n",
    "y_eval_cuad = x_values ** 2\n",
    "y_ajustadas = beta_modelo_2[0] + beta_modelo_2[1]*x_values + beta_modelo_2[2]*y_eval_cuad\n"
   ]
  },
  {
   "cell_type": "code",
   "execution_count": 256,
   "metadata": {},
   "outputs": [
    {
     "data": {
      "text/plain": [
       "<matplotlib.legend.Legend at 0x112dfd7b8>"
      ]
     },
     "execution_count": 256,
     "metadata": {},
     "output_type": "execute_result"
    },
    {
     "data": {
      "image/png": "[encoded data removed]",
      "text/plain": [
       "<Figure size 432x288 with 1 Axes>"
      ]
     },
     "metadata": {
      "needs_background": "light"
     },
     "output_type": "display_data"
    }
   ],
   "source": [
    "plt.plot(x_values, y_ajustadas, '-',np.log(x),np.log(y),'r.')\n",
    "plt.legend(['modelo2', 'datos'], loc=\"best\")\n",
    "           "
   ]
  },
  {
   "cell_type": "code",
   "execution_count": null,
   "metadata": {},
   "outputs": [],
   "source": []
  }
 ],
 "metadata": {
  "kernelspec": {
   "display_name": "Python 3",
   "language": "python",
   "name": "python3"
  },
  "language_info": {
   "codemirror_mode": {
    "name": "ipython",
    "version": 3
   },
   "file_extension": ".py",
   "mimetype": "text/x-python",
   "name": "python",
   "nbconvert_exporter": "python",
   "pygments_lexer": "ipython3",
   "version": "3.7.3"
  }
 },
 "nbformat": 4,
 "nbformat_minor": 2
}
