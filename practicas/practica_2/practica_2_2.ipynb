{
 "cells": [
  {
   "cell_type": "markdown",
   "metadata": {},
   "source": [
    "# Práctica 2\n",
    "---\n",
    "## Sistemas de ecuaciones lineales¶\n",
    "### Ejercicio: resolver  con la factorización QR del paquete numpy de la matriz A y verificar resultado\n"
   ]
  },
  {
   "cell_type": "markdown",
   "metadata": {},
   "source": [
    "$$A = \\begin{bmatrix} 2& -1&2 \\\\ 1& 6& -1 \\\\ 1& 4& 1\\end{bmatrix}$$\n",
    "$$B=\\begin{bmatrix}7 & -1\\\\13 & 6\\\\5 & 7\\end{bmatrix}$$\n"
   ]
  },
  {
   "cell_type": "code",
   "execution_count": 40,
   "metadata": {},
   "outputs": [],
   "source": [
    "import numpy as np\n",
    "from pprint import pprint\n",
    "A = np.array([[2,-1,2], [1,6,-1], [1,4,1]])\n",
    "B = np.array([[7.,-1.],[13.,6.],[5.,7.]])\n",
    "Q,R = np.linalg.qr(A)"
   ]
  },
  {
   "cell_type": "code",
   "execution_count": 46,
   "metadata": {},
   "outputs": [],
   "source": [
    "X = np.dot(np.linalg.inv(R), np.dot(Q.T, B))"
   ]
  },
  {
   "cell_type": "code",
   "execution_count": 47,
   "metadata": {},
   "outputs": [
    {
     "name": "stdout",
     "output_type": "stream",
     "text": [
      "Verificando resultado AX = B\n",
      "B:\n",
      "array([[ 7., -1.],\n",
      "       [13.,  6.],\n",
      "       [ 5.,  7.]])\n",
      "AX:\n",
      "array([[ 7., -1.],\n",
      "       [13.,  6.],\n",
      "       [ 5.,  7.]])\n"
     ]
    }
   ],
   "source": [
    "print('Verificando resultado AX = B')\n",
    "print('B:')\n",
    "pprint(B)\n",
    "print('AX:')\n",
    "pprint(A@X)"
   ]
  },
  {
   "cell_type": "markdown",
   "metadata": {},
   "source": [
    "---\n",
    "### Ejercicio: resolver los sistemas de ecuaciones lineales $Ax = b$ con la factorización P, LU y verificar resultado\n",
    "### 1)\n",
    "$$A = \\left[\\begin{array}{ccc}\n",
    "0 &1& -1\\\\\n",
    "-2 &4& -1\\\\\n",
    "-2 &5& -4\n",
    "\\end{array}\n",
    "\\right],\n",
    "b=\n",
    "\\left[\\begin{array}{c}\n",
    "3\\\\\n",
    "1\\\\\n",
    "-2\n",
    "\\end{array}\n",
    "\\right] \n",
    "$$"
   ]
  },
  {
   "cell_type": "code",
   "execution_count": 71,
   "metadata": {},
   "outputs": [],
   "source": [
    "import scipy\n",
    "import scipy.linalg\n",
    "import numpy as np\n",
    "from pprint import pprint\n",
    "\n",
    "A = scipy.array([[0, 1, -1], [-2, 4, -1], [-2, 5, -4]])\n",
    "b = scipy.array([3,1,-2])\n",
    "P, L, U = scipy.linalg.lu(A)"
   ]
  },
  {
   "cell_type": "code",
   "execution_count": 72,
   "metadata": {},
   "outputs": [
    {
     "name": "stdout",
     "output_type": "stream",
     "text": [
      "Usando los factores P,L,U para resolver AX = B\n",
      "X:\n",
      "array([10.,  6.,  3.])\n"
     ]
    }
   ],
   "source": [
    "print('Usando los factores P,L,U para resolver AX = B')\n",
    "D = scipy.linalg.solve_triangular(L,P@b,lower=True)\n",
    "X = scipy.linalg.solve_triangular(U,D)\n",
    "print('X:')\n",
    "pprint(X)"
   ]
  },
  {
   "cell_type": "code",
   "execution_count": 73,
   "metadata": {},
   "outputs": [
    {
     "name": "stdout",
     "output_type": "stream",
     "text": [
      "Verificando resultado AX = B\n",
      "b:\n",
      "array([ 3,  1, -2])\n",
      "AX:\n",
      "array([ 3.,  1., -2.])\n"
     ]
    }
   ],
   "source": [
    "print('Verificando resultado AX = B')\n",
    "print('b:')\n",
    "pprint(b)\n",
    "print('AX:')\n",
    "pprint(A@X)"
   ]
  },
  {
   "cell_type": "markdown",
   "metadata": {},
   "source": [
    "---\n",
    "### 2)\n",
    "$$A = \\left[\\begin{array}{ccc}\n",
    "0 &1& -1\\\\\n",
    "-2 &4& -1\\\\\n",
    "-2 &5& -4\n",
    "\\end{array}\n",
    "\\right],\n",
    "b=\n",
    "\\left[\\begin{array}{c}\n",
    "-5\\\\\n",
    "7\\\\\n",
    "0\n",
    "\\end{array}\n",
    "\\right] \n",
    "$$"
   ]
  },
  {
   "cell_type": "code",
   "execution_count": 74,
   "metadata": {},
   "outputs": [
    {
     "name": "stdout",
     "output_type": "stream",
     "text": [
      "X:\n",
      "array([-12.,  -4.,   1.])\n",
      "Verificando resultado AX = B\n",
      "b:\n",
      "array([-5,  7,  0])\n",
      "AX:\n",
      "array([-5.,  7.,  0.])\n"
     ]
    }
   ],
   "source": [
    "A = scipy.array([[0, 1, -1], [-2, 4, -1], [-2, 5, -4]])\n",
    "b = scipy.array([-5,7,0])\n",
    "P, L, U = scipy.linalg.lu(A)\n",
    "D = scipy.linalg.solve_triangular(L,P@b,lower=True)\n",
    "X = scipy.linalg.solve_triangular(U,D)\n",
    "print('X:')\n",
    "pprint(X)\n",
    "print('Verificando resultado AX = B')\n",
    "print('b:')\n",
    "pprint(b)\n",
    "print('AX:')\n",
    "pprint(A@X)"
   ]
  },
  {
   "cell_type": "markdown",
   "metadata": {},
   "source": [
    "---\n",
    "### 3)\n",
    "$$A = \\left[\\begin{array}{cccc}\n",
    "1 &2& 2\\\\\n",
    "2 &5& 7\\\\\n",
    "3 &6& 6\n",
    "\\end{array}\n",
    "\\right],\n",
    "b=\n",
    "\\left[\\begin{array}{c}\n",
    "0\\\\\n",
    "0\\\\\n",
    "0\n",
    "\\end{array}\n",
    "\\right] \n",
    "$$"
   ]
  },
  {
   "cell_type": "code",
   "execution_count": 81,
   "metadata": {},
   "outputs": [],
   "source": [
    "A = scipy.array([[1,2,2], [2,5,7], [3,6,6]])\n",
    "b = scipy.array([0,0,0])\n",
    "P, L, U = scipy.linalg.lu(A)\n",
    "D = scipy.linalg.solve_triangular(L,P@b,lower=True)\n",
    "X = scipy.linalg.solve_triangular(U,D)\n",
    "print('X:')\n",
    "pprint(X)\n",
    "print('Verificando resultado AX = B')\n",
    "print('b:')\n",
    "pprint(b)\n",
    "print('AX:')\n",
    "pprint(A@X)"
   ]
  }
 ],
 "metadata": {
  "kernelspec": {
   "display_name": "Python 3",
   "language": "python",
   "name": "python3"
  },
  "language_info": {
   "codemirror_mode": {
    "name": "ipython",
    "version": 3
   },
   "file_extension": ".py",
   "mimetype": "text/x-python",
   "name": "python",
   "nbconvert_exporter": "python",
   "pygments_lexer": "ipython3",
   "version": "3.7.3"
  }
 },
 "nbformat": 4,
 "nbformat_minor": 2
}
