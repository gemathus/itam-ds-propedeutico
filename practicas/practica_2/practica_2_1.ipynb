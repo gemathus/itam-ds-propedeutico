{
 "cells": [
  {
   "cell_type": "markdown",
   "metadata": {},
   "source": [
    "# Práctica 2\n",
    "---\n",
    "### Ejercicio 1: Aproximación a derivadas e integrales\n",
    "\n",
    "Aproximemos a la función $\\frac{1}{x}$ en el intervalo $[1,2]$ con polinomios de Taylor de orden $n$ con $n \\in \\{0,1,2\\}$ con centro en $x_0=1.5$. Los polinomios de Taylor son:\n",
    "\n",
    "$$P_0(x) = f(x_0) = \\frac{2}{3} \\quad \\text{(constante)}$$\n",
    "$$P_1(x) = f(x_0) + f^{(1)}(x_0)(x-x_0) = \\frac{2}{3} - \\frac{1}{x_0^2}(x-x_0) \\quad \\text{(lineal)}$$\n",
    "$$P_2(x) = f(x_0) + f^{(1)}(x_0)(x-x_0) + \\frac{f^{(2)}(x_0)(x-x_0)^2}{2} = \\frac{2}{3} - \\frac{1}{x_0^2}(x-x_0) + \\frac{2}{x_0^3}(x-x_0)^2 \\quad \\text{(cuadrático)}$$\n",
    "\n",
    "\n",
    "##### Graficar la función y los polinomios constante, lineal y cuadrático en una sola gráfica con matplotlib en el intervalo [1,2]. \n"
   ]
  },
  {
   "cell_type": "code",
   "execution_count": 18,
   "metadata": {},
   "outputs": [
    {
     "data": {
      "image/png": "[encoded data removed]",
      "text/plain": [
       "<Figure size 432x288 with 1 Axes>"
      ]
     },
     "metadata": {
      "needs_background": "light"
     },
     "output_type": "display_data"
    }
   ],
   "source": [
    "import matplotlib.pyplot as plt\n",
    "import numpy as np\n",
    "\n",
    "def base_function(x):\n",
    "    return 1/x\n",
    "\n",
    "#ponemos un argumento aunque no lo usemos para poder utilizar la función map() más adelante\n",
    "def taylor_polynomial_0(x_0):\n",
    "    return 2/3\n",
    "\n",
    "def taylor_polynomial_1(x_0, x):\n",
    "    return taylor_polynomial_0(x_0) - ((1/(x_0**2))*(x - x_0))\n",
    "\n",
    "def taylor_polynomial_2(x_0, x):\n",
    "    return taylor_polynomial_1(x_0,x) + ((2/(x_0**3))*((x-x_0)**2))\n",
    "\n",
    "x = 1.9\n",
    "x0 = 1.5\n",
    "\n",
    "x_values = np.linspace(1,2,100)    #rango de 1 a 2 con 100 números (el intervalo es [1,2] en este ejercicio)\n",
    "\n",
    "#obtener valores de eje verticial con la funciñon f(x)\n",
    "y_values_base_function = list(map(base_function, x_values))\n",
    "\n",
    "#obtener valores del eje vertical con la función P0(x)\n",
    "y_values_tay_pol_0 = list(map(taylor_polynomial_0, x_values))\n",
    "\n",
    "#obtener valores del eje vertical con la función P1(x)\n",
    "y_values_tay_pol_1 = list(map(taylor_polynomial_1, [1.5]*100, x_values))\n",
    "\n",
    "#obtener valores del eje vertical con la función P2(x)\n",
    "y_values_tay_pol_2 = list(map(taylor_polynomial_2, [1.5]*100, x_values))\n",
    "\n",
    "\n",
    "plt.plot(\n",
    "    x_values, y_values_base_function,\n",
    "    x_values, y_values_tay_pol_0,\n",
    "    x_values, y_values_tay_pol_1,\n",
    "    x_values, y_values_tay_pol_2\n",
    ")\n",
    "plt.grid(True) \n",
    "plt.show()\n"
   ]
  },
  {
   "cell_type": "markdown",
   "metadata": {},
   "source": [
    "##### ¿Cuánto es la aproximación de los polinomios en x=1.9? Calcula el error relativo de tus aproximaciones.\n",
    "$$R_n(x) = \\frac{f^{(n+1)}(\\xi_x)(x-x_0)^{(n+1)}}{(n+1)!}$$"
   ]
  },
  {
   "cell_type": "code",
   "execution_count": 21,
   "metadata": {},
   "outputs": [
    {
     "name": "stdout",
     "output_type": "stream",
     "text": [
      "P0(x) = 0.6666666666666666\n",
      "P1(x) = 0.48888888888888893\n",
      "P2(x) = 0.5837037037037037\n"
     ]
    }
   ],
   "source": [
    "x_0 = 1.5\n",
    "x = 1.9\n",
    "\n",
    "aprox_0 = taylor_polynomial_0(x_0)\n",
    "aprox_1 = taylor_polynomial_1(x_0, x)\n",
    "aprox_2 = taylor_polynomial_2(x_0, x)\n",
    "\n",
    "print(\"P0(x) =\", aprox_0)\n",
    "print(\"P1(x) =\", aprox_1)\n",
    "print(\"P2(x) =\", aprox_2)"
   ]
  },
  {
   "cell_type": "code",
   "execution_count": null,
   "metadata": {},
   "outputs": [],
   "source": []
  }
 ],
 "metadata": {
  "kernelspec": {
   "display_name": "Python 3",
   "language": "python",
   "name": "python3"
  },
  "language_info": {
   "codemirror_mode": {
    "name": "ipython",
    "version": 3
   },
   "file_extension": ".py",
   "mimetype": "text/x-python",
   "name": "python",
   "nbconvert_exporter": "python",
   "pygments_lexer": "ipython3",
   "version": "3.6.8"
  }
 },
 "nbformat": 4,
 "nbformat_minor": 2
}
