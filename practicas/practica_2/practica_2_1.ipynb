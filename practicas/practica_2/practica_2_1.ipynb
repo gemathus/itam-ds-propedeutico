{
 "cells": [
  {
   "cell_type": "markdown",
   "metadata": {},
   "source": [
    "# Práctica 2\n",
    "---\n",
    "### Ejercicio 1\n",
    "\n",
    "Aproximemos a la función $\\frac{1}{x}$ en el intervalo $[1,2]$ con polinomios de Taylor de orden $n$ con $n \\in \\{0,1,2\\}$ con centro en $x_0=1.5$. Los polinomios de Taylor son:\n",
    "\n",
    "$$P_0(x) = f(x_0) = \\frac{2}{3} \\quad \\text{(constante)}$$\n",
    "$$P_1(x) = f(x_0) + f^{(1)}(x_0)(x-x_0) = \\frac{2}{3} - \\frac{1}{x_0^2}(x-x_0) \\quad \\text{(lineal)}$$\n",
    "$$P_2(x) = f(x_0) + f^{(1)}(x_0)(x-x_0) + \\frac{f^{(2)}(x_0)(x-x_0)^2}{2} = \\frac{2}{3} - \\frac{1}{x_0^2}(x-x_0) + \\frac{2}{x_0^3}(x-x_0)^2 \\quad \\text{(cuadrático)}$$\n",
    "\n",
    "\n",
    "##### Graficar la función y los polinomios constante, lineal y cuadrático en una sola gráfica con matplotlib en el intervalo [1,2]. \n"
   ]
  },
  {
   "cell_type": "code",
   "execution_count": 2,
   "metadata": {},
   "outputs": [
    {
     "data": {
      "text/plain": [
       "<Figure size 640x480 with 1 Axes>"
      ]
     },
     "metadata": {},
     "output_type": "display_data"
    }
   ],
   "source": [
    "import matplotlib.pyplot as plt\n",
    "import numpy as np\n",
    "\n",
    "def base_function(x):\n",
    "    return 1/x\n",
    "\n",
    "#ponemos un argumento aunque no lo usemos para poder utilizar la función map() más adelante\n",
    "def taylor_polynomial_0(x_0):\n",
    "    return 2/3\n",
    "\n",
    "def taylor_polynomial_1(x_0, x):\n",
    "    return taylor_polynomial_0(x_0) - ((1/(x_0**2))*(x - x_0))\n",
    "\n",
    "def taylor_polynomial_2(x_0, x):\n",
    "    return taylor_polynomial_1(x_0,x) + ((2/(x_0**3))*((x-x_0)**2))\n",
    "\n",
    "x = 1.9\n",
    "x0 = 1.5\n",
    "\n",
    "x_values = np.linspace(1,2,100)    #rango de 1 a 2 con 100 números (el intervalo es [1,2] en este ejercicio)\n",
    "\n",
    "#obtener valores de eje verticial con la funciñon f(x)\n",
    "y_values_base_function = list(map(base_function, x_values))\n",
    "\n",
    "#obtener valores del eje vertical con la función P0(x)\n",
    "y_values_tay_pol_0 = list(map(taylor_polynomial_0, x_values))\n",
    "\n",
    "#obtener valores del eje vertical con la función P1(x)\n",
    "y_values_tay_pol_1 = list(map(taylor_polynomial_1, [1.5]*100, x_values))\n",
    "\n",
    "#obtener valores del eje vertical con la función P2(x)\n",
    "y_values_tay_pol_2 = list(map(taylor_polynomial_2, [1.5]*100, x_values))\n",
    "\n",
    "\n",
    "plt.plot(\n",
    "    x_values, y_values_base_function,\n",
    "    x_values, y_values_tay_pol_0,\n",
    "    x_values, y_values_tay_pol_1,\n",
    "    x_values, y_values_tay_pol_2\n",
    ")\n",
    "plt.grid(True) \n",
    "plt.show()\n"
   ]
  },
  {
   "cell_type": "markdown",
   "metadata": {},
   "source": [
    "##### ¿Cuánto es la aproximación de los polinomios en x=1.9? Calcula el error relativo de tus aproximaciones.\n",
    "$$R_n(x) = \\frac{f^{(n+1)}(\\xi_x)(x-x_0)^{(n+1)}}{(n+1)!}$$"
   ]
  },
  {
   "cell_type": "code",
   "execution_count": 3,
   "metadata": {},
   "outputs": [
    {
     "name": "stdout",
     "output_type": "stream",
     "text": [
      "P0(x) = 0.6666666666666666\n",
      "P1(x) = 0.48888888888888893\n",
      "P2(x) = 0.5837037037037037\n"
     ]
    }
   ],
   "source": [
    "x_0 = 1.5\n",
    "x = 1.9\n",
    "\n",
    "aprox_0 = taylor_polynomial_0(x_0)\n",
    "aprox_1 = taylor_polynomial_1(x_0, x)\n",
    "aprox_2 = taylor_polynomial_2(x_0, x)\n",
    "\n",
    "print(\"P0(x) =\", aprox_0)\n",
    "print(\"P1(x) =\", aprox_1)\n",
    "print(\"P2(x) =\", aprox_2)"
   ]
  },
  {
   "cell_type": "markdown",
   "metadata": {},
   "source": [
    "### Ejercicio 2\n",
    "\n",
    "#### Ejercicio: realizar una gráfica de log(error relativo) vs log(h) (h en el eje horizontal) para aproximar la segunda derivada de \n",
    "\n",
    "$f(x)=e^{-x}$ en $x=1$ con $h \\in \\{10^{-16}, 10^{-14}, \\dots , 10^{-1}\\}$ \n",
    "\n",
    "#### y diferencias hacia delante. Valor a aproximar: \n",
    "\n",
    "$f^{(2)}(1) = e^{-1}$. Usar:\n",
    "\n",
    "$$\\frac{d^2f(x)}{dx} \\approx \\frac{f(x+2h)-2f(x+h)+f(x)}{h^2}$$"
   ]
  },
  {
   "cell_type": "code",
   "execution_count": 4,
   "metadata": {},
   "outputs": [],
   "source": [
    "import numpy as np\n",
    "import matplotlib.pyplot as plt\n",
    "import math\n",
    "\n",
    "def error_relativo(p, p_ast):\n",
    "    return np.abs(p - p_ast)/np.abs(p_ast)\n",
    "\n",
    "def aprox_derivada(f,x,h):\n",
    "    return (f(x+h) - f(x-h))/(2.0*h)\n",
    "\n",
    "def aprox_2a_derivada(f,x,h):\n",
    "    return (f(x+h) - 2.0*f(x) + f(x-h))/h**2\n",
    "\n",
    "f = lambda x: np.exp(-x)\n",
    "\n",
    "x=1\n",
    "aux = np.arange(-16, 0, 1)\n",
    "h = np.power(10.0, aux)"
   ]
  },
  {
   "cell_type": "code",
   "execution_count": 5,
   "metadata": {},
   "outputs": [],
   "source": [
    "objetivo_df = -math.exp(-x)\n",
    "objetivo_dff = math.exp(-x)"
   ]
  },
  {
   "cell_type": "code",
   "execution_count": 6,
   "metadata": {},
   "outputs": [],
   "source": [
    "df = aprox_derivada(f, x, h)\n",
    "dff = aprox_2a_derivada(f, x, h)\n",
    "\n",
    "err_df = error_relativo(df, objetivo_df)\n",
    "err_dff = error_relativo(dff, objetivo_dff)"
   ]
  },
  {
   "cell_type": "code",
   "execution_count": 7,
   "metadata": {},
   "outputs": [
    {
     "data": {
      "image/png": "[encoded data removed]",
      "text/plain": [
       "<Figure size 432x288 with 1 Axes>"
      ]
     },
     "metadata": {
      "needs_background": "light"
     },
     "output_type": "display_data"
    },
    {
     "data": {
      "image/png": "[encoded data removed]",
      "text/plain": [
       "<Figure size 432x288 with 1 Axes>"
      ]
     },
     "metadata": {
      "needs_background": "light"
     },
     "output_type": "display_data"
    }
   ],
   "source": [
    "plt.plot(np.log(h), np.log(err_df))\n",
    "plt.show()\n",
    "plt.plot(np.log(h), np.log(err_dff))\n",
    "plt.show()"
   ]
  },
  {
   "cell_type": "markdown",
   "metadata": {},
   "source": [
    "---\n",
    "### Ejercicio 3\n",
    "#### Newton-Cotes\n",
    "#### Regla del rectángulo, trapecio y Simpson\n",
    "Aproximar el valor de la integral $\\int_0^{\\pi}sin(x)dx = 2$ con reglas compuestas del rectángulo y trapecio con un número de subintervalos $n \\in \\{1,10,20,30,40 \\}$ y hacer gráfica de la forma error relativo vs $n$ ($n$ en el eje horizontal)."
   ]
  },
  {
   "cell_type": "markdown",
   "metadata": {},
   "source": [
    "---"
   ]
  },
  {
   "cell_type": "markdown",
   "metadata": {},
   "source": []
  },
  {
   "cell_type": "markdown",
   "metadata": {},
   "source": [
    "### Regla del rectángulo\n",
    "Le regla del rectángulo se define:\n",
    "El área total aproximada debajo de  $f(x)$ en el interavalo `[a,b]`, es igual a la sumatoria de las áreas $I_i$, de $n$ rectángulos espaciados en $h=\\frac{b-a}{n}$, \n",
    "Entonces: \n",
    "$$\n",
    "I=\\sum_{i=1}^{n}I_{i}\n",
    "$$\n",
    "En donde\n",
    "$$\n",
    "I_i = h*f(x_i)\n",
    "$$\n",
    "con $ i = 1, 2, ..., n$ y $x_0=a y x_n = b$"
   ]
  },
  {
   "cell_type": "code",
   "execution_count": 8,
   "metadata": {},
   "outputs": [
    {
     "name": "stdout",
     "output_type": "stream",
     "text": [
      "Pruebas de la integral de sin(x) entre 0 y pi con n=1,10,20,30\n",
      "n=1  -> Area= 0.0\n",
      "n=10 -> Area= 1.9835235375094544\n",
      "n=20 -> Area= 1.9958859727087146\n",
      "n=30 -> Area= 1.9981719613436544\n"
     ]
    }
   ],
   "source": [
    "def calculate_h(a,b,n):\n",
    "    return float((b - a)/n)\n",
    "\n",
    "def rectangle_rule_approximation(fn, a, b, n): \n",
    "    #fn=función a ser estimada, a,b -> intervalos [a,b], n -> cantidad de intervalos\n",
    "    #Está medio ineficiente este algoritmo. Hay que encontrar la forma de quitar los ciclos\n",
    "    h = calculate_h(a,b,n)\n",
    "    area = 0\n",
    "    for i in range(0,n):\n",
    "        area += fn(h*i) * h\n",
    "    return area\n",
    "\n",
    "def relative_error(area, area_ast):\n",
    "    return np.abs(area - area_ast)/np.abs(area_ast)\n",
    "\n",
    "#vamos a probar este código con n=1, 10, 20 y 30\n",
    "print(\"Pruebas con sin(x) entre 0 y pi con n=1,10,20,30\")\n",
    "print(\"n=1  -> Area=\", rectangle_rule_approximation(math.sin, 0, math.pi, 1))\n",
    "print(\"n=10 -> Area=\", rectangle_rule_approximation(math.sin, 0, math.pi, 10))\n",
    "print(\"n=20 -> Area=\", rectangle_rule_approximation(math.sin, 0, math.pi, 20))\n",
    "print(\"n=30 -> Area=\", rectangle_rule_approximation(math.sin, 0, math.pi, 30))"
   ]
  },
  {
   "cell_type": "markdown",
   "metadata": {},
   "source": [
    "Claramente podemos ver que tiende a acercarse a $2$ conforme crece $n$... Entonces nuestro còdigo está bien"
   ]
  },
  {
   "cell_type": "code",
   "execution_count": 9,
   "metadata": {},
   "outputs": [],
   "source": [
    "#Exercise solution\n",
    "fn = math.sin\n",
    "a = 0\n",
    "b = math.pi\n",
    "n_list = np.array([1,10,20,30,40])\n",
    "rectangle_rule_aproximations = []\n",
    "for n in n_list:\n",
    "    rectangle_rule_aproximations.append(rectangle_rule_approximation(fn, a, b, n))"
   ]
  },
  {
   "cell_type": "code",
   "execution_count": 10,
   "metadata": {},
   "outputs": [
    {
     "name": "stdout",
     "output_type": "stream",
     "text": [
      "Aproximaciones: [0.0, 1.9835235375094544, 1.9958859727087146, 1.9981719613436544, 1.998971810497066]\n"
     ]
    }
   ],
   "source": [
    "print(\"Aproximaciones:\", rectangle_rule_aproximations)"
   ]
  },
  {
   "cell_type": "code",
   "execution_count": 11,
   "metadata": {},
   "outputs": [],
   "source": [
    "objetivo = 2\n",
    "relative_errors = list(map(relative_error, rectangle_rule_aproximations, [2]*5))"
   ]
  },
  {
   "cell_type": "code",
   "execution_count": 12,
   "metadata": {},
   "outputs": [
    {
     "data": {
      "text/plain": [
       "[1.0,\n",
       " 0.008238231245272787,\n",
       " 0.0020570136456427024,\n",
       " 0.0009140193281728104,\n",
       " 0.0005140947514670202]"
      ]
     },
     "execution_count": 12,
     "metadata": {},
     "output_type": "execute_result"
    }
   ],
   "source": [
    "relative_errors"
   ]
  },
  {
   "cell_type": "code",
   "execution_count": 13,
   "metadata": {},
   "outputs": [
    {
     "data": {
      "image/png": "[encoded data removed]",
      "text/plain": [
       "<Figure size 432x288 with 1 Axes>"
      ]
     },
     "metadata": {
      "needs_background": "light"
     },
     "output_type": "display_data"
    }
   ],
   "source": [
    "plt.plot(list(n_list), relative_errors, '--')\n",
    "plt.title(\"Regla del rectángulo\")\n",
    "plt.xlabel('n')\n",
    "plt.ylabel('error relativo')\n",
    "plt.grid(True)\n",
    "plt.show()"
   ]
  },
  {
   "cell_type": "markdown",
   "metadata": {},
   "source": [
    "### Regla del trapecio\n",
    "Le regla del trapecio se define:\n",
    "El área total aproximada debajo de  $f(x)$ en el interavalo `[a,b]`, es igual a la sumatoria de las áreas $I_i$, de $n$ rectángulos espaciados en $h=\\frac{b-a}{n}$, \n",
    "Entonces: \n",
    "$$\n",
    "I=\\sum_{i=0}^{n-1}I_{i}\n",
    "$$\n",
    "En donde\n",
    "$$\n",
    "I_{i}=\\frac{h}{2}\\left[f\\left(x_{i}\\right)+f\\left(x_{i+1}\\right)\\right]\n",
    "$$\n",
    "con $ i = 0, 1, ..., n$ y $x_0=a y x_n = b$"
   ]
  },
  {
   "cell_type": "code",
   "execution_count": 35,
   "metadata": {},
   "outputs": [],
   "source": [
    "def trapezoide_rule_approximation(fn, a, b, n):\n",
    "    h = calculate_h(a, b, n)\n",
    "    area = 0\n",
    "    for i in range(0,n):\n",
    "        area += (h/2)*(fn(h*i) + fn(h*(i+1)))\n",
    "    return area\n"
   ]
  },
  {
   "cell_type": "code",
   "execution_count": 39,
   "metadata": {},
   "outputs": [
    {
     "name": "stdout",
     "output_type": "stream",
     "text": [
      "Pruebas con sin(x) entre 0 y pi con n=1,10,20,30\n",
      "n=1  -> Area= 1.9236706937217898e-16\n",
      "n=10 -> Area= 1.9835235375094546\n",
      "n=20 -> Area= 1.9958859727087146\n",
      "n=30 -> Area= 1.9981719613436542\n"
     ]
    }
   ],
   "source": [
    "print(\"Pruebas con sin(x) entre 0 y pi con n=1,10,20,30\")\n",
    "print(\"n=1  -> Area=\", trapezoide_rule_approximation(math.sin, 0, math.pi, 1))\n",
    "print(\"n=10 -> Area=\", trapezoide_rule_approximation(math.sin, 0, math.pi, 10))\n",
    "print(\"n=20 -> Area=\", trapezoide_rule_approximation(math.sin, 0, math.pi, 20))\n",
    "print(\"n=30 -> Area=\", trapezoide_rule_approximation(math.sin, 0, math.pi, 30))"
   ]
  },
  {
   "cell_type": "code",
   "execution_count": 52,
   "metadata": {},
   "outputs": [],
   "source": [
    "#Exercise solution\n",
    "fn = math.sin\n",
    "a = 0\n",
    "b = math.pi\n",
    "n_list = np.array([1,10,20,30,40])\n",
    "trapezoide_rule_aproximations = []\n",
    "for n in n_list:\n",
    "    trapezoide_rule_aproximations.append(trapezoide_rule_approximation(fn, a, b, n))"
   ]
  },
  {
   "cell_type": "code",
   "execution_count": 53,
   "metadata": {},
   "outputs": [
    {
     "name": "stdout",
     "output_type": "stream",
     "text": [
      "Aproximaciones: [1.9236706937217898e-16, 1.9835235375094546, 1.9958859727087146, 1.9981719613436542, 1.9989718104970657]\n"
     ]
    }
   ],
   "source": [
    "print(\"Aproximaciones:\", trapezoide_rule_aproximations)"
   ]
  },
  {
   "cell_type": "code",
   "execution_count": 59,
   "metadata": {},
   "outputs": [
    {
     "data": {
      "text/plain": [
       "[0.9999999999999999,\n",
       " 0.008238231245272676,\n",
       " 0.0020570136456427024,\n",
       " 0.0009140193281729214,\n",
       " 0.0005140947514671312]"
      ]
     },
     "execution_count": 59,
     "metadata": {},
     "output_type": "execute_result"
    }
   ],
   "source": [
    "relative_errors = list(map(relative_error, trapezoide_rule_aproximations, [2]*5))\n",
    "relative_errors"
   ]
  },
  {
   "cell_type": "code",
   "execution_count": 58,
   "metadata": {},
   "outputs": [
    {
     "data": {
      "image/png": "[encoded data removed]",
      "text/plain": [
       "<Figure size 432x288 with 1 Axes>"
      ]
     },
     "metadata": {
      "needs_background": "light"
     },
     "output_type": "display_data"
    }
   ],
   "source": [
    "plt.plot(list(n_list), relative_errors, '--')\n",
    "plt.title(\"Regla del trapecio\")\n",
    "plt.xlabel('n')\n",
    "plt.ylabel('error relativo')\n",
    "plt.grid(True)\n",
    "plt.show()"
   ]
  },
  {
   "cell_type": "code",
   "execution_count": null,
   "metadata": {},
   "outputs": [],
   "source": []
  }
 ],
 "metadata": {
  "kernelspec": {
   "display_name": "Python 3",
   "language": "python",
   "name": "python3"
  },
  "language_info": {
   "codemirror_mode": {
    "name": "ipython",
    "version": 3
   },
   "file_extension": ".py",
   "mimetype": "text/x-python",
   "name": "python",
   "nbconvert_exporter": "python",
   "pygments_lexer": "ipython3",
   "version": "3.7.3"
  }
 },
 "nbformat": 4,
 "nbformat_minor": 2
}
