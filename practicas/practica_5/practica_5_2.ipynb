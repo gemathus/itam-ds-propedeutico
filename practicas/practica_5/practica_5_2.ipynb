{
 "cells": [
  {
   "cell_type": "markdown",
   "metadata": {},
   "source": [
    "# Práctica 5\n",
    "## Distribuciones comunes\n",
    "\n",
    "---"
   ]
  },
  {
   "cell_type": "markdown",
   "metadata": {},
   "source": [
    "## Ejercicio 1\n",
    "Supóngase que el tiempo (en minutos) que una persona espera el Metrobús los días de semana sigue una distribución uniforme dada por, $$f(x) = \\begin{cases}\n",
    "\\frac{1}{12} & \\text{si } 0 \\leq x \\leq 12,\\\\\n",
    "0 & \\text{en otro caso}\n",
    "\\end{cases}$$\n",
    "\n",
    "a) ¿Cuál es la probabilidad que una persona espere menos de $6$ minutos?.\n",
    "\n",
    "b) ¿Su tiempo medio de espera? ¿su desviación estándar?."
   ]
  },
  {
   "cell_type": "code",
   "execution_count": 1,
   "metadata": {},
   "outputs": [
    {
     "data": {
      "text/html": [
       "0.5"
      ],
      "text/latex": [
       "0.5"
      ],
      "text/markdown": [
       "0.5"
      ],
      "text/plain": [
       "[1] 0.5"
      ]
     },
     "metadata": {},
     "output_type": "display_data"
    }
   ],
   "source": [
    "a = 0\n",
    "b = 12\n",
    "punif(6, min=a, max=b)"
   ]
  },
  {
   "cell_type": "code",
   "execution_count": 3,
   "metadata": {},
   "outputs": [
    {
     "data": {
      "text/html": [
       "6"
      ],
      "text/latex": [
       "6"
      ],
      "text/markdown": [
       "6"
      ],
      "text/plain": [
       "[1] 6"
      ]
     },
     "metadata": {},
     "output_type": "display_data"
    }
   ],
   "source": [
    "a = 0\n",
    "b = 12\n",
    "t_medio_espera = (a+b)/2\n",
    "t_medio_espera"
   ]
  },
  {
   "cell_type": "code",
   "execution_count": 5,
   "metadata": {},
   "outputs": [
    {
     "data": {
      "text/html": [
       "3.46410161513775"
      ],
      "text/latex": [
       "3.46410161513775"
      ],
      "text/markdown": [
       "3.46410161513775"
      ],
      "text/plain": [
       "[1] 3.464102"
      ]
     },
     "metadata": {},
     "output_type": "display_data"
    }
   ],
   "source": [
    "desv_est = sqrt((b-a)**2/12)\n",
    "desv_est"
   ]
  },
  {
   "cell_type": "markdown",
   "metadata": {},
   "source": [
    "## Ejercicio 2\n",
    "Considérese lanzamientos de una moneda no cargada. Sea $X$ la variable aleatoria que cuenta el número de águilas en $10$ lanzamientos. Calcular en R la probabilidad $P(X \\geq 3)$ con la función pbinom y dbinom, el número medio de águilas y su desviación estándar."
   ]
  },
  {
   "cell_type": "code",
   "execution_count": 6,
   "metadata": {},
   "outputs": [
    {
     "data": {
      "text/html": [
       "0.9453125"
      ],
      "text/latex": [
       "0.9453125"
      ],
      "text/markdown": [
       "0.9453125"
      ],
      "text/plain": [
       "[1] 0.9453125"
      ]
     },
     "metadata": {},
     "output_type": "display_data"
    }
   ],
   "source": [
    "1 - (dbinom(0, size=10, prob=0.5) + dbinom(1, size=10, prob=0.5) + dbinom(2, size=10, prob=0.5))"
   ]
  },
  {
   "cell_type": "code",
   "execution_count": 7,
   "metadata": {},
   "outputs": [
    {
     "data": {
      "text/html": [
       "0.9453125"
      ],
      "text/latex": [
       "0.9453125"
      ],
      "text/markdown": [
       "0.9453125"
      ],
      "text/plain": [
       "[1] 0.9453125"
      ]
     },
     "metadata": {},
     "output_type": "display_data"
    }
   ],
   "source": [
    "1 - pbinom(2, size=10, prob=0.5)"
   ]
  },
  {
   "cell_type": "code",
   "execution_count": 11,
   "metadata": {},
   "outputs": [],
   "source": [
    "mu = 10 * .5\n",
    "sd = sqrt(10*0.5*(1-0.5))"
   ]
  },
  {
   "cell_type": "code",
   "execution_count": 12,
   "metadata": {},
   "outputs": [
    {
     "data": {
      "text/html": [
       "5"
      ],
      "text/latex": [
       "5"
      ],
      "text/markdown": [
       "5"
      ],
      "text/plain": [
       "[1] 5"
      ]
     },
     "metadata": {},
     "output_type": "display_data"
    }
   ],
   "source": [
    "mu"
   ]
  },
  {
   "cell_type": "code",
   "execution_count": 13,
   "metadata": {},
   "outputs": [
    {
     "data": {
      "text/html": [
       "1.58113883008419"
      ],
      "text/latex": [
       "1.58113883008419"
      ],
      "text/markdown": [
       "1.58113883008419"
      ],
      "text/plain": [
       "[1] 1.581139"
      ]
     },
     "metadata": {},
     "output_type": "display_data"
    }
   ],
   "source": [
    "sd"
   ]
  },
  {
   "cell_type": "markdown",
   "metadata": {},
   "source": [
    "## Ejercicio 3\n",
    "Considérese una población de votantes en la ciudad de México. Se reporta que la proporción de votantes que favorecen al candidato del partido Naranja es igual a $0.40$. Dada una muestra aleatoria de $200$ votantes, ¿cuál es la probabilidad de que más de la mitad de ellos tengan intención de voto por el candidato naranja? Usar:\n",
    "\n",
    "* pbinom\n",
    "\n",
    "* El teorema del límite central y pnorm considerando lo que se conoce como corrección por continuidad: si $B$ es variable aleatoria binomial con $\\mu$ y $\\sigma$ entonces $P(B=k) = P(k-0.5 < X < k+0.5)$ con $X$ variable aleatoria normal $N(\\mu,\\sigma)$ y $k$ un número entero no negativo."
   ]
  },
  {
   "cell_type": "markdown",
   "metadata": {},
   "source": [
    "### pbinom"
   ]
  },
  {
   "cell_type": "code",
   "execution_count": 15,
   "metadata": {},
   "outputs": [
    {
     "data": {
      "text/html": [
       "0.00168478651991935"
      ],
      "text/latex": [
       "0.00168478651991935"
      ],
      "text/markdown": [
       "0.00168478651991935"
      ],
      "text/plain": [
       "[1] 0.001684787"
      ]
     },
     "metadata": {},
     "output_type": "display_data"
    }
   ],
   "source": [
    "n = 200\n",
    "p = 0.4\n",
    "pbinom(n/2, size=n, prob=p, lower.tail=F)"
   ]
  },
  {
   "cell_type": "markdown",
   "metadata": {},
   "source": [
    "### Teorema del límite central"
   ]
  },
  {
   "cell_type": "code",
   "execution_count": 16,
   "metadata": {},
   "outputs": [],
   "source": [
    "mu = n * p"
   ]
  },
  {
   "cell_type": "code",
   "execution_count": 17,
   "metadata": {},
   "outputs": [],
   "source": [
    "sigma = sqrt(n * p * (1 - p))"
   ]
  },
  {
   "cell_type": "code",
   "execution_count": 18,
   "metadata": {},
   "outputs": [
    {
     "data": {
      "text/html": [
       "0.00154359552099668"
      ],
      "text/latex": [
       "0.00154359552099668"
      ],
      "text/markdown": [
       "0.00154359552099668"
      ],
      "text/plain": [
       "[1] 0.001543596"
      ]
     },
     "metadata": {},
     "output_type": "display_data"
    }
   ],
   "source": [
    "pnorm((n/2)+0.5, mu, sigma, lower.tail=F)"
   ]
  },
  {
   "cell_type": "markdown",
   "metadata": {},
   "source": [
    "## Ejercicio 4\n",
    "Supongamos que el ingreso anual de un imigrante mexicano en los EUA se distribuye de forma normal con una media de $\\$30,000$ y una desviación estándar de $\\$10,000$ dólares. ¿Cuál es la probabilidad de que un inmigrante mexicano gane menos de $\\$20,000$ dólares anuales? ¿Cuál es la probabilidad de que su ingreso sea mayor a los $\\$50,000$ dólares anuales? (usar R)."
   ]
  },
  {
   "cell_type": "code",
   "execution_count": 21,
   "metadata": {},
   "outputs": [
    {
     "name": "stdout",
     "output_type": "stream",
     "text": [
      "[1] \"prob de que gane menos de 20,000 dolares anuales\"\n"
     ]
    },
    {
     "data": {
      "text/html": [
       "0.158655253931457"
      ],
      "text/latex": [
       "0.158655253931457"
      ],
      "text/markdown": [
       "0.158655253931457"
      ],
      "text/plain": [
       "[1] 0.1586553"
      ]
     },
     "metadata": {},
     "output_type": "display_data"
    }
   ],
   "source": [
    "media <- 0\n",
    "desv_est <- 1\n",
    "#elegimos estos valroes por ser una dist normal\n",
    "\n",
    "izq <- (20000-30000)/10000\n",
    "print(\"prob de que gane menos de 20,000 dolares anuales\")\n",
    "1 - pnorm(izq, lower.tail=F)"
   ]
  },
  {
   "cell_type": "code",
   "execution_count": 23,
   "metadata": {},
   "outputs": [
    {
     "name": "stdout",
     "output_type": "stream",
     "text": [
      "[1] \"prob de que gane maás de 50000 dolares anuales\"\n"
     ]
    },
    {
     "data": {
      "text/html": [
       "0.0227501319481792"
      ],
      "text/latex": [
       "0.0227501319481792"
      ],
      "text/markdown": [
       "0.0227501319481792"
      ],
      "text/plain": [
       "[1] 0.02275013"
      ]
     },
     "metadata": {},
     "output_type": "display_data"
    }
   ],
   "source": [
    "izq <- (50000-30000)/10000\n",
    "print(\"prob de que gane maás de 50000 dolares anuales\")\n",
    "pnorm(izq, lower.tail=F)"
   ]
  },
  {
   "cell_type": "code",
   "execution_count": null,
   "metadata": {},
   "outputs": [],
   "source": []
  }
 ],
 "metadata": {
  "kernelspec": {
   "display_name": "R",
   "language": "R",
   "name": "ir"
  },
  "language_info": {
   "codemirror_mode": "r",
   "file_extension": ".r",
   "mimetype": "text/x-r-source",
   "name": "R",
   "pygments_lexer": "r",
   "version": "3.4.4"
  }
 },
 "nbformat": 4,
 "nbformat_minor": 2
}
