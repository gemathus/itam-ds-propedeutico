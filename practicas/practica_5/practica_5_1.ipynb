{
 "cells": [
  {
   "cell_type": "markdown",
   "metadata": {},
   "source": [
    "# Práctica 5\n",
    "## Elementos de estadística descriptiva\n",
    "\n",
    "---"
   ]
  },
  {
   "cell_type": "code",
   "execution_count": 8,
   "metadata": {},
   "outputs": [],
   "source": [
    "library('ggplot2')\n",
    "library('tidyr')\n",
    "library('MASS')"
   ]
  },
  {
   "cell_type": "code",
   "execution_count": 9,
   "metadata": {},
   "outputs": [],
   "source": [
    "options(repr.plot.width=3.5, repr.plot.height=3.5)\n",
    "options(digits=2)"
   ]
  },
  {
   "cell_type": "markdown",
   "metadata": {},
   "source": [
    "## 1. Considérese el experimento de lanzar $20$ veces una moneda y obtener la secuencia: \n",
    "$$\n",
    "H,T,H,H,T,H,H,T,H,H,T,T,H,T,T,T,H,H,H,T\n",
    "$$"
   ]
  },
  {
   "cell_type": "code",
   "execution_count": 12,
   "metadata": {},
   "outputs": [],
   "source": [
    "sec_obtenida <- c(\"H\",\"T\",\"H\",\"H\",\"T\",\"H\",\"H\",\"T\",\"H\",\"H\",\"T\",\"T\",\"H\",\"T\",\"T\",\"T\",\"H\",\"H\",\"H\",\"T\")\n",
    "tb_sec_obtenida <- table(sec_obtenida)"
   ]
  },
  {
   "cell_type": "markdown",
   "metadata": {},
   "source": [
    "### Proporciones"
   ]
  },
  {
   "cell_type": "code",
   "execution_count": 14,
   "metadata": {},
   "outputs": [
    {
     "data": {
      "text/plain": [
       "sec_obtenida\n",
       "   H    T \n",
       "0.55 0.45 "
      ]
     },
     "metadata": {},
     "output_type": "display_data"
    }
   ],
   "source": [
    "proporciones <- prop.table(tb_sec_obtenida)\n",
    "proporciones"
   ]
  },
  {
   "cell_type": "code",
   "execution_count": 15,
   "metadata": {},
   "outputs": [
    {
     "data": {
      "image/png": "[encoded data removed]",
      "text/plain": [
       "plot without title"
      ]
     },
     "metadata": {},
     "output_type": "display_data"
    }
   ],
   "source": [
    "p1 <- plot(proporciones)"
   ]
  },
  {
   "cell_type": "code",
   "execution_count": 16,
   "metadata": {},
   "outputs": [
    {
     "data": {
      "image/png": "[encoded data removed]",
      "text/plain": [
       "plot without title"
      ]
     },
     "metadata": {},
     "output_type": "display_data"
    }
   ],
   "source": [
    "p2 <- barplot(proporciones)"
   ]
  },
  {
   "cell_type": "markdown",
   "metadata": {},
   "source": [
    "## 2. Para el dataset analizado anteriormente y que se creó: log_mammals realizar:\n",
    "* a)Para datos cuantitativos es común realizar diagramas de tallos y hojas. Investigar la interpretación de estos diagramas y usar la función stem del paquete base de R para realizar tales diagramas a las variables log_body y log_brain e interpretarlas.\n",
    "* b) scatterplot coloreando diferente a cada grupo que se creó: mamífero pequeño y mamífero grande con la variable size_body.\n",
    "* c) Instalar el paquete dplyr para colocar los datos en un formato long y se pueda graficar con el paquete de ggplot2 con la función gather el dataframe log_mammals. Después de instalar tal paquete, realizar mismo enunciado que a) pero con geom_points y paquete ggplot2.\n",
    "* d) Calcular estadísticas como el promedio, mediana, máximo y mínimo por grupos de mamífero pequeño y mamífero grande con dplyr y funciones como group_by, sumarise y el operador %>% (pipe). Ver como ayuda: Data Wrangling with dplyr and tidyr o Data Transformation with dplyr o bien como ejemplo de uso: https://genomicsclass.github.io/book/pages/dplyr_tutorial.html u otro tutorial en la red de dplyr ¿qué mamíferos en cada grupo están en los tres primeros lugares (pensando que se ordenan de forma decreciente en log_brain)?.\n",
    "* e) Crea una nueva variable r que sea el cociente entre brain y body. Ordena en orden creciente el dataset de mammals de acuerdo a esta nueva variable. ¿Qué mamíferos tienen los cocientes más grandes? ¿y cuáles los más pequeños?\n",
    "* f) Usando e) realiza un scatterplot de r vs body."
   ]
  },
  {
   "cell_type": "code",
   "execution_count": 20,
   "metadata": {},
   "outputs": [
    {
     "data": {
      "text/html": [
       "<table>\n",
       "<caption>A data.frame: 6 × 2</caption>\n",
       "<thead>\n",
       "\t<tr><th></th><th scope=col>log_body</th><th scope=col>log_brain</th></tr>\n",
       "\t<tr><th></th><th scope=col>&lt;dbl&gt;</th><th scope=col>&lt;dbl&gt;</th></tr>\n",
       "</thead>\n",
       "<tbody>\n",
       "\t<tr><th scope=row>Arctic fox</th><td> 1.22</td><td>3.8</td></tr>\n",
       "\t<tr><th scope=row>Owl monkey</th><td>-0.73</td><td>2.7</td></tr>\n",
       "\t<tr><th scope=row>Mountain beaver</th><td> 0.30</td><td>2.1</td></tr>\n",
       "\t<tr><th scope=row>Cow</th><td> 6.14</td><td>6.0</td></tr>\n",
       "\t<tr><th scope=row>Grey wolf</th><td> 3.59</td><td>4.8</td></tr>\n",
       "\t<tr><th scope=row>Goat</th><td> 3.32</td><td>4.7</td></tr>\n",
       "</tbody>\n",
       "</table>\n"
      ],
      "text/latex": [
       "A data.frame: 6 × 2\n",
       "\\begin{tabular}{r|ll}\n",
       "  & log\\_body & log\\_brain\\\\\n",
       "  & <dbl> & <dbl>\\\\\n",
       "\\hline\n",
       "\tArctic fox &  1.22 & 3.8\\\\\n",
       "\tOwl monkey & -0.73 & 2.7\\\\\n",
       "\tMountain beaver &  0.30 & 2.1\\\\\n",
       "\tCow &  6.14 & 6.0\\\\\n",
       "\tGrey wolf &  3.59 & 4.8\\\\\n",
       "\tGoat &  3.32 & 4.7\\\\\n",
       "\\end{tabular}\n"
      ],
      "text/markdown": [
       "\n",
       "A data.frame: 6 × 2\n",
       "\n",
       "| <!--/--> | log_body &lt;dbl&gt; | log_brain &lt;dbl&gt; |\n",
       "|---|---|---|\n",
       "| Arctic fox |  1.22 | 3.8 |\n",
       "| Owl monkey | -0.73 | 2.7 |\n",
       "| Mountain beaver |  0.30 | 2.1 |\n",
       "| Cow |  6.14 | 6.0 |\n",
       "| Grey wolf |  3.59 | 4.8 |\n",
       "| Goat |  3.32 | 4.7 |\n",
       "\n"
      ],
      "text/plain": [
       "                log_body log_brain\n",
       "Arctic fox       1.22    3.8      \n",
       "Owl monkey      -0.73    2.7      \n",
       "Mountain beaver  0.30    2.1      \n",
       "Cow              6.14    6.0      \n",
       "Grey wolf        3.59    4.8      \n",
       "Goat             3.32    4.7      "
      ]
     },
     "metadata": {},
     "output_type": "display_data"
    }
   ],
   "source": [
    "log_mammals<-log(mammals)\n",
    "colnames(log_mammals) <- c('log_body', 'log_brain')\n",
    "head(log_mammals)"
   ]
  },
  {
   "cell_type": "code",
   "execution_count": 21,
   "metadata": {},
   "outputs": [
    {
     "name": "stdout",
     "output_type": "stream",
     "text": [
      "\n",
      "  The decimal point is at the |\n",
      "\n",
      "  -4 | 36\n",
      "  -2 | 880863311\n",
      "  -0 | 639763211\n",
      "   0 | 00333557912233344459\n",
      "   2 | 347366\n",
      "   4 | 00114612335\n",
      "   6 | 1338\n",
      "   8 | 8\n",
      "\n"
     ]
    }
   ],
   "source": [
    "stem(log_mammals$log_body)"
   ]
  },
  {
   "cell_type": "code",
   "execution_count": 22,
   "metadata": {},
   "outputs": [
    {
     "name": "stdout",
     "output_type": "stream",
     "text": [
      "\n",
      "  The decimal point is at the |\n",
      "\n",
      "  -2 | 0\n",
      "  -0 | 4219\n",
      "   0 | 00269901344677899\n",
      "   2 | 1445555789022789\n",
      "   4 | 01467781122228\n",
      "   6 | 00012552\n",
      "   8 | 47\n",
      "\n"
     ]
    }
   ],
   "source": [
    "stem(log_mammals$log_brain)"
   ]
  },
  {
   "cell_type": "code",
   "execution_count": 33,
   "metadata": {},
   "outputs": [],
   "source": [
    "#crear una nueva variable categórica que distinga entre mamíferos grande y pequeños\n",
    "medianas <- c(median(log_mammals$log_body), median(log_mammals$log_brain))\n",
    "log_mammals$body_size <- ifelse(log_mammals$log_body < medianas[1], \"pequeño\", \"grande\" )\n",
    "log_mammals$brain_size <- ifelse(log_mammals$log_brain < medianas[2], \"pequeño\", \"grande\" )"
   ]
  },
  {
   "cell_type": "code",
   "execution_count": 34,
   "metadata": {},
   "outputs": [
    {
     "data": {
      "text/html": [
       "<table>\n",
       "<caption>A data.frame: 6 × 4</caption>\n",
       "<thead>\n",
       "\t<tr><th></th><th scope=col>log_body</th><th scope=col>log_brain</th><th scope=col>body_size</th><th scope=col>brain_size</th></tr>\n",
       "\t<tr><th></th><th scope=col>&lt;dbl&gt;</th><th scope=col>&lt;dbl&gt;</th><th scope=col>&lt;chr&gt;</th><th scope=col>&lt;chr&gt;</th></tr>\n",
       "</thead>\n",
       "<tbody>\n",
       "\t<tr><th scope=row>Arctic fox</th><td> 1.22</td><td>3.8</td><td>grande </td><td>grande </td></tr>\n",
       "\t<tr><th scope=row>Owl monkey</th><td>-0.73</td><td>2.7</td><td>pequeño</td><td>pequeño</td></tr>\n",
       "\t<tr><th scope=row>Mountain beaver</th><td> 0.30</td><td>2.1</td><td>pequeño</td><td>pequeño</td></tr>\n",
       "\t<tr><th scope=row>Cow</th><td> 6.14</td><td>6.0</td><td>grande </td><td>grande </td></tr>\n",
       "\t<tr><th scope=row>Grey wolf</th><td> 3.59</td><td>4.8</td><td>grande </td><td>grande </td></tr>\n",
       "\t<tr><th scope=row>Goat</th><td> 3.32</td><td>4.7</td><td>grande </td><td>grande </td></tr>\n",
       "</tbody>\n",
       "</table>\n"
      ],
      "text/latex": [
       "A data.frame: 6 × 4\n",
       "\\begin{tabular}{r|llll}\n",
       "  & log\\_body & log\\_brain & body\\_size & brain\\_size\\\\\n",
       "  & <dbl> & <dbl> & <chr> & <chr>\\\\\n",
       "\\hline\n",
       "\tArctic fox &  1.22 & 3.8 & grande  & grande \\\\\n",
       "\tOwl monkey & -0.73 & 2.7 & pequeño & pequeño\\\\\n",
       "\tMountain beaver &  0.30 & 2.1 & pequeño & pequeño\\\\\n",
       "\tCow &  6.14 & 6.0 & grande  & grande \\\\\n",
       "\tGrey wolf &  3.59 & 4.8 & grande  & grande \\\\\n",
       "\tGoat &  3.32 & 4.7 & grande  & grande \\\\\n",
       "\\end{tabular}\n"
      ],
      "text/markdown": [
       "\n",
       "A data.frame: 6 × 4\n",
       "\n",
       "| <!--/--> | log_body &lt;dbl&gt; | log_brain &lt;dbl&gt; | body_size &lt;chr&gt; | brain_size &lt;chr&gt; |\n",
       "|---|---|---|---|---|\n",
       "| Arctic fox |  1.22 | 3.8 | grande  | grande  |\n",
       "| Owl monkey | -0.73 | 2.7 | pequeño | pequeño |\n",
       "| Mountain beaver |  0.30 | 2.1 | pequeño | pequeño |\n",
       "| Cow |  6.14 | 6.0 | grande  | grande  |\n",
       "| Grey wolf |  3.59 | 4.8 | grande  | grande  |\n",
       "| Goat |  3.32 | 4.7 | grande  | grande  |\n",
       "\n"
      ],
      "text/plain": [
       "                log_body log_brain body_size brain_size\n",
       "Arctic fox       1.22    3.8       grande    grande    \n",
       "Owl monkey      -0.73    2.7       pequeño   pequeño   \n",
       "Mountain beaver  0.30    2.1       pequeño   pequeño   \n",
       "Cow              6.14    6.0       grande    grande    \n",
       "Grey wolf        3.59    4.8       grande    grande    \n",
       "Goat             3.32    4.7       grande    grande    "
      ]
     },
     "metadata": {},
     "output_type": "display_data"
    }
   ],
   "source": [
    "head(log_mammals)"
   ]
  },
  {
   "cell_type": "code",
   "execution_count": 40,
   "metadata": {},
   "outputs": [
    {
     "data": {
      "image/png": "[encoded data removed]",
      "text/plain": [
       "plot without title"
      ]
     },
     "metadata": {},
     "output_type": "display_data"
    }
   ],
   "source": [
    "log_mammals$color <- ifelse(log_mammals$body_size == \"grande\", \"red\", \"green\")\n",
    "plot(log_mammals$log_body,log_mammals$log_brain,xlab=\"log_body\",ylab=\"log_brain\",col=log_mammals$color)"
   ]
  },
  {
   "cell_type": "code",
   "execution_count": 45,
   "metadata": {},
   "outputs": [
    {
     "data": {
      "text/html": [
       "<table>\n",
       "<caption>A data.frame: 6 × 5</caption>\n",
       "<thead>\n",
       "\t<tr><th scope=col>body_size</th><th scope=col>brain_size</th><th scope=col>color</th><th scope=col>var</th><th scope=col>col</th></tr>\n",
       "\t<tr><th scope=col>&lt;chr&gt;</th><th scope=col>&lt;chr&gt;</th><th scope=col>&lt;chr&gt;</th><th scope=col>&lt;chr&gt;</th><th scope=col>&lt;dbl&gt;</th></tr>\n",
       "</thead>\n",
       "<tbody>\n",
       "\t<tr><td>grande </td><td>grande </td><td>red  </td><td>log_body</td><td> 1.22</td></tr>\n",
       "\t<tr><td>pequeño</td><td>pequeño</td><td>green</td><td>log_body</td><td>-0.73</td></tr>\n",
       "\t<tr><td>pequeño</td><td>pequeño</td><td>green</td><td>log_body</td><td> 0.30</td></tr>\n",
       "\t<tr><td>grande </td><td>grande </td><td>red  </td><td>log_body</td><td> 6.14</td></tr>\n",
       "\t<tr><td>grande </td><td>grande </td><td>red  </td><td>log_body</td><td> 3.59</td></tr>\n",
       "\t<tr><td>grande </td><td>grande </td><td>red  </td><td>log_body</td><td> 3.32</td></tr>\n",
       "</tbody>\n",
       "</table>\n"
      ],
      "text/latex": [
       "A data.frame: 6 × 5\n",
       "\\begin{tabular}{r|lllll}\n",
       " body\\_size & brain\\_size & color & var & col\\\\\n",
       " <chr> & <chr> & <chr> & <chr> & <dbl>\\\\\n",
       "\\hline\n",
       "\t grande  & grande  & red   & log\\_body &  1.22\\\\\n",
       "\t pequeño & pequeño & green & log\\_body & -0.73\\\\\n",
       "\t pequeño & pequeño & green & log\\_body &  0.30\\\\\n",
       "\t grande  & grande  & red   & log\\_body &  6.14\\\\\n",
       "\t grande  & grande  & red   & log\\_body &  3.59\\\\\n",
       "\t grande  & grande  & red   & log\\_body &  3.32\\\\\n",
       "\\end{tabular}\n"
      ],
      "text/markdown": [
       "\n",
       "A data.frame: 6 × 5\n",
       "\n",
       "| body_size &lt;chr&gt; | brain_size &lt;chr&gt; | color &lt;chr&gt; | var &lt;chr&gt; | col &lt;dbl&gt; |\n",
       "|---|---|---|---|---|\n",
       "| grande  | grande  | red   | log_body |  1.22 |\n",
       "| pequeño | pequeño | green | log_body | -0.73 |\n",
       "| pequeño | pequeño | green | log_body |  0.30 |\n",
       "| grande  | grande  | red   | log_body |  6.14 |\n",
       "| grande  | grande  | red   | log_body |  3.59 |\n",
       "| grande  | grande  | red   | log_body |  3.32 |\n",
       "\n"
      ],
      "text/plain": [
       "  body_size brain_size color var      col  \n",
       "1 grande    grande     red   log_body  1.22\n",
       "2 pequeño   pequeño    green log_body -0.73\n",
       "3 pequeño   pequeño    green log_body  0.30\n",
       "4 grande    grande     red   log_body  6.14\n",
       "5 grande    grande     red   log_body  3.59\n",
       "6 grande    grande     red   log_body  3.32"
      ]
     },
     "metadata": {},
     "output_type": "display_data"
    }
   ],
   "source": [
    "long<-gather(log_mammals,\"var\",\"col\",c(log_body,log_brain))\n",
    "head(long)"
   ]
  },
  {
   "cell_type": "code",
   "execution_count": 55,
   "metadata": {},
   "outputs": [],
   "source": [
    "p3 <- ggplot(data=long, aes(x=var,y=col, color=body_size))"
   ]
  },
  {
   "cell_type": "code",
   "execution_count": 56,
   "metadata": {},
   "outputs": [
    {
     "data": {
      "image/png": "[encoded data removed]",
      "text/plain": [
       "plot without title"
      ]
     },
     "metadata": {},
     "output_type": "display_data"
    }
   ],
   "source": [
    "p3 + geom_point()"
   ]
  },
  {
   "cell_type": "code",
   "execution_count": 58,
   "metadata": {},
   "outputs": [
    {
     "data": {
      "text/html": [
       "<table>\n",
       "<caption>A tibble: 2 × 6</caption>\n",
       "<thead>\n",
       "\t<tr><th scope=col>log_mammals$body_size</th><th scope=col>n()</th><th scope=col>mean(log_mammals$log_body)</th><th scope=col>median(log_mammals$log_body)</th><th scope=col>min(log_mammals$log_body)</th><th scope=col>max(log_mammals$log_body)</th></tr>\n",
       "\t<tr><th scope=col>&lt;chr&gt;</th><th scope=col>&lt;int&gt;</th><th scope=col>&lt;dbl&gt;</th><th scope=col>&lt;dbl&gt;</th><th scope=col>&lt;dbl&gt;</th><th scope=col>&lt;dbl&gt;</th></tr>\n",
       "</thead>\n",
       "<tbody>\n",
       "\t<tr><td>grande </td><td>31</td><td>1.3</td><td>1.2</td><td>-5.3</td><td>8.8</td></tr>\n",
       "\t<tr><td>pequeño</td><td>31</td><td>1.3</td><td>1.2</td><td>-5.3</td><td>8.8</td></tr>\n",
       "</tbody>\n",
       "</table>\n"
      ],
      "text/latex": [
       "A tibble: 2 × 6\n",
       "\\begin{tabular}{r|llllll}\n",
       " log\\_mammals\\$body\\_size & n() & mean(log\\_mammals\\$log\\_body) & median(log\\_mammals\\$log\\_body) & min(log\\_mammals\\$log\\_body) & max(log\\_mammals\\$log\\_body)\\\\\n",
       " <chr> & <int> & <dbl> & <dbl> & <dbl> & <dbl>\\\\\n",
       "\\hline\n",
       "\t grande  & 31 & 1.3 & 1.2 & -5.3 & 8.8\\\\\n",
       "\t pequeño & 31 & 1.3 & 1.2 & -5.3 & 8.8\\\\\n",
       "\\end{tabular}\n"
      ],
      "text/markdown": [
       "\n",
       "A tibble: 2 × 6\n",
       "\n",
       "| log_mammals$body_size &lt;chr&gt; | n() &lt;int&gt; | mean(log_mammals$log_body) &lt;dbl&gt; | median(log_mammals$log_body) &lt;dbl&gt; | min(log_mammals$log_body) &lt;dbl&gt; | max(log_mammals$log_body) &lt;dbl&gt; |\n",
       "|---|---|---|---|---|---|\n",
       "| grande  | 31 | 1.3 | 1.2 | -5.3 | 8.8 |\n",
       "| pequeño | 31 | 1.3 | 1.2 | -5.3 | 8.8 |\n",
       "\n"
      ],
      "text/plain": [
       "  log_mammals$body_size n() mean(log_mammals$log_body)\n",
       "1 grande                31  1.3                       \n",
       "2 pequeño               31  1.3                       \n",
       "  median(log_mammals$log_body) min(log_mammals$log_body)\n",
       "1 1.2                          -5.3                     \n",
       "2 1.2                          -5.3                     \n",
       "  max(log_mammals$log_body)\n",
       "1 8.8                      \n",
       "2 8.8                      "
      ]
     },
     "metadata": {},
     "output_type": "display_data"
    }
   ],
   "source": [
    "group_by(log_mammals,log_mammals$body_size) %>%\n",
    "  summarize(n(),mean(log_mammals$log_body),median(log_mammals$log_body),min(log_mammals$log_body),max(log_mammals$log_body))\n"
   ]
  },
  {
   "cell_type": "code",
   "execution_count": 68,
   "metadata": {},
   "outputs": [
    {
     "data": {
      "text/html": [
       "<table>\n",
       "<caption>A data.frame: 6 × 2</caption>\n",
       "<thead>\n",
       "\t<tr><th></th><th scope=col>body</th><th scope=col>brain</th></tr>\n",
       "\t<tr><th></th><th scope=col>&lt;dbl&gt;</th><th scope=col>&lt;dbl&gt;</th></tr>\n",
       "</thead>\n",
       "<tbody>\n",
       "\t<tr><th scope=row>Arctic ground squirrel</th><td>0.92</td><td> 5.7</td></tr>\n",
       "\t<tr><th scope=row>Tenrec</th><td>0.90</td><td> 2.6</td></tr>\n",
       "\t<tr><th scope=row>Rock hyrax-a</th><td>0.75</td><td>12.3</td></tr>\n",
       "\t<tr><th scope=row>European hedgehog</th><td>0.79</td><td> 3.5</td></tr>\n",
       "\t<tr><th scope=row>Owl monkey</th><td>0.48</td><td>15.5</td></tr>\n",
       "\t<tr><th scope=row>Chinchilla</th><td>0.42</td><td> 6.4</td></tr>\n",
       "</tbody>\n",
       "</table>\n"
      ],
      "text/latex": [
       "A data.frame: 6 × 2\n",
       "\\begin{tabular}{r|ll}\n",
       "  & body & brain\\\\\n",
       "  & <dbl> & <dbl>\\\\\n",
       "\\hline\n",
       "\tArctic ground squirrel & 0.92 &  5.7\\\\\n",
       "\tTenrec & 0.90 &  2.6\\\\\n",
       "\tRock hyrax-a & 0.75 & 12.3\\\\\n",
       "\tEuropean hedgehog & 0.79 &  3.5\\\\\n",
       "\tOwl monkey & 0.48 & 15.5\\\\\n",
       "\tChinchilla & 0.42 &  6.4\\\\\n",
       "\\end{tabular}\n"
      ],
      "text/markdown": [
       "\n",
       "A data.frame: 6 × 2\n",
       "\n",
       "| <!--/--> | body &lt;dbl&gt; | brain &lt;dbl&gt; |\n",
       "|---|---|---|\n",
       "| Arctic ground squirrel | 0.92 |  5.7 |\n",
       "| Tenrec | 0.90 |  2.6 |\n",
       "| Rock hyrax-a | 0.75 | 12.3 |\n",
       "| European hedgehog | 0.79 |  3.5 |\n",
       "| Owl monkey | 0.48 | 15.5 |\n",
       "| Chinchilla | 0.42 |  6.4 |\n",
       "\n"
      ],
      "text/plain": [
       "                       body brain\n",
       "Arctic ground squirrel 0.92  5.7 \n",
       "Tenrec                 0.90  2.6 \n",
       "Rock hyrax-a           0.75 12.3 \n",
       "European hedgehog      0.79  3.5 \n",
       "Owl monkey             0.48 15.5 \n",
       "Chinchilla             0.42  6.4 "
      ]
     },
     "metadata": {},
     "output_type": "display_data"
    },
    {
     "data": {
      "text/html": [
       "<table>\n",
       "<caption>A data.frame: 6 × 2</caption>\n",
       "<thead>\n",
       "\t<tr><th></th><th scope=col>body</th><th scope=col>brain</th></tr>\n",
       "\t<tr><th></th><th scope=col>&lt;dbl&gt;</th><th scope=col>&lt;dbl&gt;</th></tr>\n",
       "</thead>\n",
       "<tbody>\n",
       "\t<tr><th scope=row>African giant pouched rat</th><td>1.0</td><td> 6.6</td></tr>\n",
       "\t<tr><th scope=row>Guinea pig</th><td>1.0</td><td> 5.5</td></tr>\n",
       "\t<tr><th scope=row>Genet</th><td>1.4</td><td>17.5</td></tr>\n",
       "\t<tr><th scope=row>Slow loris</th><td>1.4</td><td>12.5</td></tr>\n",
       "\t<tr><th scope=row>Mountain beaver</th><td>1.4</td><td> 8.1</td></tr>\n",
       "\t<tr><th scope=row>Phalanger</th><td>1.6</td><td>11.4</td></tr>\n",
       "</tbody>\n",
       "</table>\n"
      ],
      "text/latex": [
       "A data.frame: 6 × 2\n",
       "\\begin{tabular}{r|ll}\n",
       "  & body & brain\\\\\n",
       "  & <dbl> & <dbl>\\\\\n",
       "\\hline\n",
       "\tAfrican giant pouched rat & 1.0 &  6.6\\\\\n",
       "\tGuinea pig & 1.0 &  5.5\\\\\n",
       "\tGenet & 1.4 & 17.5\\\\\n",
       "\tSlow loris & 1.4 & 12.5\\\\\n",
       "\tMountain beaver & 1.4 &  8.1\\\\\n",
       "\tPhalanger & 1.6 & 11.4\\\\\n",
       "\\end{tabular}\n"
      ],
      "text/markdown": [
       "\n",
       "A data.frame: 6 × 2\n",
       "\n",
       "| <!--/--> | body &lt;dbl&gt; | brain &lt;dbl&gt; |\n",
       "|---|---|---|\n",
       "| African giant pouched rat | 1.0 |  6.6 |\n",
       "| Guinea pig | 1.0 |  5.5 |\n",
       "| Genet | 1.4 | 17.5 |\n",
       "| Slow loris | 1.4 | 12.5 |\n",
       "| Mountain beaver | 1.4 |  8.1 |\n",
       "| Phalanger | 1.6 | 11.4 |\n",
       "\n"
      ],
      "text/plain": [
       "                          body brain\n",
       "African giant pouched rat 1.0   6.6 \n",
       "Guinea pig                1.0   5.5 \n",
       "Genet                     1.4  17.5 \n",
       "Slow loris                1.4  12.5 \n",
       "Mountain beaver           1.4   8.1 \n",
       "Phalanger                 1.6  11.4 "
      ]
     },
     "metadata": {},
     "output_type": "display_data"
    }
   ],
   "source": [
    "log_mammals$r <- log_mammals$log_brain / log_mammals$log_body\n",
    "tb_desc <- mammals[c(order(log_mammals$r)), ]\n",
    "tb_asc <- mammals[c(order(-log_mammals$r)), ]\n",
    "head(tb_desc)\n",
    "head(tb_asc)"
   ]
  },
  {
   "cell_type": "code",
   "execution_count": 72,
   "metadata": {},
   "outputs": [],
   "source": [
    "p<-ggplot(data=log_mammals, aes(x=log_body,y=r, color=body_size))"
   ]
  },
  {
   "cell_type": "code",
   "execution_count": 73,
   "metadata": {},
   "outputs": [
    {
     "data": {
      "image/png": "[encoded data removed]",
      "text/plain": [
       "plot without title"
      ]
     },
     "metadata": {},
     "output_type": "display_data"
    }
   ],
   "source": [
    "p + geom_point()"
   ]
  },
  {
   "cell_type": "markdown",
   "metadata": {},
   "source": [
    "## 3. Considérese el dataset randu (ejecutar ?randu para una descripción):\n",
    "a) Usar la función mean para calcular la media muestral en cada uno de los números que forman la tripleta: $x, y, z$. Asimismo usar la función var para calcular una matriz de varianzas y covarianzas muestral.\n",
    "\n",
    "b) Queremos ver la distribución del promedio por renglón de cada observación del dataset randu, para esto utilizar la función de apply para calcular tal promedio, alternativamente usar rowMeans.\n",
    "\n",
    "c) Utilizar la función hist del paquete base para calcular un histograma con los breaks definido por tal función.\n",
    "\n",
    "d) Calcular sus propios breaks y volver a graficar el histograma con hist y con geom_histogram del paquete ggplot2.\n",
    "\n",
    "e) Utilizar la función qqnorm para comparar los cuantiles de una distribución normal con la distribución de las medias muestrales obtenidos en el inciso b). Sólo de forma visual ¿qué se puede concluir sobre la distribución de las medias muestrales calculadas en b)? (puedes añadir una línea al gráfico con qqline)."
   ]
  },
  {
   "cell_type": "code",
   "execution_count": 74,
   "metadata": {},
   "outputs": [
    {
     "data": {
      "text/html": [
       "<table>\n",
       "<caption>A data.frame: 6 × 3</caption>\n",
       "<thead>\n",
       "\t<tr><th scope=col>x</th><th scope=col>y</th><th scope=col>z</th></tr>\n",
       "\t<tr><th scope=col>&lt;dbl&gt;</th><th scope=col>&lt;dbl&gt;</th><th scope=col>&lt;dbl&gt;</th></tr>\n",
       "</thead>\n",
       "<tbody>\n",
       "\t<tr><td>3.1e-05</td><td>0.00018</td><td>0.00082</td></tr>\n",
       "\t<tr><td>4.4e-02</td><td>0.15573</td><td>0.53394</td></tr>\n",
       "\t<tr><td>8.2e-01</td><td>0.87342</td><td>0.83854</td></tr>\n",
       "\t<tr><td>3.2e-01</td><td>0.64855</td><td>0.99065</td></tr>\n",
       "\t<tr><td>3.9e-01</td><td>0.82687</td><td>0.41888</td></tr>\n",
       "\t<tr><td>3.1e-01</td><td>0.92659</td><td>0.77766</td></tr>\n",
       "</tbody>\n",
       "</table>\n"
      ],
      "text/latex": [
       "A data.frame: 6 × 3\n",
       "\\begin{tabular}{r|lll}\n",
       " x & y & z\\\\\n",
       " <dbl> & <dbl> & <dbl>\\\\\n",
       "\\hline\n",
       "\t 3.1e-05 & 0.00018 & 0.00082\\\\\n",
       "\t 4.4e-02 & 0.15573 & 0.53394\\\\\n",
       "\t 8.2e-01 & 0.87342 & 0.83854\\\\\n",
       "\t 3.2e-01 & 0.64855 & 0.99065\\\\\n",
       "\t 3.9e-01 & 0.82687 & 0.41888\\\\\n",
       "\t 3.1e-01 & 0.92659 & 0.77766\\\\\n",
       "\\end{tabular}\n"
      ],
      "text/markdown": [
       "\n",
       "A data.frame: 6 × 3\n",
       "\n",
       "| x &lt;dbl&gt; | y &lt;dbl&gt; | z &lt;dbl&gt; |\n",
       "|---|---|---|\n",
       "| 3.1e-05 | 0.00018 | 0.00082 |\n",
       "| 4.4e-02 | 0.15573 | 0.53394 |\n",
       "| 8.2e-01 | 0.87342 | 0.83854 |\n",
       "| 3.2e-01 | 0.64855 | 0.99065 |\n",
       "| 3.9e-01 | 0.82687 | 0.41888 |\n",
       "| 3.1e-01 | 0.92659 | 0.77766 |\n",
       "\n"
      ],
      "text/plain": [
       "  x       y       z      \n",
       "1 3.1e-05 0.00018 0.00082\n",
       "2 4.4e-02 0.15573 0.53394\n",
       "3 8.2e-01 0.87342 0.83854\n",
       "4 3.2e-01 0.64855 0.99065\n",
       "5 3.9e-01 0.82687 0.41888\n",
       "6 3.1e-01 0.92659 0.77766"
      ]
     },
     "metadata": {},
     "output_type": "display_data"
    }
   ],
   "source": [
    "df <- randu\n",
    "head(df)"
   ]
  },
  {
   "cell_type": "code",
   "execution_count": 77,
   "metadata": {},
   "outputs": [
    {
     "data": {
      "text/plain": [
       "       x              y              z       \n",
       " Min.   :0.00   Min.   :0.00   Min.   :0.00  \n",
       " 1st Qu.:0.30   1st Qu.:0.23   1st Qu.:0.25  \n",
       " Median :0.54   Median :0.48   Median :0.46  \n",
       " Mean   :0.53   Mean   :0.49   Mean   :0.48  \n",
       " 3rd Qu.:0.78   3rd Qu.:0.74   3rd Qu.:0.71  \n",
       " Max.   :1.00   Max.   :1.00   Max.   :1.00  "
      ]
     },
     "metadata": {},
     "output_type": "display_data"
    }
   ],
   "source": [
    "summary(df)"
   ]
  },
  {
   "cell_type": "code",
   "execution_count": 78,
   "metadata": {},
   "outputs": [
    {
     "data": {
      "text/html": [
       "0.526429325"
      ],
      "text/latex": [
       "0.526429325"
      ],
      "text/markdown": [
       "0.526429325"
      ],
      "text/plain": [
       "[1] 0.53"
      ]
     },
     "metadata": {},
     "output_type": "display_data"
    }
   ],
   "source": [
    "mean(df$x)"
   ]
  },
  {
   "cell_type": "code",
   "execution_count": 79,
   "metadata": {},
   "outputs": [
    {
     "data": {
      "text/html": [
       "0.48605309"
      ],
      "text/latex": [
       "0.48605309"
      ],
      "text/markdown": [
       "0.48605309"
      ],
      "text/plain": [
       "[1] 0.49"
      ]
     },
     "metadata": {},
     "output_type": "display_data"
    }
   ],
   "source": [
    "mean(df$y)"
   ]
  },
  {
   "cell_type": "code",
   "execution_count": 80,
   "metadata": {},
   "outputs": [
    {
     "data": {
      "text/html": [
       "0.4809546925"
      ],
      "text/latex": [
       "0.4809546925"
      ],
      "text/markdown": [
       "0.4809546925"
      ],
      "text/plain": [
       "[1] 0.48"
      ]
     },
     "metadata": {},
     "output_type": "display_data"
    }
   ],
   "source": [
    "mean(df$z)"
   ]
  },
  {
   "cell_type": "code",
   "execution_count": 81,
   "metadata": {},
   "outputs": [
    {
     "data": {
      "text/html": [
       "0.0812318850269317"
      ],
      "text/latex": [
       "0.0812318850269317"
      ],
      "text/markdown": [
       "0.0812318850269317"
      ],
      "text/plain": [
       "[1] 0.081"
      ]
     },
     "metadata": {},
     "output_type": "display_data"
    }
   ],
   "source": [
    "var(df$x)"
   ]
  },
  {
   "cell_type": "code",
   "execution_count": 82,
   "metadata": {},
   "outputs": [
    {
     "data": {
      "text/html": [
       "0.48605309"
      ],
      "text/latex": [
       "0.48605309"
      ],
      "text/markdown": [
       "0.48605309"
      ],
      "text/plain": [
       "[1] 0.49"
      ]
     },
     "metadata": {},
     "output_type": "display_data"
    }
   ],
   "source": [
    "mean(df$y)"
   ]
  },
  {
   "cell_type": "code",
   "execution_count": 84,
   "metadata": {},
   "outputs": [
    {
     "data": {
      "text/html": [
       "0.4809546925"
      ],
      "text/latex": [
       "0.4809546925"
      ],
      "text/markdown": [
       "0.4809546925"
      ],
      "text/plain": [
       "[1] 0.48"
      ]
     },
     "metadata": {},
     "output_type": "display_data"
    }
   ],
   "source": [
    "mean(df$z)"
   ]
  },
  {
   "cell_type": "code",
   "execution_count": 85,
   "metadata": {},
   "outputs": [
    {
     "data": {
      "text/html": [
       "<table>\n",
       "<caption>A matrix: 3 × 3 of type dbl</caption>\n",
       "<thead>\n",
       "\t<tr><th></th><th scope=col>x</th><th scope=col>y</th><th scope=col>z</th></tr>\n",
       "</thead>\n",
       "<tbody>\n",
       "\t<tr><th scope=row>x</th><td> 0.0812</td><td>-0.0041</td><td> 0.0046</td></tr>\n",
       "\t<tr><th scope=row>y</th><td>-0.0041</td><td> 0.0863</td><td>-0.0051</td></tr>\n",
       "\t<tr><th scope=row>z</th><td> 0.0046</td><td>-0.0051</td><td> 0.0779</td></tr>\n",
       "</tbody>\n",
       "</table>\n"
      ],
      "text/latex": [
       "A matrix: 3 × 3 of type dbl\n",
       "\\begin{tabular}{r|lll}\n",
       "  & x & y & z\\\\\n",
       "\\hline\n",
       "\tx &  0.0812 & -0.0041 &  0.0046\\\\\n",
       "\ty & -0.0041 &  0.0863 & -0.0051\\\\\n",
       "\tz &  0.0046 & -0.0051 &  0.0779\\\\\n",
       "\\end{tabular}\n"
      ],
      "text/markdown": [
       "\n",
       "A matrix: 3 × 3 of type dbl\n",
       "\n",
       "| <!--/--> | x | y | z |\n",
       "|---|---|---|---|\n",
       "| x |  0.0812 | -0.0041 |  0.0046 |\n",
       "| y | -0.0041 |  0.0863 | -0.0051 |\n",
       "| z |  0.0046 | -0.0051 |  0.0779 |\n",
       "\n"
      ],
      "text/plain": [
       "  x       y       z      \n",
       "x  0.0812 -0.0041  0.0046\n",
       "y -0.0041  0.0863 -0.0051\n",
       "z  0.0046 -0.0051  0.0779"
      ]
     },
     "metadata": {},
     "output_type": "display_data"
    }
   ],
   "source": [
    "var(df)"
   ]
  },
  {
   "cell_type": "code",
   "execution_count": 86,
   "metadata": {},
   "outputs": [
    {
     "data": {
      "text/html": [
       "<dl class=dl-horizontal>\n",
       "\t<dt>1</dt>\n",
       "\t\t<dd>0.000346</dd>\n",
       "\t<dt>2</dt>\n",
       "\t\t<dd>0.244722</dd>\n",
       "\t<dt>3</dt>\n",
       "\t\t<dd>0.844799333333333</dd>\n",
       "\t<dt>4</dt>\n",
       "\t\t<dd>0.653828</dd>\n",
       "\t<dt>5</dt>\n",
       "\t\t<dd>0.546449666666667</dd>\n",
       "\t<dt>6</dt>\n",
       "\t\t<dd>0.671117</dd>\n",
       "</dl>\n"
      ],
      "text/latex": [
       "\\begin{description*}\n",
       "\\item[1] 0.000346\n",
       "\\item[2] 0.244722\n",
       "\\item[3] 0.844799333333333\n",
       "\\item[4] 0.653828\n",
       "\\item[5] 0.546449666666667\n",
       "\\item[6] 0.671117\n",
       "\\end{description*}\n"
      ],
      "text/markdown": [
       "1\n",
       ":   0.0003462\n",
       ":   0.2447223\n",
       ":   0.8447993333333334\n",
       ":   0.6538285\n",
       ":   0.5464496666666676\n",
       ":   0.671117\n",
       "\n"
      ],
      "text/plain": [
       "      1       2       3       4       5       6 \n",
       "0.00035 0.24472 0.84480 0.65383 0.54645 0.67112 "
      ]
     },
     "metadata": {},
     "output_type": "display_data"
    }
   ],
   "source": [
    "dist_prom <- apply(df, MARGIN=1, FUN=mean)\n",
    "head(dist_prom)"
   ]
  },
  {
   "cell_type": "code",
   "execution_count": 87,
   "metadata": {},
   "outputs": [
    {
     "data": {
      "image/png": "[encoded data removed]",
      "text/plain": [
       "Plot with title “Histogram of dist_prom”"
      ]
     },
     "metadata": {},
     "output_type": "display_data"
    }
   ],
   "source": [
    "hist(dist_prom)"
   ]
  },
  {
   "cell_type": "code",
   "execution_count": 89,
   "metadata": {},
   "outputs": [],
   "source": [
    "dif <- 0.06\n",
    "width <- .1\n",
    "cortes_mean <- seq(min(dist_prom) - dif, max(dist_prom) + dif, by = width)"
   ]
  },
  {
   "cell_type": "markdown",
   "metadata": {},
   "source": [
    "## 4. Realizar gráficas con el comando qqplot para comparar $2$ distribuciones de datos, por ejemplo"
   ]
  },
  {
   "cell_type": "code",
   "execution_count": 90,
   "metadata": {},
   "outputs": [
    {
     "data": {
      "image/png": "[encoded data removed]",
      "text/plain": [
       "plot without title"
      ]
     },
     "metadata": {},
     "output_type": "display_data"
    }
   ],
   "source": [
    "n<-500\n",
    "set.seed(2000)\n",
    "par(cex=0.5) #control size of labels\n",
    "datos<- qqplot(rnorm(n), rexp(n)-3, cex=.1, xlab='', ylab='')\n",
    "abline(0,1) #recta a 45 grados, sirve de apoyo para realizar comentarios"
   ]
  },
  {
   "cell_type": "markdown",
   "metadata": {},
   "source": [
    "Normal contra Exponencial en cero\n"
   ]
  },
  {
   "cell_type": "code",
   "execution_count": 91,
   "metadata": {},
   "outputs": [
    {
     "data": {
      "image/png": "[encoded data removed]",
      "text/plain": [
       "plot without title"
      ]
     },
     "metadata": {},
     "output_type": "display_data"
    }
   ],
   "source": [
    "\n",
    "n<-500\n",
    "set.seed(2000)\n",
    "par(cex=0.5) #control size of labels\n",
    "datos<- qqplot(rnorm(n), rexp(n), cex=.1, xlab='', ylab='')\n",
    "abline(0,1) #recta a 45 grados, sirve de apoyo para realizar comentarios"
   ]
  },
  {
   "cell_type": "markdown",
   "metadata": {},
   "source": [
    "Normal contra Exponencial desplazada una unidad\n"
   ]
  },
  {
   "cell_type": "code",
   "execution_count": 92,
   "metadata": {},
   "outputs": [
    {
     "data": {
      "image/png": "[encoded data removed]",
      "text/plain": [
       "plot without title"
      ]
     },
     "metadata": {},
     "output_type": "display_data"
    }
   ],
   "source": [
    "\n",
    "n<-500\n",
    "set.seed(2000)\n",
    "par(cex=0.5) #control size of labels\n",
    "datos<- qqplot(rnorm(n), rexp(n)-1, cex=.1, xlab='', ylab='')\n",
    "abline(0,1) #recta a 45 grados, sirve de apoyo para realizar comentarios"
   ]
  },
  {
   "cell_type": "markdown",
   "metadata": {},
   "source": [
    "Normal contra uniforme\n"
   ]
  },
  {
   "cell_type": "code",
   "execution_count": 93,
   "metadata": {},
   "outputs": [
    {
     "data": {
      "image/png": "[encoded data removed]",
      "text/plain": [
       "plot without title"
      ]
     },
     "metadata": {},
     "output_type": "display_data"
    }
   ],
   "source": [
    "n<-500\n",
    "set.seed(2000)\n",
    "par(cex=0.5) #control size of labels\n",
    "datos<- qqplot(rnorm(n), runif(n), cex=.1, xlab='', ylab='')\n",
    "abline(0,1) #recta a 45 grados, sirve de apoyo para realizar comentarios"
   ]
  },
  {
   "cell_type": "markdown",
   "metadata": {},
   "source": [
    "Normal contra uniforme desplazada de la forma $2.5 \\times runif(n) - 1.2$"
   ]
  },
  {
   "cell_type": "code",
   "execution_count": 94,
   "metadata": {},
   "outputs": [
    {
     "data": {
      "image/png": "[encoded data removed]",
      "text/plain": [
       "plot without title"
      ]
     },
     "metadata": {},
     "output_type": "display_data"
    }
   ],
   "source": [
    "n<-500\n",
    "set.seed(2000)\n",
    "par(cex=0.5) #control size of labels\n",
    "datos<- qqplot(rnorm(n), 2.5*runif(n)-1.2, cex=.1, xlab='', ylab='')\n",
    "abline(0,1) #recta a 45 grados, sirve de apoyo para realizar comentarios"
   ]
  },
  {
   "cell_type": "markdown",
   "metadata": {},
   "source": [
    "Normal contra Beta desplazada una unidad\n"
   ]
  },
  {
   "cell_type": "code",
   "execution_count": 95,
   "metadata": {},
   "outputs": [
    {
     "data": {
      "image/png": "[encoded data removed]",
      "text/plain": [
       "plot without title"
      ]
     },
     "metadata": {},
     "output_type": "display_data"
    }
   ],
   "source": [
    "\n",
    "n<-500\n",
    "set.seed(2000)\n",
    "vec<-rbeta(n, shape1=.5,shape2=.5)\n",
    "vec_eval<-dbeta(vec,shape1=.5,shape2=.5)\n",
    "par(cex=0.5) #control size of labels\n",
    "datos<- qqplot(rnorm(n), rbeta(n, shape1=1,shape2=2), cex=.1, xlab='', ylab='')\n",
    "abline(0,1) #recta a 45 grados, sirve de apoyo para realizar comentarios"
   ]
  },
  {
   "cell_type": "code",
   "execution_count": null,
   "metadata": {},
   "outputs": [],
   "source": []
  }
 ],
 "metadata": {
  "kernelspec": {
   "display_name": "R",
   "language": "R",
   "name": "ir"
  },
  "language_info": {
   "codemirror_mode": "r",
   "file_extension": ".r",
   "mimetype": "text/x-r-source",
   "name": "R",
   "pygments_lexer": "r",
   "version": "3.4.4"
  }
 },
 "nbformat": 4,
 "nbformat_minor": 2
}
