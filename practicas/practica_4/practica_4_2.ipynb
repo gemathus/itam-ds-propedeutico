{
 "cells": [
  {
   "cell_type": "markdown",
   "metadata": {},
   "source": [
    "# Práctica 4\n",
    "## Probabilidad condicional"
   ]
  },
  {
   "cell_type": "code",
   "execution_count": 68,
   "metadata": {},
   "outputs": [],
   "source": [
    "library(prob)"
   ]
  },
  {
   "cell_type": "code",
   "execution_count": 13,
   "metadata": {},
   "outputs": [],
   "source": [
    "urna <- rep(c(\"roja\",\"verde\"), times = c(7,3)) #crear urna con 7 canicas rojas y 3 verdes"
   ]
  },
  {
   "cell_type": "markdown",
   "metadata": {},
   "source": [
    "### 1) Probabilida de sacar dos canícas rojas"
   ]
  },
  {
   "cell_type": "code",
   "execution_count": 29,
   "metadata": {},
   "outputs": [],
   "source": [
    "# sin orden ni reemplazo posiblidades de 2 rojas\n",
    "eventos_posibles <- urnsamples(urna, size = 2, replace=F, ordered=F)"
   ]
  },
  {
   "cell_type": "code",
   "execution_count": 37,
   "metadata": {},
   "outputs": [
    {
     "data": {
      "text/html": [
       "<table>\n",
       "<caption>A data.frame: 6 × 3</caption>\n",
       "<thead>\n",
       "\t<tr><th scope=col>X1</th><th scope=col>X2</th><th scope=col>probs</th></tr>\n",
       "\t<tr><th scope=col>&lt;fct&gt;</th><th scope=col>&lt;fct&gt;</th><th scope=col>&lt;dbl&gt;</th></tr>\n",
       "</thead>\n",
       "<tbody>\n",
       "\t<tr><td>roja</td><td>roja</td><td>0.02222</td></tr>\n",
       "\t<tr><td>roja</td><td>roja</td><td>0.02222</td></tr>\n",
       "\t<tr><td>roja</td><td>roja</td><td>0.02222</td></tr>\n",
       "\t<tr><td>roja</td><td>roja</td><td>0.02222</td></tr>\n",
       "\t<tr><td>roja</td><td>roja</td><td>0.02222</td></tr>\n",
       "\t<tr><td>roja</td><td>roja</td><td>0.02222</td></tr>\n",
       "</tbody>\n",
       "</table>\n"
      ],
      "text/latex": [
       "A data.frame: 6 × 3\n",
       "\\begin{tabular}{r|lll}\n",
       " X1 & X2 & probs\\\\\n",
       " <fct> & <fct> & <dbl>\\\\\n",
       "\\hline\n",
       "\t roja & roja & 0.02222\\\\\n",
       "\t roja & roja & 0.02222\\\\\n",
       "\t roja & roja & 0.02222\\\\\n",
       "\t roja & roja & 0.02222\\\\\n",
       "\t roja & roja & 0.02222\\\\\n",
       "\t roja & roja & 0.02222\\\\\n",
       "\\end{tabular}\n"
      ],
      "text/markdown": [
       "\n",
       "A data.frame: 6 × 3\n",
       "\n",
       "| X1 &lt;fct&gt; | X2 &lt;fct&gt; | probs &lt;dbl&gt; |\n",
       "|---|---|---|\n",
       "| roja | roja | 0.02222 |\n",
       "| roja | roja | 0.02222 |\n",
       "| roja | roja | 0.02222 |\n",
       "| roja | roja | 0.02222 |\n",
       "| roja | roja | 0.02222 |\n",
       "| roja | roja | 0.02222 |\n",
       "\n"
      ],
      "text/plain": [
       "  X1   X2   probs  \n",
       "1 roja roja 0.02222\n",
       "2 roja roja 0.02222\n",
       "3 roja roja 0.02222\n",
       "4 roja roja 0.02222\n",
       "5 roja roja 0.02222\n",
       "6 roja roja 0.02222"
      ]
     },
     "metadata": {},
     "output_type": "display_data"
    }
   ],
   "source": [
    "probalidades <- probspace(eventos_posibles)\n",
    "head(probalidades)"
   ]
  },
  {
   "cell_type": "code",
   "execution_count": 40,
   "metadata": {},
   "outputs": [
    {
     "data": {
      "text/html": [
       "0.466666666666667"
      ],
      "text/latex": [
       "0.466666666666667"
      ],
      "text/markdown": [
       "0.466666666666667"
      ],
      "text/plain": [
       "[1] 0.4667"
      ]
     },
     "metadata": {},
     "output_type": "display_data"
    }
   ],
   "source": [
    "# calcular probabilidad\n",
    "prob_dos_rojas <- Prob(probalidades, isrep(probalidades, vals='roja', nrep=2))\n",
    "prob_dos_rojas"
   ]
  },
  {
   "cell_type": "markdown",
   "metadata": {},
   "source": [
    "## 2) Extraer roja, luego verde, y al último roja"
   ]
  },
  {
   "cell_type": "code",
   "execution_count": 44,
   "metadata": {},
   "outputs": [],
   "source": [
    "urna <- rep(c('roja', 'verde'), times=c(7,3))"
   ]
  },
  {
   "cell_type": "code",
   "execution_count": 45,
   "metadata": {},
   "outputs": [],
   "source": [
    "probs <- probspace( urnsamples(urna,size=3,ordered=T, replace=F)  )"
   ]
  },
  {
   "cell_type": "code",
   "execution_count": 46,
   "metadata": {
    "scrolled": false
   },
   "outputs": [
    {
     "data": {
      "text/html": [
       "<table>\n",
       "<caption>A data.frame: 6 × 4</caption>\n",
       "<thead>\n",
       "\t<tr><th scope=col>X1</th><th scope=col>X2</th><th scope=col>X3</th><th scope=col>probs</th></tr>\n",
       "\t<tr><th scope=col>&lt;fct&gt;</th><th scope=col>&lt;fct&gt;</th><th scope=col>&lt;fct&gt;</th><th scope=col>&lt;dbl&gt;</th></tr>\n",
       "</thead>\n",
       "<tbody>\n",
       "\t<tr><td>roja</td><td>roja</td><td>roja</td><td>0.001389</td></tr>\n",
       "\t<tr><td>roja</td><td>roja</td><td>roja</td><td>0.001389</td></tr>\n",
       "\t<tr><td>roja</td><td>roja</td><td>roja</td><td>0.001389</td></tr>\n",
       "\t<tr><td>roja</td><td>roja</td><td>roja</td><td>0.001389</td></tr>\n",
       "\t<tr><td>roja</td><td>roja</td><td>roja</td><td>0.001389</td></tr>\n",
       "\t<tr><td>roja</td><td>roja</td><td>roja</td><td>0.001389</td></tr>\n",
       "</tbody>\n",
       "</table>\n"
      ],
      "text/latex": [
       "A data.frame: 6 × 4\n",
       "\\begin{tabular}{r|llll}\n",
       " X1 & X2 & X3 & probs\\\\\n",
       " <fct> & <fct> & <fct> & <dbl>\\\\\n",
       "\\hline\n",
       "\t roja & roja & roja & 0.001389\\\\\n",
       "\t roja & roja & roja & 0.001389\\\\\n",
       "\t roja & roja & roja & 0.001389\\\\\n",
       "\t roja & roja & roja & 0.001389\\\\\n",
       "\t roja & roja & roja & 0.001389\\\\\n",
       "\t roja & roja & roja & 0.001389\\\\\n",
       "\\end{tabular}\n"
      ],
      "text/markdown": [
       "\n",
       "A data.frame: 6 × 4\n",
       "\n",
       "| X1 &lt;fct&gt; | X2 &lt;fct&gt; | X3 &lt;fct&gt; | probs &lt;dbl&gt; |\n",
       "|---|---|---|---|\n",
       "| roja | roja | roja | 0.001389 |\n",
       "| roja | roja | roja | 0.001389 |\n",
       "| roja | roja | roja | 0.001389 |\n",
       "| roja | roja | roja | 0.001389 |\n",
       "| roja | roja | roja | 0.001389 |\n",
       "| roja | roja | roja | 0.001389 |\n",
       "\n"
      ],
      "text/plain": [
       "  X1   X2   X3   probs   \n",
       "1 roja roja roja 0.001389\n",
       "2 roja roja roja 0.001389\n",
       "3 roja roja roja 0.001389\n",
       "4 roja roja roja 0.001389\n",
       "5 roja roja roja 0.001389\n",
       "6 roja roja roja 0.001389"
      ]
     },
     "metadata": {},
     "output_type": "display_data"
    }
   ],
   "source": [
    "head(probs)"
   ]
  },
  {
   "cell_type": "code",
   "execution_count": 51,
   "metadata": {
    "scrolled": true
   },
   "outputs": [
    {
     "data": {
      "text/html": [
       "0.175"
      ],
      "text/latex": [
       "0.175"
      ],
      "text/markdown": [
       "0.175"
      ],
      "text/plain": [
       "[1] 0.175"
      ]
     },
     "metadata": {},
     "output_type": "display_data"
    }
   ],
   "source": [
    "prob_r_v_r <- Prob(probs, X1 =='roja' & X2 =='verde' & X3 =='roja')\n",
    "prob_r_v_r"
   ]
  },
  {
   "cell_type": "markdown",
   "metadata": {},
   "source": [
    "## 3) Extraer roja,  verde, roja sin importar el orden"
   ]
  },
  {
   "cell_type": "code",
   "execution_count": 55,
   "metadata": {},
   "outputs": [],
   "source": [
    "urna <- rep(c('roja', 'verde'), times=c(7,3))"
   ]
  },
  {
   "cell_type": "code",
   "execution_count": 67,
   "metadata": {},
   "outputs": [
    {
     "data": {
      "text/html": [
       "<table>\n",
       "<caption>A data.frame: 6 × 4</caption>\n",
       "<thead>\n",
       "\t<tr><th scope=col>X1</th><th scope=col>X2</th><th scope=col>X3</th><th scope=col>probs</th></tr>\n",
       "\t<tr><th scope=col>&lt;fct&gt;</th><th scope=col>&lt;fct&gt;</th><th scope=col>&lt;fct&gt;</th><th scope=col>&lt;dbl&gt;</th></tr>\n",
       "</thead>\n",
       "<tbody>\n",
       "\t<tr><td>roja</td><td>roja</td><td>roja </td><td>0.008333</td></tr>\n",
       "\t<tr><td>roja</td><td>roja</td><td>roja </td><td>0.008333</td></tr>\n",
       "\t<tr><td>roja</td><td>roja</td><td>roja </td><td>0.008333</td></tr>\n",
       "\t<tr><td>roja</td><td>roja</td><td>roja </td><td>0.008333</td></tr>\n",
       "\t<tr><td>roja</td><td>roja</td><td>roja </td><td>0.008333</td></tr>\n",
       "\t<tr><td>roja</td><td>roja</td><td>verde</td><td>0.008333</td></tr>\n",
       "</tbody>\n",
       "</table>\n"
      ],
      "text/latex": [
       "A data.frame: 6 × 4\n",
       "\\begin{tabular}{r|llll}\n",
       " X1 & X2 & X3 & probs\\\\\n",
       " <fct> & <fct> & <fct> & <dbl>\\\\\n",
       "\\hline\n",
       "\t roja & roja & roja  & 0.008333\\\\\n",
       "\t roja & roja & roja  & 0.008333\\\\\n",
       "\t roja & roja & roja  & 0.008333\\\\\n",
       "\t roja & roja & roja  & 0.008333\\\\\n",
       "\t roja & roja & roja  & 0.008333\\\\\n",
       "\t roja & roja & verde & 0.008333\\\\\n",
       "\\end{tabular}\n"
      ],
      "text/markdown": [
       "\n",
       "A data.frame: 6 × 4\n",
       "\n",
       "| X1 &lt;fct&gt; | X2 &lt;fct&gt; | X3 &lt;fct&gt; | probs &lt;dbl&gt; |\n",
       "|---|---|---|---|\n",
       "| roja | roja | roja  | 0.008333 |\n",
       "| roja | roja | roja  | 0.008333 |\n",
       "| roja | roja | roja  | 0.008333 |\n",
       "| roja | roja | roja  | 0.008333 |\n",
       "| roja | roja | roja  | 0.008333 |\n",
       "| roja | roja | verde | 0.008333 |\n",
       "\n"
      ],
      "text/plain": [
       "  X1   X2   X3    probs   \n",
       "1 roja roja roja  0.008333\n",
       "2 roja roja roja  0.008333\n",
       "3 roja roja roja  0.008333\n",
       "4 roja roja roja  0.008333\n",
       "5 roja roja roja  0.008333\n",
       "6 roja roja verde 0.008333"
      ]
     },
     "metadata": {},
     "output_type": "display_data"
    },
    {
     "data": {
      "text/html": [
       "0.525"
      ],
      "text/latex": [
       "0.525"
      ],
      "text/markdown": [
       "0.525"
      ],
      "text/plain": [
       "[1] 0.525"
      ]
     },
     "metadata": {},
     "output_type": "display_data"
    }
   ],
   "source": [
    "probs <- probspace( urnsamples(urna,size=3,ordered=FALSE, replace=FALSE)  )\n",
    "head(probs)\n",
    "# Probabilidad de sacar en orden: roja, verde, roja\n",
    "prov_r_v_r_sinorden <- Prob(probs,isin(S_s3_sonr, c('roja', 'verde', 'roja'), ordered = FALSE))\n",
    "\n",
    "prov_r_v_r_sinorden"
   ]
  },
  {
   "cell_type": "code",
   "execution_count": null,
   "metadata": {},
   "outputs": [],
   "source": []
  }
 ],
 "metadata": {
  "kernelspec": {
   "display_name": "R",
   "language": "R",
   "name": "ir"
  },
  "language_info": {
   "codemirror_mode": "r",
   "file_extension": ".r",
   "mimetype": "text/x-r-source",
   "name": "R",
   "pygments_lexer": "r",
   "version": "3.4.4"
  }
 },
 "nbformat": 4,
 "nbformat_minor": 2
}
