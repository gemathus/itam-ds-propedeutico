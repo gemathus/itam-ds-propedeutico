{
 "cells": [
  {
   "cell_type": "markdown",
   "metadata": {},
   "source": [
    "# Práctica 4\n",
    "## Variables aleatorias"
   ]
  },
  {
   "cell_type": "code",
   "execution_count": 28,
   "metadata": {},
   "outputs": [],
   "source": [
    "library(prob)\n",
    "library(ggplot2)\n",
    "options(repr.plot.width=3, repr.plot.height=3)"
   ]
  },
  {
   "cell_type": "markdown",
   "metadata": {},
   "source": [
    "### Ejercicio\n",
    "##### Encontrar los histogramas de probabilidad para las distribuciones asociadas a las siguientes variables aleatorias:\n",
    "* El número de águilas que aparecen cuando lanzamos tres monedas al aire."
   ]
  },
  {
   "cell_type": "code",
   "execution_count": 13,
   "metadata": {},
   "outputs": [],
   "source": [
    "lanzamiento_tres_monedas = tosscoin(times=3, makespace=T)"
   ]
  },
  {
   "cell_type": "code",
   "execution_count": 14,
   "metadata": {},
   "outputs": [
    {
     "data": {
      "text/html": [
       "<table>\n",
       "<caption>A data.frame: 6 × 4</caption>\n",
       "<thead>\n",
       "\t<tr><th scope=col>toss1</th><th scope=col>toss2</th><th scope=col>toss3</th><th scope=col>probs</th></tr>\n",
       "\t<tr><th scope=col>&lt;fct&gt;</th><th scope=col>&lt;fct&gt;</th><th scope=col>&lt;fct&gt;</th><th scope=col>&lt;dbl&gt;</th></tr>\n",
       "</thead>\n",
       "<tbody>\n",
       "\t<tr><td>H</td><td>H</td><td>H</td><td>0.125</td></tr>\n",
       "\t<tr><td>T</td><td>H</td><td>H</td><td>0.125</td></tr>\n",
       "\t<tr><td>H</td><td>T</td><td>H</td><td>0.125</td></tr>\n",
       "\t<tr><td>T</td><td>T</td><td>H</td><td>0.125</td></tr>\n",
       "\t<tr><td>H</td><td>H</td><td>T</td><td>0.125</td></tr>\n",
       "\t<tr><td>T</td><td>H</td><td>T</td><td>0.125</td></tr>\n",
       "</tbody>\n",
       "</table>\n"
      ],
      "text/latex": [
       "A data.frame: 6 × 4\n",
       "\\begin{tabular}{r|llll}\n",
       " toss1 & toss2 & toss3 & probs\\\\\n",
       " <fct> & <fct> & <fct> & <dbl>\\\\\n",
       "\\hline\n",
       "\t H & H & H & 0.125\\\\\n",
       "\t T & H & H & 0.125\\\\\n",
       "\t H & T & H & 0.125\\\\\n",
       "\t T & T & H & 0.125\\\\\n",
       "\t H & H & T & 0.125\\\\\n",
       "\t T & H & T & 0.125\\\\\n",
       "\\end{tabular}\n"
      ],
      "text/markdown": [
       "\n",
       "A data.frame: 6 × 4\n",
       "\n",
       "| toss1 &lt;fct&gt; | toss2 &lt;fct&gt; | toss3 &lt;fct&gt; | probs &lt;dbl&gt; |\n",
       "|---|---|---|---|\n",
       "| H | H | H | 0.125 |\n",
       "| T | H | H | 0.125 |\n",
       "| H | T | H | 0.125 |\n",
       "| T | T | H | 0.125 |\n",
       "| H | H | T | 0.125 |\n",
       "| T | H | T | 0.125 |\n",
       "\n"
      ],
      "text/plain": [
       "  toss1 toss2 toss3 probs\n",
       "1 H     H     H     0.125\n",
       "2 T     H     H     0.125\n",
       "3 H     T     H     0.125\n",
       "4 T     T     H     0.125\n",
       "5 H     H     T     0.125\n",
       "6 T     H     T     0.125"
      ]
     },
     "metadata": {},
     "output_type": "display_data"
    }
   ],
   "source": [
    "head(lanzamiento_tres_monedas)"
   ]
  },
  {
   "cell_type": "markdown",
   "metadata": {},
   "source": [
    "$\\text{Sea   } águila = H \\text{   y    } sol = T$"
   ]
  },
  {
   "cell_type": "code",
   "execution_count": 45,
   "metadata": {},
   "outputs": [],
   "source": [
    "obtener_0_aguilas <- isin(lanzamiento_tres_monedas, c(\"T\", \"T\", \"T\"), ordered = FALSE)\n",
    "obtener_1_aguilas <- isin(lanzamiento_tres_monedas, c(\"H\", \"T\", \"T\"), ordered = FALSE)\n",
    "obtener_2_aguilas <- isin(lanzamiento_tres_monedas, c(\"H\", \"H\", \"T\"), ordered = FALSE)\n",
    "obtener_3_aguilas <- isin(lanzamiento_tres_monedas, c(\"H\", \"H\", \"H\"), ordered = FALSE)\n",
    "\n",
    "prob_0_aguilas <- sum(subset(lanzamiento_tres_monedas, obtener_0_aguilas)$probs)\n",
    "prob_1_aguilas <- sum(subset(lanzamiento_tres_monedas, obtener_1_aguilas)$probs)\n",
    "prob_2_aguilas <- sum(subset(lanzamiento_tres_monedas, obtener_2_aguilas)$probs)\n",
    "prob_3_aguilas <- sum(subset(lanzamiento_tres_monedas, obtener_3_aguilas)$probs)\n",
    "probabilidades <- c(prob_0_aguilas,prob_1_aguilas,prob_2_aguilas,prob_3_aguilas)"
   ]
  },
  {
   "cell_type": "code",
   "execution_count": 46,
   "metadata": {},
   "outputs": [
    {
     "data": {
      "text/html": [
       "<table>\n",
       "<caption>A data.frame: 4 × 2</caption>\n",
       "<thead>\n",
       "\t<tr><th scope=col>num_aguilas</th><th scope=col>probabilidades</th></tr>\n",
       "\t<tr><th scope=col>&lt;dbl&gt;</th><th scope=col>&lt;dbl&gt;</th></tr>\n",
       "</thead>\n",
       "<tbody>\n",
       "\t<tr><td>0</td><td>0.125</td></tr>\n",
       "\t<tr><td>1</td><td>0.375</td></tr>\n",
       "\t<tr><td>2</td><td>0.375</td></tr>\n",
       "\t<tr><td>3</td><td>0.125</td></tr>\n",
       "</tbody>\n",
       "</table>\n"
      ],
      "text/latex": [
       "A data.frame: 4 × 2\n",
       "\\begin{tabular}{r|ll}\n",
       " num\\_aguilas & probabilidades\\\\\n",
       " <dbl> & <dbl>\\\\\n",
       "\\hline\n",
       "\t 0 & 0.125\\\\\n",
       "\t 1 & 0.375\\\\\n",
       "\t 2 & 0.375\\\\\n",
       "\t 3 & 0.125\\\\\n",
       "\\end{tabular}\n"
      ],
      "text/markdown": [
       "\n",
       "A data.frame: 4 × 2\n",
       "\n",
       "| num_aguilas &lt;dbl&gt; | probabilidades &lt;dbl&gt; |\n",
       "|---|---|\n",
       "| 0 | 0.125 |\n",
       "| 1 | 0.375 |\n",
       "| 2 | 0.375 |\n",
       "| 3 | 0.125 |\n",
       "\n"
      ],
      "text/plain": [
       "  num_aguilas probabilidades\n",
       "1 0           0.125         \n",
       "2 1           0.375         \n",
       "3 2           0.375         \n",
       "4 3           0.125         "
      ]
     },
     "metadata": {},
     "output_type": "display_data"
    }
   ],
   "source": [
    "df <- data.frame(num_aguilas = c(0, 1, 2, 3), probabilidades)\n",
    "df"
   ]
  },
  {
   "cell_type": "code",
   "execution_count": 83,
   "metadata": {},
   "outputs": [
    {
     "data": {
      "image/png": "[encoded data removed]",
      "text/plain": [
       "plot without title"
      ]
     },
     "metadata": {},
     "output_type": "display_data"
    }
   ],
   "source": [
    "plot <- ggplot(data = df, aes(x=num_aguilas, y=probabilidades)) \n",
    "plot <- plot + geom_col(width=1, colour='#000000')\n",
    "plot"
   ]
  },
  {
   "cell_type": "code",
   "execution_count": 77,
   "metadata": {},
   "outputs": [
    {
     "data": {
      "text/html": [
       "<table>\n",
       "<caption>A data.frame: 6 × 3</caption>\n",
       "<thead>\n",
       "\t<tr><th scope=col>X1</th><th scope=col>X2</th><th scope=col>probs</th></tr>\n",
       "\t<tr><th scope=col>&lt;int&gt;</th><th scope=col>&lt;int&gt;</th><th scope=col>&lt;dbl&gt;</th></tr>\n",
       "</thead>\n",
       "<tbody>\n",
       "\t<tr><td>1</td><td>1</td><td>0.02777778</td></tr>\n",
       "\t<tr><td>2</td><td>1</td><td>0.02777778</td></tr>\n",
       "\t<tr><td>3</td><td>1</td><td>0.02777778</td></tr>\n",
       "\t<tr><td>4</td><td>1</td><td>0.02777778</td></tr>\n",
       "\t<tr><td>5</td><td>1</td><td>0.02777778</td></tr>\n",
       "\t<tr><td>6</td><td>1</td><td>0.02777778</td></tr>\n",
       "</tbody>\n",
       "</table>\n"
      ],
      "text/latex": [
       "A data.frame: 6 × 3\n",
       "\\begin{tabular}{r|lll}\n",
       " X1 & X2 & probs\\\\\n",
       " <int> & <int> & <dbl>\\\\\n",
       "\\hline\n",
       "\t 1 & 1 & 0.02777778\\\\\n",
       "\t 2 & 1 & 0.02777778\\\\\n",
       "\t 3 & 1 & 0.02777778\\\\\n",
       "\t 4 & 1 & 0.02777778\\\\\n",
       "\t 5 & 1 & 0.02777778\\\\\n",
       "\t 6 & 1 & 0.02777778\\\\\n",
       "\\end{tabular}\n"
      ],
      "text/markdown": [
       "\n",
       "A data.frame: 6 × 3\n",
       "\n",
       "| X1 &lt;int&gt; | X2 &lt;int&gt; | probs &lt;dbl&gt; |\n",
       "|---|---|---|\n",
       "| 1 | 1 | 0.02777778 |\n",
       "| 2 | 1 | 0.02777778 |\n",
       "| 3 | 1 | 0.02777778 |\n",
       "| 4 | 1 | 0.02777778 |\n",
       "| 5 | 1 | 0.02777778 |\n",
       "| 6 | 1 | 0.02777778 |\n",
       "\n"
      ],
      "text/plain": [
       "  X1 X2 probs     \n",
       "1 1  1  0.02777778\n",
       "2 2  1  0.02777778\n",
       "3 3  1  0.02777778\n",
       "4 4  1  0.02777778\n",
       "5 5  1  0.02777778\n",
       "6 6  1  0.02777778"
      ]
     },
     "metadata": {},
     "output_type": "display_data"
    }
   ],
   "source": [
    "lanzamiento_dos_dados <- rolldie(2, makespace=T)\n",
    "head(lanzamiento_dos_dados)"
   ]
  },
  {
   "cell_type": "code",
   "execution_count": 112,
   "metadata": {},
   "outputs": [
    {
     "data": {
      "text/html": [
       "<table>\n",
       "<caption>A data.frame: 6 × 4</caption>\n",
       "<thead>\n",
       "\t<tr><th scope=col>X1</th><th scope=col>X2</th><th scope=col>probs</th><th scope=col>side_sum</th></tr>\n",
       "\t<tr><th scope=col>&lt;int&gt;</th><th scope=col>&lt;int&gt;</th><th scope=col>&lt;dbl&gt;</th><th scope=col>&lt;int&gt;</th></tr>\n",
       "</thead>\n",
       "<tbody>\n",
       "\t<tr><td>1</td><td>1</td><td>0.02777778</td><td>2</td></tr>\n",
       "\t<tr><td>2</td><td>1</td><td>0.02777778</td><td>3</td></tr>\n",
       "\t<tr><td>3</td><td>1</td><td>0.02777778</td><td>4</td></tr>\n",
       "\t<tr><td>4</td><td>1</td><td>0.02777778</td><td>5</td></tr>\n",
       "\t<tr><td>5</td><td>1</td><td>0.02777778</td><td>6</td></tr>\n",
       "\t<tr><td>6</td><td>1</td><td>0.02777778</td><td>7</td></tr>\n",
       "</tbody>\n",
       "</table>\n"
      ],
      "text/latex": [
       "A data.frame: 6 × 4\n",
       "\\begin{tabular}{r|llll}\n",
       " X1 & X2 & probs & side\\_sum\\\\\n",
       " <int> & <int> & <dbl> & <int>\\\\\n",
       "\\hline\n",
       "\t 1 & 1 & 0.02777778 & 2\\\\\n",
       "\t 2 & 1 & 0.02777778 & 3\\\\\n",
       "\t 3 & 1 & 0.02777778 & 4\\\\\n",
       "\t 4 & 1 & 0.02777778 & 5\\\\\n",
       "\t 5 & 1 & 0.02777778 & 6\\\\\n",
       "\t 6 & 1 & 0.02777778 & 7\\\\\n",
       "\\end{tabular}\n"
      ],
      "text/markdown": [
       "\n",
       "A data.frame: 6 × 4\n",
       "\n",
       "| X1 &lt;int&gt; | X2 &lt;int&gt; | probs &lt;dbl&gt; | side_sum &lt;int&gt; |\n",
       "|---|---|---|---|\n",
       "| 1 | 1 | 0.02777778 | 2 |\n",
       "| 2 | 1 | 0.02777778 | 3 |\n",
       "| 3 | 1 | 0.02777778 | 4 |\n",
       "| 4 | 1 | 0.02777778 | 5 |\n",
       "| 5 | 1 | 0.02777778 | 6 |\n",
       "| 6 | 1 | 0.02777778 | 7 |\n",
       "\n"
      ],
      "text/plain": [
       "  X1 X2 probs      side_sum\n",
       "1 1  1  0.02777778 2       \n",
       "2 2  1  0.02777778 3       \n",
       "3 3  1  0.02777778 4       \n",
       "4 4  1  0.02777778 5       \n",
       "5 5  1  0.02777778 6       \n",
       "6 6  1  0.02777778 7       "
      ]
     },
     "metadata": {},
     "output_type": "display_data"
    }
   ],
   "source": [
    "lanzamiento_dos_dados$side_sum <- lanzamiento_dos_dados$X1 + lanzamiento_dos_dados$X2\n",
    "head(lanzamiento_dos_dados)"
   ]
  },
  {
   "cell_type": "code",
   "execution_count": 120,
   "metadata": {},
   "outputs": [
    {
     "data": {
      "text/html": [
       "<table>\n",
       "<caption>A data.frame: 6 × 2</caption>\n",
       "<thead>\n",
       "\t<tr><th scope=col>suma_caras</th><th scope=col>probabilidad</th></tr>\n",
       "\t<tr><th scope=col>&lt;int&gt;</th><th scope=col>&lt;dbl&gt;</th></tr>\n",
       "</thead>\n",
       "<tbody>\n",
       "\t<tr><td>2</td><td>0.02777778</td></tr>\n",
       "\t<tr><td>3</td><td>0.05555556</td></tr>\n",
       "\t<tr><td>4</td><td>0.08333333</td></tr>\n",
       "\t<tr><td>5</td><td>0.11111111</td></tr>\n",
       "\t<tr><td>6</td><td>0.13888889</td></tr>\n",
       "\t<tr><td>7</td><td>0.16666667</td></tr>\n",
       "</tbody>\n",
       "</table>\n"
      ],
      "text/latex": [
       "A data.frame: 6 × 2\n",
       "\\begin{tabular}{r|ll}\n",
       " suma\\_caras & probabilidad\\\\\n",
       " <int> & <dbl>\\\\\n",
       "\\hline\n",
       "\t 2 & 0.02777778\\\\\n",
       "\t 3 & 0.05555556\\\\\n",
       "\t 4 & 0.08333333\\\\\n",
       "\t 5 & 0.11111111\\\\\n",
       "\t 6 & 0.13888889\\\\\n",
       "\t 7 & 0.16666667\\\\\n",
       "\\end{tabular}\n"
      ],
      "text/markdown": [
       "\n",
       "A data.frame: 6 × 2\n",
       "\n",
       "| suma_caras &lt;int&gt; | probabilidad &lt;dbl&gt; |\n",
       "|---|---|\n",
       "| 2 | 0.02777778 |\n",
       "| 3 | 0.05555556 |\n",
       "| 4 | 0.08333333 |\n",
       "| 5 | 0.11111111 |\n",
       "| 6 | 0.13888889 |\n",
       "| 7 | 0.16666667 |\n",
       "\n"
      ],
      "text/plain": [
       "  suma_caras probabilidad\n",
       "1 2          0.02777778  \n",
       "2 3          0.05555556  \n",
       "3 4          0.08333333  \n",
       "4 5          0.11111111  \n",
       "5 6          0.13888889  \n",
       "6 7          0.16666667  "
      ]
     },
     "metadata": {},
     "output_type": "display_data"
    }
   ],
   "source": [
    "df <- aggregate(lanzamiento_dos_dados$probs, by=list(lanzamiento_dos_dados$side_sum), FUN=sum)\n",
    "names(df)[1] <- \"suma_caras\"\n",
    "names(df)[2] <- \"probabilidad\"\n",
    "head(df)"
   ]
  },
  {
   "cell_type": "code",
   "execution_count": 122,
   "metadata": {},
   "outputs": [
    {
     "data": {
      "image/png": "[encoded data removed]",
      "text/plain": [
       "plot without title"
      ]
     },
     "metadata": {},
     "output_type": "display_data"
    }
   ],
   "source": [
    "ggplot(data = df, aes(x=suma_caras, y=probabilidad)) +\n",
    "geom_col(width=1, colour='black') +\n",
    "scale_x_discrete(limits=df$suma_caras)"
   ]
  },
  {
   "cell_type": "markdown",
   "metadata": {},
   "source": [
    "### Ejercicio: 8000 boletos para una rifa de $\\$5000.00$ y cada boleto cuesta $\\$2.00$.\n",
    "#### a)  Encontrar la ganancia esperada del comprador de un boleto."
   ]
  },
  {
   "cell_type": "markdown",
   "metadata": {},
   "source": [
    "$$\n",
    "\\begin{array}{ccc}\n",
    "E\\left(X\\right) & = & \\frac{1}{8000}\\left(4998\\right)+\\frac{7999}{8000}\\left(-2\\right)  =  -1.375\n",
    "\\end{array}\n",
    "$$"
   ]
  },
  {
   "cell_type": "code",
   "execution_count": 130,
   "metadata": {},
   "outputs": [
    {
     "data": {
      "text/html": [
       "<table>\n",
       "<caption>A data.frame: 2 × 3</caption>\n",
       "<thead>\n",
       "\t<tr><th scope=col>evento</th><th scope=col>X</th><th scope=col>probabilidad</th></tr>\n",
       "\t<tr><th scope=col>&lt;fct&gt;</th><th scope=col>&lt;dbl&gt;</th><th scope=col>&lt;dbl&gt;</th></tr>\n",
       "</thead>\n",
       "<tbody>\n",
       "\t<tr><td>ganar_rifa </td><td>4998</td><td>0.000125</td></tr>\n",
       "\t<tr><td>perder_rifa</td><td>  -2</td><td>0.999875</td></tr>\n",
       "</tbody>\n",
       "</table>\n"
      ],
      "text/latex": [
       "A data.frame: 2 × 3\n",
       "\\begin{tabular}{r|lll}\n",
       " evento & X & probabilidad\\\\\n",
       " <fct> & <dbl> & <dbl>\\\\\n",
       "\\hline\n",
       "\t ganar\\_rifa  & 4998 & 0.000125\\\\\n",
       "\t perder\\_rifa &   -2 & 0.999875\\\\\n",
       "\\end{tabular}\n"
      ],
      "text/markdown": [
       "\n",
       "A data.frame: 2 × 3\n",
       "\n",
       "| evento &lt;fct&gt; | X &lt;dbl&gt; | probabilidad &lt;dbl&gt; |\n",
       "|---|---|---|\n",
       "| ganar_rifa  | 4998 | 0.000125 |\n",
       "| perder_rifa |   -2 | 0.999875 |\n",
       "\n"
      ],
      "text/plain": [
       "  evento      X    probabilidad\n",
       "1 ganar_rifa  4998 0.000125    \n",
       "2 perder_rifa   -2 0.999875    "
      ]
     },
     "metadata": {},
     "output_type": "display_data"
    }
   ],
   "source": [
    "df = data.frame(evento = c('ganar_rifa', 'perder_rifa'), X = c(4998, -2), probabilidad = c(1/8000, 7999/8000))\n",
    "df"
   ]
  },
  {
   "cell_type": "code",
   "execution_count": 131,
   "metadata": {},
   "outputs": [
    {
     "name": "stdout",
     "output_type": "stream",
     "text": [
      "[1] \"Valor esperado = $ -1.375\"\n"
     ]
    }
   ],
   "source": [
    "valor_esperado_ganancia = sum(df$X * df$probabilidad)\n",
    "print(paste('Valor esperado = $',valor_esperado_ganancia ))"
   ]
  },
  {
   "cell_type": "markdown",
   "metadata": {},
   "source": [
    "---\n",
    "#### b) Hacer la gráfica de la ganancia esperada que tiene una compradora en términos de un número de boletos $n$."
   ]
  },
  {
   "cell_type": "code",
   "execution_count": 169,
   "metadata": {},
   "outputs": [],
   "source": [
    "n <- 8000\n",
    "n_boletos = seq(0, n, 100)\n",
    "n_boletos[1] = 1\n",
    "prob_ganar = 1/n_boletos\n",
    "prob_perder = 1 - prob_ganar\n",
    "premio = 5000\n",
    "costo_boleto = 2\n",
    "ganancia = premio - costo_boleto\n",
    "perdida = -costo_boleto\n",
    "val_esp_ganancia_compradora = (prob_ganar * ganancia) + (prob_perder*perdida)\n",
    "val_esp_ganancia_organizacion = (costo_boleto * n_boletos) - premio"
   ]
  },
  {
   "cell_type": "code",
   "execution_count": 170,
   "metadata": {},
   "outputs": [
    {
     "data": {
      "text/html": [
       "<table>\n",
       "<caption>A data.frame: 6 × 3</caption>\n",
       "<thead>\n",
       "\t<tr><th></th><th scope=col>n_boletos</th><th scope=col>val_esp_ganancia_compradora</th><th scope=col>val_esp_ganancia_organizacion</th></tr>\n",
       "\t<tr><th></th><th scope=col>&lt;dbl&gt;</th><th scope=col>&lt;dbl&gt;</th><th scope=col>&lt;dbl&gt;</th></tr>\n",
       "</thead>\n",
       "<tbody>\n",
       "\t<tr><th scope=row>76</th><td>7500</td><td>-1.333333</td><td>10000</td></tr>\n",
       "\t<tr><th scope=row>77</th><td>7600</td><td>-1.342105</td><td>10200</td></tr>\n",
       "\t<tr><th scope=row>78</th><td>7700</td><td>-1.350649</td><td>10400</td></tr>\n",
       "\t<tr><th scope=row>79</th><td>7800</td><td>-1.358974</td><td>10600</td></tr>\n",
       "\t<tr><th scope=row>80</th><td>7900</td><td>-1.367089</td><td>10800</td></tr>\n",
       "\t<tr><th scope=row>81</th><td>8000</td><td>-1.375000</td><td>11000</td></tr>\n",
       "</tbody>\n",
       "</table>\n"
      ],
      "text/latex": [
       "A data.frame: 6 × 3\n",
       "\\begin{tabular}{r|lll}\n",
       "  & n\\_boletos & val\\_esp\\_ganancia\\_compradora & val\\_esp\\_ganancia\\_organizacion\\\\\n",
       "  & <dbl> & <dbl> & <dbl>\\\\\n",
       "\\hline\n",
       "\t76 & 7500 & -1.333333 & 10000\\\\\n",
       "\t77 & 7600 & -1.342105 & 10200\\\\\n",
       "\t78 & 7700 & -1.350649 & 10400\\\\\n",
       "\t79 & 7800 & -1.358974 & 10600\\\\\n",
       "\t80 & 7900 & -1.367089 & 10800\\\\\n",
       "\t81 & 8000 & -1.375000 & 11000\\\\\n",
       "\\end{tabular}\n"
      ],
      "text/markdown": [
       "\n",
       "A data.frame: 6 × 3\n",
       "\n",
       "| <!--/--> | n_boletos &lt;dbl&gt; | val_esp_ganancia_compradora &lt;dbl&gt; | val_esp_ganancia_organizacion &lt;dbl&gt; |\n",
       "|---|---|---|---|\n",
       "| 76 | 7500 | -1.333333 | 10000 |\n",
       "| 77 | 7600 | -1.342105 | 10200 |\n",
       "| 78 | 7700 | -1.350649 | 10400 |\n",
       "| 79 | 7800 | -1.358974 | 10600 |\n",
       "| 80 | 7900 | -1.367089 | 10800 |\n",
       "| 81 | 8000 | -1.375000 | 11000 |\n",
       "\n"
      ],
      "text/plain": [
       "   n_boletos val_esp_ganancia_compradora val_esp_ganancia_organizacion\n",
       "76 7500      -1.333333                   10000                        \n",
       "77 7600      -1.342105                   10200                        \n",
       "78 7700      -1.350649                   10400                        \n",
       "79 7800      -1.358974                   10600                        \n",
       "80 7900      -1.367089                   10800                        \n",
       "81 8000      -1.375000                   11000                        "
      ]
     },
     "metadata": {},
     "output_type": "display_data"
    }
   ],
   "source": [
    "df = data.frame(n_boletos, val_esp_ganancia_compradora, val_esp_ganancia_organizacion)\n",
    "tail(df)"
   ]
  },
  {
   "cell_type": "code",
   "execution_count": 176,
   "metadata": {},
   "outputs": [
    {
     "data": {
      "image/png": "[encoded data removed]",
      "text/plain": [
       "plot without title"
      ]
     },
     "metadata": {},
     "output_type": "display_data"
    }
   ],
   "source": [
    "ggplot(data= df) + \n",
    "geom_line(mapping = aes(x = n_boletos, y = val_esp_ganancia_compradora)) +\n",
    "labs(title = 'Compradora', x = 'n', y = 'Ganancia') "
   ]
  },
  {
   "cell_type": "markdown",
   "metadata": {},
   "source": [
    "#### c) ¿Cuál debería de ser el premio mínimo para que se pudiese garantizar “salir a mano” al comprar todos los boletos."
   ]
  },
  {
   "cell_type": "code",
   "execution_count": 180,
   "metadata": {},
   "outputs": [
    {
     "data": {
      "text/html": [
       "<ol class=list-inline>\n",
       "\t<li>-4998</li>\n",
       "\t<li>-4800</li>\n",
       "\t<li>-4600</li>\n",
       "\t<li>-4400</li>\n",
       "\t<li>-4200</li>\n",
       "\t<li>-4000</li>\n",
       "\t<li>-3800</li>\n",
       "\t<li>-3600</li>\n",
       "\t<li>-3400</li>\n",
       "\t<li>-3200</li>\n",
       "\t<li>-3000</li>\n",
       "\t<li>-2800</li>\n",
       "\t<li>-2600</li>\n",
       "\t<li>-2400</li>\n",
       "\t<li>-2200</li>\n",
       "\t<li>-2000</li>\n",
       "\t<li>-1800</li>\n",
       "\t<li>-1600</li>\n",
       "\t<li>-1400</li>\n",
       "\t<li>-1200</li>\n",
       "\t<li>-1000</li>\n",
       "\t<li>-800</li>\n",
       "\t<li>-600</li>\n",
       "\t<li>-400</li>\n",
       "\t<li>-200</li>\n",
       "\t<li>0</li>\n",
       "\t<li>200</li>\n",
       "\t<li>400</li>\n",
       "\t<li>600</li>\n",
       "\t<li>800</li>\n",
       "\t<li>1000</li>\n",
       "\t<li>1200</li>\n",
       "\t<li>1400</li>\n",
       "\t<li>1600</li>\n",
       "\t<li>1800</li>\n",
       "\t<li>2000</li>\n",
       "\t<li>2200</li>\n",
       "\t<li>2400</li>\n",
       "\t<li>2600</li>\n",
       "\t<li>2800</li>\n",
       "\t<li>3000</li>\n",
       "\t<li>3200</li>\n",
       "\t<li>3400</li>\n",
       "\t<li>3600</li>\n",
       "\t<li>3800</li>\n",
       "\t<li>4000</li>\n",
       "\t<li>4200</li>\n",
       "\t<li>4400</li>\n",
       "\t<li>4600</li>\n",
       "\t<li>4800</li>\n",
       "\t<li>5000</li>\n",
       "\t<li>5200</li>\n",
       "\t<li>5400</li>\n",
       "\t<li>5600</li>\n",
       "\t<li>5800</li>\n",
       "\t<li>6000</li>\n",
       "\t<li>6200</li>\n",
       "\t<li>6400</li>\n",
       "\t<li>6600</li>\n",
       "\t<li>6800</li>\n",
       "\t<li>7000</li>\n",
       "\t<li>7200</li>\n",
       "\t<li>7400</li>\n",
       "\t<li>7600</li>\n",
       "\t<li>7800</li>\n",
       "\t<li>8000</li>\n",
       "\t<li>8200</li>\n",
       "\t<li>8400</li>\n",
       "\t<li>8600</li>\n",
       "\t<li>8800</li>\n",
       "\t<li>9000</li>\n",
       "\t<li>9200</li>\n",
       "\t<li>9400</li>\n",
       "\t<li>9600</li>\n",
       "\t<li>9800</li>\n",
       "\t<li>10000</li>\n",
       "\t<li>10200</li>\n",
       "\t<li>10400</li>\n",
       "\t<li>10600</li>\n",
       "\t<li>10800</li>\n",
       "\t<li>11000</li>\n",
       "</ol>\n"
      ],
      "text/latex": [
       "\\begin{enumerate*}\n",
       "\\item -4998\n",
       "\\item -4800\n",
       "\\item -4600\n",
       "\\item -4400\n",
       "\\item -4200\n",
       "\\item -4000\n",
       "\\item -3800\n",
       "\\item -3600\n",
       "\\item -3400\n",
       "\\item -3200\n",
       "\\item -3000\n",
       "\\item -2800\n",
       "\\item -2600\n",
       "\\item -2400\n",
       "\\item -2200\n",
       "\\item -2000\n",
       "\\item -1800\n",
       "\\item -1600\n",
       "\\item -1400\n",
       "\\item -1200\n",
       "\\item -1000\n",
       "\\item -800\n",
       "\\item -600\n",
       "\\item -400\n",
       "\\item -200\n",
       "\\item 0\n",
       "\\item 200\n",
       "\\item 400\n",
       "\\item 600\n",
       "\\item 800\n",
       "\\item 1000\n",
       "\\item 1200\n",
       "\\item 1400\n",
       "\\item 1600\n",
       "\\item 1800\n",
       "\\item 2000\n",
       "\\item 2200\n",
       "\\item 2400\n",
       "\\item 2600\n",
       "\\item 2800\n",
       "\\item 3000\n",
       "\\item 3200\n",
       "\\item 3400\n",
       "\\item 3600\n",
       "\\item 3800\n",
       "\\item 4000\n",
       "\\item 4200\n",
       "\\item 4400\n",
       "\\item 4600\n",
       "\\item 4800\n",
       "\\item 5000\n",
       "\\item 5200\n",
       "\\item 5400\n",
       "\\item 5600\n",
       "\\item 5800\n",
       "\\item 6000\n",
       "\\item 6200\n",
       "\\item 6400\n",
       "\\item 6600\n",
       "\\item 6800\n",
       "\\item 7000\n",
       "\\item 7200\n",
       "\\item 7400\n",
       "\\item 7600\n",
       "\\item 7800\n",
       "\\item 8000\n",
       "\\item 8200\n",
       "\\item 8400\n",
       "\\item 8600\n",
       "\\item 8800\n",
       "\\item 9000\n",
       "\\item 9200\n",
       "\\item 9400\n",
       "\\item 9600\n",
       "\\item 9800\n",
       "\\item 10000\n",
       "\\item 10200\n",
       "\\item 10400\n",
       "\\item 10600\n",
       "\\item 10800\n",
       "\\item 11000\n",
       "\\end{enumerate*}\n"
      ],
      "text/markdown": [
       "1. -4998\n",
       "2. -4800\n",
       "3. -4600\n",
       "4. -4400\n",
       "5. -4200\n",
       "6. -4000\n",
       "7. -3800\n",
       "8. -3600\n",
       "9. -3400\n",
       "10. -3200\n",
       "11. -3000\n",
       "12. -2800\n",
       "13. -2600\n",
       "14. -2400\n",
       "15. -2200\n",
       "16. -2000\n",
       "17. -1800\n",
       "18. -1600\n",
       "19. -1400\n",
       "20. -1200\n",
       "21. -1000\n",
       "22. -800\n",
       "23. -600\n",
       "24. -400\n",
       "25. -200\n",
       "26. 0\n",
       "27. 200\n",
       "28. 400\n",
       "29. 600\n",
       "30. 800\n",
       "31. 1000\n",
       "32. 1200\n",
       "33. 1400\n",
       "34. 1600\n",
       "35. 1800\n",
       "36. 2000\n",
       "37. 2200\n",
       "38. 2400\n",
       "39. 2600\n",
       "40. 2800\n",
       "41. 3000\n",
       "42. 3200\n",
       "43. 3400\n",
       "44. 3600\n",
       "45. 3800\n",
       "46. 4000\n",
       "47. 4200\n",
       "48. 4400\n",
       "49. 4600\n",
       "50. 4800\n",
       "51. 5000\n",
       "52. 5200\n",
       "53. 5400\n",
       "54. 5600\n",
       "55. 5800\n",
       "56. 6000\n",
       "57. 6200\n",
       "58. 6400\n",
       "59. 6600\n",
       "60. 6800\n",
       "61. 7000\n",
       "62. 7200\n",
       "63. 7400\n",
       "64. 7600\n",
       "65. 7800\n",
       "66. 8000\n",
       "67. 8200\n",
       "68. 8400\n",
       "69. 8600\n",
       "70. 8800\n",
       "71. 9000\n",
       "72. 9200\n",
       "73. 9400\n",
       "74. 9600\n",
       "75. 9800\n",
       "76. 10000\n",
       "77. 10200\n",
       "78. 10400\n",
       "79. 10600\n",
       "80. 10800\n",
       "81. 11000\n",
       "\n",
       "\n"
      ],
      "text/plain": [
       " [1] -4998 -4800 -4600 -4400 -4200 -4000 -3800 -3600 -3400 -3200 -3000 -2800\n",
       "[13] -2600 -2400 -2200 -2000 -1800 -1600 -1400 -1200 -1000  -800  -600  -400\n",
       "[25]  -200     0   200   400   600   800  1000  1200  1400  1600  1800  2000\n",
       "[37]  2200  2400  2600  2800  3000  3200  3400  3600  3800  4000  4200  4400\n",
       "[49]  4600  4800  5000  5200  5400  5600  5800  6000  6200  6400  6600  6800\n",
       "[61]  7000  7200  7400  7600  7800  8000  8200  8400  8600  8800  9000  9200\n",
       "[73]  9400  9600  9800 10000 10200 10400 10600 10800 11000"
      ]
     },
     "metadata": {},
     "output_type": "display_data"
    }
   ],
   "source": [
    "val_esp_ganancia_organizacion"
   ]
  },
  {
   "cell_type": "code",
   "execution_count": 181,
   "metadata": {},
   "outputs": [
    {
     "data": {
      "text/html": [
       "26"
      ],
      "text/latex": [
       "26"
      ],
      "text/markdown": [
       "26"
      ],
      "text/plain": [
       "[1] 26"
      ]
     },
     "metadata": {},
     "output_type": "display_data"
    }
   ],
   "source": [
    "which(val_esp_ganancia_organizacion==0)"
   ]
  },
  {
   "cell_type": "code",
   "execution_count": 182,
   "metadata": {},
   "outputs": [],
   "source": [
    "indice = which(val_esp_ganancia_organizacion == 0)"
   ]
  },
  {
   "cell_type": "code",
   "execution_count": 184,
   "metadata": {},
   "outputs": [
    {
     "data": {
      "text/html": [
       "2500"
      ],
      "text/latex": [
       "2500"
      ],
      "text/markdown": [
       "2500"
      ],
      "text/plain": [
       "[1] 2500"
      ]
     },
     "metadata": {},
     "output_type": "display_data"
    }
   ],
   "source": [
    "boletos_minimos = n_boletos[indice]\n",
    "boletos_minimos"
   ]
  }
 ],
 "metadata": {
  "kernelspec": {
   "display_name": "R",
   "language": "R",
   "name": "ir"
  },
  "language_info": {
   "codemirror_mode": "r",
   "file_extension": ".r",
   "mimetype": "text/x-r-source",
   "name": "R",
   "pygments_lexer": "r",
   "version": "3.4.4"
  }
 },
 "nbformat": 4,
 "nbformat_minor": 2
}
