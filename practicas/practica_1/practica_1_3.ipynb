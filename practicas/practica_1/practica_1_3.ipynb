{
 "cells": [
  {
   "cell_type": "markdown",
   "metadata": {},
   "source": [
    "# Práctica 1\n",
    "### Ejercicio 3: Ejemplos con Numpy, Matpotlib"
   ]
  },
  {
   "cell_type": "markdown",
   "metadata": {},
   "source": [
    "---\n",
    "---\n",
    "---\n",
    "### Numpy\n",
    "#### Crear un array"
   ]
  },
  {
   "cell_type": "code",
   "execution_count": 18,
   "metadata": {},
   "outputs": [
    {
     "name": "stdout",
     "output_type": "stream",
     "text": [
      "[[ 2. -1.]\n",
      " [-1.  3.]]\n"
     ]
    }
   ],
   "source": [
    "from numpy import array\n",
    "a = array([[2.0, -1.0],[-1.0, 3.0]])\n",
    "print(a)"
   ]
  },
  {
   "cell_type": "code",
   "execution_count": 19,
   "metadata": {},
   "outputs": [
    {
     "name": "stdout",
     "output_type": "stream",
     "text": [
      "[[ 2. -1.]\n",
      " [-1.  3.]]\n"
     ]
    }
   ],
   "source": [
    "b = array([[2, -1],[-1, 3]],float)\n",
    "print(b)"
   ]
  },
  {
   "cell_type": "markdown",
   "metadata": {},
   "source": [
    "#### Función `arange(from, to, increment)`"
   ]
  },
  {
   "cell_type": "code",
   "execution_count": 20,
   "metadata": {},
   "outputs": [
    {
     "name": "stdout",
     "output_type": "stream",
     "text": [
      "[2 4 6 8]\n"
     ]
    }
   ],
   "source": [
    "from numpy import *\n",
    "print(arange(2,10,2))"
   ]
  },
  {
   "cell_type": "code",
   "execution_count": 21,
   "metadata": {},
   "outputs": [
    {
     "name": "stdout",
     "output_type": "stream",
     "text": [
      "[2. 4. 6. 8.]\n"
     ]
    }
   ],
   "source": [
    "print(arange(2.0,10.0,2.0))"
   ]
  },
  {
   "cell_type": "code",
   "execution_count": 22,
   "metadata": {},
   "outputs": [
    {
     "name": "stdout",
     "output_type": "stream",
     "text": [
      "[0. 0. 0.]\n"
     ]
    }
   ],
   "source": [
    "print(zeros(3))"
   ]
  },
  {
   "cell_type": "code",
   "execution_count": 23,
   "metadata": {},
   "outputs": [
    {
     "name": "stdout",
     "output_type": "stream",
     "text": [
      "[0 0 0]\n"
     ]
    }
   ],
   "source": [
    "print(zeros((3),int))"
   ]
  },
  {
   "cell_type": "code",
   "execution_count": 24,
   "metadata": {},
   "outputs": [
    {
     "name": "stdout",
     "output_type": "stream",
     "text": [
      "[[1. 1.]\n",
      " [1. 1.]]\n"
     ]
    }
   ],
   "source": [
    "print(ones((2,2)))"
   ]
  },
  {
   "cell_type": "markdown",
   "metadata": {},
   "source": [
    "---\n",
    "#### Las funciones matemáticas de numpy las podemos aplicar a arrays"
   ]
  },
  {
   "cell_type": "code",
   "execution_count": 25,
   "metadata": {},
   "outputs": [
    {
     "name": "stdout",
     "output_type": "stream",
     "text": [
      "[1. 2. 3. 4.]\n"
     ]
    }
   ],
   "source": [
    "from numpy import array,sqrt,sin\n",
    "a = array([1.0, 4.0, 9.0, 16.0])\n",
    "print(sqrt(a))"
   ]
  },
  {
   "cell_type": "code",
   "execution_count": 26,
   "metadata": {},
   "outputs": [
    {
     "name": "stdout",
     "output_type": "stream",
     "text": [
      "[ 0.84147098 -0.7568025   0.41211849 -0.28790332]\n"
     ]
    }
   ],
   "source": [
    "print(sin(a))"
   ]
  },
  {
   "cell_type": "markdown",
   "metadata": {},
   "source": [
    "Esto no lo podemos hacer utilizando las funciones del módulo math"
   ]
  },
  {
   "cell_type": "code",
   "execution_count": 27,
   "metadata": {},
   "outputs": [
    {
     "name": "stdout",
     "output_type": "stream",
     "text": [
      "2.0\n"
     ]
    }
   ],
   "source": [
    "from numpy import array\n",
    "from math import sqrt\n",
    "a = array([1.0, 4.0, 9.0, 16.0])\n",
    "print(sqrt(a[1]))"
   ]
  },
  {
   "cell_type": "code",
   "execution_count": 28,
   "metadata": {},
   "outputs": [
    {
     "ename": "TypeError",
     "evalue": "only size-1 arrays can be converted to Python scalars",
     "output_type": "error",
     "traceback": [
      "\u001b[0;31m---------------------------------------------------------------------------\u001b[0m",
      "\u001b[0;31mTypeError\u001b[0m                                 Traceback (most recent call last)",
      "\u001b[0;32m<ipython-input-28-29539b5bdc2d>\u001b[0m in \u001b[0;36m<module>\u001b[0;34m\u001b[0m\n\u001b[0;32m----> 1\u001b[0;31m \u001b[0mprint\u001b[0m\u001b[0;34m(\u001b[0m\u001b[0msqrt\u001b[0m\u001b[0;34m(\u001b[0m\u001b[0ma\u001b[0m\u001b[0;34m)\u001b[0m\u001b[0;34m)\u001b[0m\u001b[0;34m\u001b[0m\u001b[0;34m\u001b[0m\u001b[0m\n\u001b[0m",
      "\u001b[0;31mTypeError\u001b[0m: only size-1 arrays can be converted to Python scalars"
     ]
    }
   ],
   "source": [
    "print(sqrt(a))"
   ]
  },
  {
   "cell_type": "markdown",
   "metadata": {},
   "source": [
    "---\n",
    "## Módulo de álgebra lineal"
   ]
  },
  {
   "cell_type": "markdown",
   "metadata": {},
   "source": [
    "El módulo `numpy` viene con un mòdulo de àlgebra lineal que se llama `linalg`. Éste automatiza tareas que llegan a ser tediosas en la prćtica, por ejemplo\n",
    "- encontrar la matriz inversa\n",
    "- resolver un sistema de ecuaciones"
   ]
  },
  {
   "cell_type": "code",
   "execution_count": 29,
   "metadata": {},
   "outputs": [
    {
     "name": "stdout",
     "output_type": "stream",
     "text": [
      "[[0.33333333 0.16666667 0.        ]\n",
      " [0.16666667 0.45833333 0.25      ]\n",
      " [0.         0.25       0.5       ]]\n"
     ]
    }
   ],
   "source": [
    "from numpy import array\n",
    "from numpy.linalg import inv,solve\n",
    "A = array([[ 4.0, -2.0, 1.0],\n",
    "           [-2.0, 4.0, -2.0],\n",
    "           [ 1.0, -2.0, 3.0]])\n",
    "b = array([1.0, 4.0, 2.0])\n",
    "\n",
    "#calcular e imprimir la matriz inversa de A\n",
    "print(inv(A))"
   ]
  },
  {
   "cell_type": "code",
   "execution_count": 30,
   "metadata": {},
   "outputs": [
    {
     "name": "stdout",
     "output_type": "stream",
     "text": [
      "[1.  2.5 2. ]\n"
     ]
    }
   ],
   "source": [
    "#solucuionar [A]{x} = {b}\n",
    "print(solve(A,b))"
   ]
  },
  {
   "cell_type": "markdown",
   "metadata": {},
   "source": [
    "### Código más eficiente con numpy: vectorizing algorithms\n",
    "\n",
    "A veces, las propiedades de las funciones matemáticas de numpy nos permiten evitar la escritura de ciclos innecesarios en nuestros programas\n",
    "\n",
    "$\\sum_{i=1}^{10} t_i$\t"
   ]
  },
  {
   "cell_type": "markdown",
   "metadata": {},
   "source": [
    "---\n",
    "## Plotting with `matplotlib.pyplot`"
   ]
  },
  {
   "cell_type": "code",
   "execution_count": 31,
   "metadata": {},
   "outputs": [
    {
     "data": {
      "image/png": "[encoded data removed]",
      "text/plain": [
       "<Figure size 432x288 with 1 Axes>"
      ]
     },
     "metadata": {
      "needs_background": "light"
     },
     "output_type": "display_data"
    }
   ],
   "source": [
    "import matplotlib.pyplot as plt\n",
    "from numpy import arange,sin,cos\n",
    "x = arange(0.0,6.2,0.2)\n",
    "plt.plot(x,sin(x),'o-',x,cos(x),'^-')   #graficar utilizando marcadores específicos\n",
    "plt.xlabel('x')                         # agrear etiqueta al eje horizontal\n",
    "plt.legend(('sine','cosine'),loc = 0)   #agrear la layenda en una ubicación\n",
    "plt.grid(True) \n",
    "plt.show()"
   ]
  },
  {
   "cell_type": "markdown",
   "metadata": {},
   "source": [
    "### Podemos tener más de una gráfica en una misma imagen"
   ]
  },
  {
   "cell_type": "code",
   "execution_count": 32,
   "metadata": {},
   "outputs": [
    {
     "data": {
      "image/png": "[encoded data removed]",
      "text/plain": [
       "<Figure size 432x288 with 2 Axes>"
      ]
     },
     "metadata": {
      "needs_background": "light"
     },
     "output_type": "display_data"
    }
   ],
   "source": [
    "import matplotlib.pyplot as plt\n",
    "from numpy import arange, sin ,cos\n",
    "\n",
    "x = arange(0.0,6.2,0.2)\n",
    "plt.subplot(2,1,1)\n",
    "plt.plot(x,sin(x),'s-')               #ocupamos squares como símbolo (-s)\n",
    "plt.xlabel('x');plt.ylabel('sin(x)')\n",
    "plt.grid(True)\n",
    "plt.subplot(2,1,2)\n",
    "plt.plot(x,cos(x),'x-')               #ocupamos taches como símbolo (-x)\n",
    "plt.xlabel('x');plt.ylabel('cos(x)')\n",
    "plt.grid(False)                        #No mostrar cuadrícula\n",
    "plt.show()"
   ]
  },
  {
   "cell_type": "markdown",
   "metadata": {},
   "source": [
    "### Todo esto se ve más cool cuando no es en Jupyter... Matplotlib nos lanza una pequeña GUI para interactuar con las gráficas"
   ]
  },
  {
   "cell_type": "code",
   "execution_count": null,
   "metadata": {},
   "outputs": [],
   "source": []
  },
  {
   "cell_type": "code",
   "execution_count": null,
   "metadata": {},
   "outputs": [],
   "source": []
  },
  {
   "cell_type": "code",
   "execution_count": null,
   "metadata": {},
   "outputs": [],
   "source": []
  }
 ],
 "metadata": {
  "kernelspec": {
   "display_name": "Python 3",
   "language": "python",
   "name": "python3"
  },
  "language_info": {
   "codemirror_mode": {
    "name": "ipython",
    "version": 3
   },
   "file_extension": ".py",
   "mimetype": "text/x-python",
   "name": "python",
   "nbconvert_exporter": "python",
   "pygments_lexer": "ipython3",
   "version": "3.6.8"
  }
 },
 "nbformat": 4,
 "nbformat_minor": 2
}
