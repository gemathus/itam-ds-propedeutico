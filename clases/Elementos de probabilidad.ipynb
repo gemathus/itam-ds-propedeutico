{
 "cells": [
  {
   "cell_type": "markdown",
   "metadata": {},
   "source": [
    "# Probabilidad\n",
    "Tipos de experimentos:\n",
    "- Determinísticos\n",
    "- Aleatorios\n",
    "\n",
    "#### Experimentos aleatorios\n",
    "- ¿Justos, honestos?\n",
    "- ¿Simétricos, independientes?"
   ]
  },
  {
   "cell_type": "code",
   "execution_count": 2,
   "metadata": {},
   "outputs": [],
   "source": [
    "options(repr.plot.width=4, repr.plot.height=4) #esta línea sólo se ejecuta para jupyterlab con R"
   ]
  },
  {
   "cell_type": "code",
   "execution_count": 19,
   "metadata": {},
   "outputs": [
    {
     "name": "stderr",
     "output_type": "stream",
     "text": [
      "\n",
      "Attaching package: ‘combinat’\n",
      "\n",
      "The following object is masked from ‘package:utils’:\n",
      "\n",
      "    combn\n",
      "\n",
      "Loading required package: fAsianOptions\n",
      "Loading required package: timeDate\n",
      "Loading required package: timeSeries\n",
      "Loading required package: fBasics\n",
      "Loading required package: fOptions\n",
      "\n",
      "Attaching package: ‘prob’\n",
      "\n",
      "The following objects are masked from ‘package:base’:\n",
      "\n",
      "    intersect, setdiff, union\n",
      "\n"
     ]
    }
   ],
   "source": [
    "library(combinat)\n",
    "library(prob)"
   ]
  },
  {
   "cell_type": "markdown",
   "metadata": {},
   "source": [
    "### Tipos de experimentos\n",
    "Se tienen dos tipos: **determinísticos y aleatorios.** Un experimento determinístico es aquel cuyo resultado puede ser predicho con seguridad antes de realizarlo, por ejemplo: combinar hidrógeno y oxígeno o sumar $2+3$. Un experimento aleatorio es aquel cuyo resultado está determinado por el azar, por esto no es posible predecir su resultado antes de realizarlo. Ejemplos de experimentos aleatorios se encuentran lanzar una moneda, lanzar un dado, lanzar un dardo a un tiro al blanco, número de semáforos de color rojo que te encontrarás al ir a casa, cuántas hormigas caminan por la acera de peatones en un tiempo.\n",
    "\n",
    "El aleatorio le interesa a la probalidad estudiar porque no se puede predicir su *outcome*.\n",
    "\n",
    "\n",
    "Dado un experimento, el conjunto de resultados posibles se le conoce como **ESPACIO DE RESULTADOS o ESPACIO MUESTRAL**\n",
    "\n",
    "Experimento 1: lanzar una moneda\n",
    "$$\n",
    "S_2 = \\{ A, S \\}\n",
    "$$\n",
    "\n",
    "Experimento 2: lanzar dos monedas\n",
    "$$\n",
    "S_1 = \\{ AA, AS, SA, SS \\}\n",
    "$$\n",
    "\n",
    "En el caso de lanzar una moneda, no pueden salir simultáneamnete aguila y sol, por lo tanto son *mutuamente exclutentes*"
   ]
  },
  {
   "cell_type": "markdown",
   "metadata": {},
   "source": [
    "---\n",
    "### Ejemplo\n",
    "1. Experimento: lanzar un oso de peluche al aire. Entonces el espacio muestral es:"
   ]
  },
  {
   "cell_type": "code",
   "execution_count": 5,
   "metadata": {},
   "outputs": [
    {
     "data": {
      "text/html": [
       "<table>\n",
       "<caption>A data.frame: 4 × 1</caption>\n",
       "<thead>\n",
       "\t<tr><th scope=col>cae</th></tr>\n",
       "\t<tr><th scope=col>&lt;fct&gt;</th></tr>\n",
       "</thead>\n",
       "<tbody>\n",
       "\t<tr><td>panza abajo </td></tr>\n",
       "\t<tr><td>panza arriba</td></tr>\n",
       "\t<tr><td>sentado     </td></tr>\n",
       "\t<tr><td>de cabeza   </td></tr>\n",
       "</tbody>\n",
       "</table>\n"
      ],
      "text/latex": [
       "A data.frame: 4 × 1\n",
       "\\begin{tabular}{r|l}\n",
       " cae\\\\\n",
       " <fct>\\\\\n",
       "\\hline\n",
       "\t panza abajo \\\\\n",
       "\t panza arriba\\\\\n",
       "\t sentado     \\\\\n",
       "\t de cabeza   \\\\\n",
       "\\end{tabular}\n"
      ],
      "text/markdown": [
       "\n",
       "A data.frame: 4 × 1\n",
       "\n",
       "| cae &lt;fct&gt; |\n",
       "|---|\n",
       "| panza abajo  |\n",
       "| panza arriba |\n",
       "| sentado      |\n",
       "| de cabeza    |\n",
       "\n"
      ],
      "text/plain": [
       "  cae         \n",
       "1 panza abajo \n",
       "2 panza arriba\n",
       "3 sentado     \n",
       "4 de cabeza   "
      ]
     },
     "metadata": {},
     "output_type": "display_data"
    }
   ],
   "source": [
    "S = data.frame(cae=c('panza abajo', 'panza arriba', 'sentado', 'de cabeza'))\n",
    "S"
   ]
  },
  {
   "cell_type": "markdown",
   "metadata": {},
   "source": [
    "---\n",
    "### Ejemplo\n",
    "2. Experimento: sacar canicas de una urna.\n",
    "\n",
    "Supóngase que se tiene una urna con tres canicas con etiquetas $1, 2, 3$ respectivamente. Se sacarán $2$ canicas.\n",
    "\n",
    "¿Cómo realizar el experimento en R?\n",
    "En el paquete prob se tiene la función urnsamples la cual tiene argumentos $x, size, replace, ordered$. El argumento $x$ representa la urna de la cual se realizará el muestreo, $size$ representa el tamaño de la muestra, $replace$ y $ordered$ son argumentos lógicos y especifican cómo se debe realizar el muestreo.\n",
    "\n",
    "Con reemplazo y orden\n",
    "Como el experimento es con reemplazo se pueden sacar cualquiera de las canicas $1, 2, 3$ en cualquier extracción, además como es con orden se llevará un registro del orden de las extracciones que se realizan."
   ]
  },
  {
   "cell_type": "code",
   "execution_count": 13,
   "metadata": {},
   "outputs": [
    {
     "name": "stdout",
     "output_type": "stream",
     "text": [
      "  X1 X2\n",
      "1  1  1\n",
      "2  2  1\n",
      "3  3  1\n",
      "4  1  2\n",
      "5  2  2\n",
      "6  3  2\n",
      "7  1  3\n",
      "8  2  3\n",
      "9  3  3\n"
     ]
    }
   ],
   "source": [
    "print(urnsamples(1:3, size=2, replace=T, ordered=T))"
   ]
  },
  {
   "cell_type": "code",
   "execution_count": 14,
   "metadata": {},
   "outputs": [
    {
     "name": "stdout",
     "output_type": "stream",
     "text": [
      "  X1 X2\n",
      "1  1  2\n",
      "2  2  1\n",
      "3  1  3\n",
      "4  3  1\n",
      "5  2  3\n",
      "6  3  2\n"
     ]
    }
   ],
   "source": [
    "print(urnsamples(1:3, size=2, replace=F, ordered=T))"
   ]
  },
  {
   "cell_type": "code",
   "execution_count": 15,
   "metadata": {},
   "outputs": [
    {
     "name": "stdout",
     "output_type": "stream",
     "text": [
      "  X1 X2\n",
      "1  1  2\n",
      "2  1  3\n",
      "3  2  3\n"
     ]
    }
   ],
   "source": [
    "print(urnsamples(1:3, size=2, replace=F, ordered=F))"
   ]
  },
  {
   "cell_type": "markdown",
   "metadata": {},
   "source": [
    "---\n",
    "$E$ es un evento\n",
    "- Colección de resultados del experimento\n",
    "- E es un subconjunto del espacio muetral $S$ (espacio de resultados)\n",
    "\n",
    "Para el experimento de lanzar una moneda...\n",
    "$$\n",
    "S = \\{ A, S \\}\n",
    "$$\n",
    "$$\n",
    "E_1 = \\{ A \\}\n",
    "$$\n",
    "$$\n",
    "E_2 = \\{ S \\}\n",
    "$$\n",
    "$$\n",
    "E_3 = \\{ A, S \\}\n",
    "$$\n",
    "$$\n",
    "E_4 = \\{ \\phi \\}\n",
    "$$\n",
    "\n",
    "> Un evento es mutuamento excluyente del otro si no ocurren simultáneamente\n",
    "---\n",
    "### Ejemplo\n",
    "1) Lanzamiento de dos monedas"
   ]
  },
  {
   "cell_type": "code",
   "execution_count": 16,
   "metadata": {},
   "outputs": [
    {
     "name": "stdout",
     "output_type": "stream",
     "text": [
      "  toss1 toss2 probs\n",
      "1     H     H  0.25\n",
      "2     T     H  0.25\n",
      "3     H     T  0.25\n"
     ]
    }
   ],
   "source": [
    "S <- tosscoin(2, makespace = TRUE) #lanzamiento de dos monedas\n",
    "print(S[1:3, ]) #tres eventos"
   ]
  },
  {
   "cell_type": "markdown",
   "metadata": {},
   "source": [
    "### A diferencia de Python, los índices en R comienzan en 1\n",
    "---"
   ]
  },
  {
   "cell_type": "code",
   "execution_count": 17,
   "metadata": {},
   "outputs": [],
   "source": [
    "S <- cards()"
   ]
  },
  {
   "cell_type": "code",
   "execution_count": 20,
   "metadata": {},
   "outputs": [
    {
     "name": "stdout",
     "output_type": "stream",
     "text": [
      "   rank  suit\n",
      "27    2 Heart\n",
      "28    3 Heart\n",
      "29    4 Heart\n",
      "30    5 Heart\n",
      "31    6 Heart\n",
      "32    7 Heart\n",
      "33    8 Heart\n",
      "34    9 Heart\n",
      "35   10 Heart\n",
      "36    J Heart\n",
      "37    Q Heart\n",
      "38    K Heart\n",
      "39    A Heart\n"
     ]
    }
   ],
   "source": [
    "print(subset(S, suit == 'Heart'))"
   ]
  },
  {
   "cell_type": "code",
   "execution_count": 22,
   "metadata": {},
   "outputs": [
    {
     "name": "stdout",
     "output_type": "stream",
     "text": [
      "   rank    suit\n",
      "6     7    Club\n",
      "7     8    Club\n",
      "8     9    Club\n",
      "19    7 Diamond\n",
      "20    8 Diamond\n",
      "21    9 Diamond\n",
      "32    7   Heart\n",
      "33    8   Heart\n",
      "34    9   Heart\n",
      "45    7   Spade\n",
      "46    8   Spade\n",
      "47    9   Spade\n"
     ]
    }
   ],
   "source": [
    "print(subset(S, rank %in% 7:9)) #la función %in% checa si cada elemento de un vector\n",
    "                                #está contenido en algún lugar de otro, en este caso \n",
    "                                #se checa para cada renglón de la columna rank de S\n",
    "                                #que se encuentre en el vector c(7,8,9)"
   ]
  },
  {
   "cell_type": "markdown",
   "metadata": {},
   "source": [
    "**3) Lanzamiento de tres dados**"
   ]
  },
  {
   "cell_type": "code",
   "execution_count": 24,
   "metadata": {},
   "outputs": [
    {
     "name": "stdout",
     "output_type": "stream",
     "text": [
      "    X1 X2 X3\n",
      "216  6  6  6\n"
     ]
    }
   ],
   "source": [
    "print(subset(rolldie(3), X1+X2+X3 > 17)) #también son aceptadas expresiones matemáticas"
   ]
  },
  {
   "cell_type": "markdown",
   "metadata": {},
   "source": [
    "---\n",
    "## Modelos de probabilidad\n",
    "### ¿Cómo definir una probabilida de ocurrencia de los eventos?\n",
    "**4 propuestas**\n",
    "1. Modelo de la teoría de la medida\n",
    "    - Se defina una medida de probabilidad. Se le llama **medida** porque mide qué tan grande es un conjunto, la cual es una función matemática que satisface ciertos axiomas y propiedades.\n",
    "2. Modelo frecuentista\n",
    "    - Se caracteriza porque va a definar la proabilidad de ocurrencia de un evento en un experimento a partir de realizar repetidamente el experimento bajo las mismas condiciones.\n",
    "    - Hace uso de la **ley fuerte de los grandes números**: si $n \\rightarrow \\infty$ entonces $\\frac{n_E}{n} \\rightarrow P(E)$.\n",
    "3. Modelo subjetivo\n",
    "    - Considera la probabilidad como un \"grado de creencia\" que ocurrirá el evento de acuerdo a la persona que realizará el experimento.\n",
    "    - Está basada en el conocimiento individual en un punto en el tiempo y al adquirir más conocimiento, la estimación de la probabilidad se actualiza. Esta actualización se hace con la regla de Bayes.\n",
    "4. Modelo equiprobable\n",
    "    - Otorga igual probabilidad a todos los resultados del experimento.\n",
    "    - Este modelo es posible utilizar si se pueden enumerar todos los resultados del experimento\n",
    "    \n",
    "---\n",
    "# Ejercicios\n",
    "### 1) Durante 5 años el profesor X ha impartido el mismo curso. En total ha tenido 500 alumnos, de los cuales 80 se han dado de baja, 200 han reprobado y 220 han aprobado. Nos encontramos a uno de estos exalumnos. ¿Cuál es la probabilidad de que éste se haya dado de baja en el curso?\n",
    "---\n",
    "### Manos de poker posibles en una baraja"
   ]
  },
  {
   "cell_type": "code",
   "execution_count": 6,
   "metadata": {},
   "outputs": [
    {
     "data": {
      "text/html": [
       "2598960"
      ],
      "text/latex": [
       "2598960"
      ],
      "text/markdown": [
       "2598960"
      ],
      "text/plain": [
       "[1] 2598960"
      ]
     },
     "metadata": {},
     "output_type": "display_data"
    }
   ],
   "source": [
    "dim(combn(52,5))[2]"
   ]
  },
  {
   "cell_type": "code",
   "execution_count": 7,
   "metadata": {},
   "outputs": [],
   "source": [
    "comb = function(n, x) {\n",
    "  factorial(n) / factorial(n-x) / factorial(x)\n",
    "}"
   ]
  },
  {
   "cell_type": "code",
   "execution_count": 8,
   "metadata": {},
   "outputs": [
    {
     "data": {
      "text/html": [
       "2598960.00000003"
      ],
      "text/latex": [
       "2598960.00000003"
      ],
      "text/markdown": [
       "2598960.00000003"
      ],
      "text/plain": [
       "[1] 2598960"
      ]
     },
     "metadata": {},
     "output_type": "display_data"
    }
   ],
   "source": [
    "comb(52,5)"
   ]
  },
  {
   "cell_type": "code",
   "execution_count": 11,
   "metadata": {},
   "outputs": [
    {
     "data": {
      "text/html": [
       "220"
      ],
      "text/latex": [
       "220"
      ],
      "text/markdown": [
       "220"
      ],
      "text/plain": [
       "[1] 220"
      ]
     },
     "metadata": {},
     "output_type": "display_data"
    }
   ],
   "source": [
    "dim(combn(12,3))[2]"
   ]
  },
  {
   "cell_type": "code",
   "execution_count": 12,
   "metadata": {},
   "outputs": [
    {
     "data": {
      "text/html": [
       "1"
      ],
      "text/latex": [
       "1"
      ],
      "text/markdown": [
       "1"
      ],
      "text/plain": [
       "[1] 1"
      ]
     },
     "metadata": {},
     "output_type": "display_data"
    }
   ],
   "source": [
    "dim(combn(4,4))[2]"
   ]
  },
  {
   "cell_type": "code",
   "execution_count": 13,
   "metadata": {},
   "outputs": [
    {
     "data": {
      "text/html": [
       "12"
      ],
      "text/latex": [
       "12"
      ],
      "text/markdown": [
       "12"
      ],
      "text/plain": [
       "[1] 12"
      ]
     },
     "metadata": {},
     "output_type": "display_data"
    }
   ],
   "source": [
    "dim(combn(12,1))[2]"
   ]
  },
  {
   "cell_type": "code",
   "execution_count": 14,
   "metadata": {},
   "outputs": [
    {
     "data": {
      "text/html": [
       "<ol class=list-inline>\n",
       "\t<li>3</li>\n",
       "\t<li>220</li>\n",
       "</ol>\n"
      ],
      "text/latex": [
       "\\begin{enumerate*}\n",
       "\\item 3\n",
       "\\item 220\n",
       "\\end{enumerate*}\n"
      ],
      "text/markdown": [
       "1. 3\n",
       "2. 220\n",
       "\n",
       "\n"
      ],
      "text/plain": [
       "[1]   3 220"
      ]
     },
     "metadata": {},
     "output_type": "display_data"
    }
   ],
   "source": [
    "dim(combn(12,3))"
   ]
  },
  {
   "cell_type": "code",
   "execution_count": 15,
   "metadata": {},
   "outputs": [
    {
     "data": {
      "text/html": [
       "220"
      ],
      "text/latex": [
       "220"
      ],
      "text/markdown": [
       "220"
      ],
      "text/plain": [
       "[1] 220"
      ]
     },
     "metadata": {},
     "output_type": "display_data"
    }
   ],
   "source": [
    "choose(12,3)"
   ]
  },
  {
   "cell_type": "markdown",
   "metadata": {},
   "source": [
    "\n",
    "2) Experimento: elección de artistas, pinturas y luz...\n",
    "\n",
    "11 artistas enviarán sus portafolios con contenido de 7 pinturas cada uno para competir en una exhibición de arte. La directora de la galería sólo tiene espacio para acomodar 12 pinturas de los tres primeros lugares a lo largo de una fila en tres paredes que se encuentran una al lado de otra. La directora le dará a cada persona ganadora una pared para exhibir sus pinturas y cada artista las acomodará de acuerdo al orden que elija (al artista le importa el orden). Además en las paredes se puede proyectar un color de los 31 distintos colores de luz para la exhibición. ¿Cuántos diferentes arreglos entre artistas que ganan los tres primeros lugares, elección de sus pinturas y colores se pueden tener en la exhibición de la galería?\n",
    "\n",
    "Se tiene el siguiente análisis del problema:\n",
    "\n",
    "Se eligen 3 artistas de los 11 que ganan los 3 primeros lugares, esta es una elección sin reemplazo y con orden: $_{11}P_3$.\n",
    "\n",
    "Cada artista elige 4 pinturas de sus 7 pinturas de su portafolio y sí le interesa el orden de exhibición de sus pinturas, esta es una elección sin reemplazo y con orden: $_7P_4$.\n",
    "\n",
    "Cada artista elige la luz de su preferencia, esta es una elección con reemplazo y con orden: $31*31*31$.\n",
    "\n",
    "Entonces:"
   ]
  },
  {
   "cell_type": "code",
   "execution_count": 17,
   "metadata": {},
   "outputs": [
    {
     "data": {
      "text/html": [
       "<ol class=list-inline>\n",
       "\t<li>1</li>\n",
       "\t<li>2</li>\n",
       "</ol>\n"
      ],
      "text/latex": [
       "\\begin{enumerate*}\n",
       "\\item 1\n",
       "\\item 2\n",
       "\\end{enumerate*}\n"
      ],
      "text/markdown": [
       "1. 1\n",
       "2. 2\n",
       "\n",
       "\n"
      ],
      "text/plain": [
       "[1] 1 2"
      ]
     },
     "metadata": {},
     "output_type": "display_data"
    }
   ],
   "source": [
    "c(1,2)"
   ]
  },
  {
   "cell_type": "code",
   "execution_count": 20,
   "metadata": {},
   "outputs": [],
   "source": [
    "L <- cards() #Es un dataframe\n",
    "M <- urnsamples(L, size = 2, replace=F, ordered = F) #extraer dos canicas\n",
    "                                                     #sin reemplazo y sin orden\n",
    "N <- probspace(M) #modelo equiprobable"
   ]
  },
  {
   "cell_type": "code",
   "execution_count": null,
   "metadata": {},
   "outputs": [],
   "source": []
  }
 ],
 "metadata": {
  "kernelspec": {
   "display_name": "R",
   "language": "R",
   "name": "ir"
  },
  "language_info": {
   "codemirror_mode": "r",
   "file_extension": ".r",
   "mimetype": "text/x-r-source",
   "name": "R",
   "pygments_lexer": "r",
   "version": "3.6.0"
  }
 },
 "nbformat": 4,
 "nbformat_minor": 2
}
