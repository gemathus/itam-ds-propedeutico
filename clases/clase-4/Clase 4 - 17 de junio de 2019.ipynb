{
 "cells": [
  {
   "cell_type": "markdown",
   "metadata": {},
   "source": [
    "# Clase 4 - 17 de junio de 2019\n",
    "---\n",
    "\n",
    "\n",
    "Aproximemos a la función $\\frac{1}{x}$ en el intervalo $[1,2]$ con polinomios de Taylor de orden $n$ con $n \\in \\{0,1,2\\}$ con centro en $x_0=1.5$. Los polinomios de Taylor son:\n",
    "\n",
    "$$P_0(x) = f(x_0) = 2/3 \\quad \\text{(constante)}$$\n",
    "$$P_1(x) = f(x_0) + f^{(1)}(x_0)(x-x_0) = \\frac{2}{3} - \\frac{1}{x_0^2}(x-x_0) \\quad \\text{(lineal)}$$\n",
    "$$P_2(x) = f(x_0) + f^{(1)}(x_0)(x-x_0) + \\frac{f^{(2)}(x_0)(x-x_0)^2}{2} = 2 - \\frac{1}{x_0^2}(x-x_0) + \\frac{2}{x_0^3}(x-x_0)^2 \\quad \\text{(cuadrático)}$$\n",
    "\n",
    "\n",
    "#### Ejercicio 1 Graficar la función y los polinomios constante, lineal y cuadrático en una sola gráfica con matplotlib en el intervalo [1,2]. \n",
    "***"
   ]
  },
  {
   "cell_type": "code",
   "execution_count": 6,
   "metadata": {},
   "outputs": [
    {
     "data": {
      "image/png": "[encoded data removed]",
      "text/plain": [
       "<Figure size 432x288 with 1 Axes>"
      ]
     },
     "metadata": {
      "needs_background": "light"
     },
     "output_type": "display_data"
    }
   ],
   "source": [
    "import matplotlib.pyplot as plt\n",
    "import numpy as np\n",
    "\n",
    "def f(x):\n",
    "    return 1/x\n",
    "\n",
    "def polynomial_0(x0):\n",
    "    return 2/3\n",
    "\n",
    "def polynomial_1(x0, x):\n",
    "    return polynomial_0(x0) - ((1/(x0**2))*(x - x0))\n",
    "\n",
    "def polynomial_2(x0, x):\n",
    "    return polynomial_1(x0,x) + ((2/(x0**3))*((x-x0)**2))\n",
    "                                \n",
    "x = 1.9\n",
    "x0 = 1.5\n",
    "\n",
    "xvals = np.linspace(1,2,100) #crear un rango de 100 números entre 1 y 2\n",
    "yvals1 = list(map(f, xvals))\n",
    "yvals2 = list(map(polynomial_0, xvals))\n",
    "yvals3 = list(map(polynomial_1, [1.5]*100, xvals))\n",
    "yvals4 = list(map(polynomial_2, [1.5]*100, xvals))\n",
    "\n",
    "plt.plot(xvals, yvals1) #naranja\n",
    "plt.plot(xvals, yvals2) #azul \n",
    "plt.plot(xvals, yvals3)\n",
    "plt.plot(xvals, yvals4)\n",
    "plt.show()"
   ]
  },
  {
   "cell_type": "markdown",
   "metadata": {},
   "source": [
    "***\n",
    "\n",
    "#### Ejercicio 2 ¿Cuánto es la aproximación de los polinomios en x=1.9? Calcula el error relativo de tus aproximaciones.\n"
   ]
  },
  {
   "cell_type": "code",
   "execution_count": 7,
   "metadata": {},
   "outputs": [
    {
     "data": {
      "text/plain": [
       "'\\nPENDIENTE! TERMINAR\\n'"
      ]
     },
     "execution_count": 7,
     "metadata": {},
     "output_type": "execute_result"
    }
   ],
   "source": [
    "x = 1.9\n",
    "x0 = 1.5\n",
    "'''\n",
    "PENDIENTE! TERMINAR\n",
    "'''"
   ]
  },
  {
   "cell_type": "markdown",
   "metadata": {},
   "source": [
    "---\n",
    "\n",
    "\n",
    "\n",
    "> El teorema de taylor ayuda a proximar funciones con polinomios de taylor... Nos ayuda a encontrar expresiones para las dereivadas de una función"
   ]
  },
  {
   "cell_type": "markdown",
   "metadata": {},
   "source": [
    "\n",
    "Ejercicio: realizar una gráfica de error relativo vs h (h en el eje horizontal) para aproximar la segunda derivada de\n",
    "\n",
    "$f(x)=e^{-x}$ en $x=1$ con $h \\in \\{10^{-16}, 10^{-14}, \\dots , 10^{-1}\\}.$ Valor a aproximar: $f^{(2)}(1) = e^{-1}$."
   ]
  },
  {
   "cell_type": "code",
   "execution_count": 8,
   "metadata": {},
   "outputs": [],
   "source": [
    "import math\n",
    "import matplotlib.pyplot as plt\n",
    "\n",
    "hs = [1e-16, 1e-15, 1e-14, 1e-13, 1e-12, 1e-11, 1e-10, 1e-9, 1e-8, 1e-7, 1e-6, 1e-5, 1e-4, 1e-3, 1e-2, 1e-1 ]"
   ]
  },
  {
   "cell_type": "code",
   "execution_count": 9,
   "metadata": {},
   "outputs": [],
   "source": [
    "def function_p(h):\n",
    "    return ((math.e**(-1 - h)) - math.e**(-1))/h"
   ]
  },
  {
   "cell_type": "code",
   "execution_count": 10,
   "metadata": {},
   "outputs": [],
   "source": [
    "def f_ast():\n",
    "    return 1 / math.e"
   ]
  },
  {
   "cell_type": "code",
   "execution_count": 11,
   "metadata": {},
   "outputs": [],
   "source": [
    "#yvals1 = list(map(f, xvals))"
   ]
  },
  {
   "cell_type": "code",
   "execution_count": 12,
   "metadata": {},
   "outputs": [],
   "source": [
    "def relative_error(p):\n",
    "    return abs(p - f_ast()) / abs(f_ast())"
   ]
  },
  {
   "cell_type": "code",
   "execution_count": 16,
   "metadata": {},
   "outputs": [
    {
     "name": "stdout",
     "output_type": "stream",
     "text": [
      "[0.0, -0.38857805861880473, -0.36637359812630166, -0.3674838211509268, -0.3679279103607769, -0.36787795032466875, -0.3678796156592057, -0.367879449125752, -0.36787943802352174, -0.3678794230355109, -0.36787925716819103, -0.36787760178125234, -0.36786104781250106, -0.3676955627487377, -0.3660461599919007, -0.35008357473362783]\n"
     ]
    }
   ],
   "source": [
    "f_ps = list(map(function_p, hs))\n",
    "print(f_ps)\n"
   ]
  },
  {
   "cell_type": "code",
   "execution_count": 14,
   "metadata": {},
   "outputs": [
    {
     "name": "stdout",
     "output_type": "stream",
     "text": [
      "[1.0, 2.056264675681391, 1.9959066942138826, 1.9989245932872581, 2.0001317529166083, 1.9999959474583064, 2.0000004743069164, 2.0000000216220553, 1.9999999914430646, 1.9999999507014272, 1.9999994998273056, 1.9999950000190712, 1.9999500016666256, 1.9995001666249164, 1.995016625083196, 1.9516258196404046]\n"
     ]
    }
   ],
   "source": [
    "errores = list(map(relative_error, f_ps))\n",
    "print(errores)"
   ]
  },
  {
   "cell_type": "code",
   "execution_count": 15,
   "metadata": {},
   "outputs": [
    {
     "data": {
      "image/png": "[encoded data removed]",
      "text/plain": [
       "<Figure size 432x288 with 1 Axes>"
      ]
     },
     "metadata": {
      "needs_background": "light"
     },
     "output_type": "display_data"
    }
   ],
   "source": [
    "import matplotlib.pyplot as plt\n",
    "logs = list(map(math.log, errores))\n",
    "\n",
    "plt.plot(hs, logs)\n",
    "plt.show()"
   ]
  }
 ],
 "metadata": {
  "kernelspec": {
   "display_name": "Python 3",
   "language": "python",
   "name": "python3"
  },
  "language_info": {
   "codemirror_mode": {
    "name": "ipython",
    "version": 3
   },
   "file_extension": ".py",
   "mimetype": "text/x-python",
   "name": "python",
   "nbconvert_exporter": "python",
   "pygments_lexer": "ipython3",
   "version": "3.6.8"
  }
 },
 "nbformat": 4,
 "nbformat_minor": 2
}
